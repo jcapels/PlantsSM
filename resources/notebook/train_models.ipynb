{
 "cells": [
  {
   "cell_type": "code",
   "execution_count": 12,
   "metadata": {
    "collapsed": true,
    "pycharm": {
     "name": "#%%\n"
    }
   },
   "outputs": [
    {
     "name": "stderr",
     "output_type": "stream",
     "text": [
      "/home/joao/Desktop/PlantsSM/src/plants_sm/io/csv.py:59: DtypeWarning: Columns (3) have mixed types. Specify dtype option on import or set low_memory=False.\n",
      "  return pd.read_csv(self.buffer, **self.kwargs)\n",
      "/home/joao/Desktop/PlantsSM/src/plants_sm/io/csv.py:59: DtypeWarning: Columns (3) have mixed types. Specify dtype option on import or set low_memory=False.\n",
      "  return pd.read_csv(self.buffer, **self.kwargs)\n"
     ]
    },
    {
     "name": "stdout",
     "output_type": "stream",
     "text": [
      "Fitting 7 folds for each of 100 candidates, totalling 700 fits\n",
      "[[153   9]\n",
      " [ 13   7]]\n",
      "FP: [13.  9.]\n",
      "Fn: [ 9. 13.]\n",
      "FN: [ 9. 13.]\n",
      "TN: [  7. 153.]\n",
      "FPR: [0.65       0.05555556]\n",
      "FNR: [0.05555556 0.65      ]\n",
      "              precision    recall  f1-score   support\n",
      "\n",
      "           0       0.92      0.94      0.93       162\n",
      "           1       0.44      0.35      0.39        20\n",
      "\n",
      "    accuracy                           0.88       182\n",
      "   macro avg       0.68      0.65      0.66       182\n",
      "weighted avg       0.87      0.88      0.87       182\n",
      "\n",
      "0.38888888888888884\n",
      "0.35\n",
      "0.4375\n",
      "0.6472222222222223\n",
      "\n"
     ]
    }
   ],
   "source": [
    "\n",
    "\n",
    "from plants_sm.unsupervised.tsne import SklearnTSNE\n",
    "from plants_sm.unsupervised.pca import SklearnPCA\n",
    "import numpy as np\n",
    "from sklearn.preprocessing import StandardScaler\n",
    "from plants_sm.data_exploration.boxplot import Boxplot\n",
    "from plants_sm.data_structures.dataset import PandasDataset\n",
    "\n",
    "dataset2 = PandasDataset(labels_field=[\"class\"],\n",
    "                         representation_field=\"sequence_test\",\n",
    "                         instances_ids_field=\"gene\", features_fields=slice(8, -1))\n",
    "dataset2.from_csv(\"../data/train_set.tsv\")\n",
    "\n",
    "scaler = StandardScaler()\n",
    "data = scaler.fit_transform(dataset2.features)\n",
    "\n",
    "from sklearn.metrics import confusion_matrix, classification_report, f1_score, recall_score, precision_score, roc_auc_score\n",
    "\n",
    "\n",
    "def train_and_test(model, train_data, train_labels, test_data, test_labels):\n",
    "    model.fit(train_data, train_labels)\n",
    "    predictions = model.predict(test_data)\n",
    "\n",
    "    cnf_matrix = confusion_matrix(test_labels, predictions)\n",
    "\n",
    "    print(cnf_matrix)\n",
    "\n",
    "    FP = cnf_matrix.sum(axis=0) - np.diag(cnf_matrix)\n",
    "    FN = cnf_matrix.sum(axis=1) - np.diag(cnf_matrix)\n",
    "    TP = np.diag(cnf_matrix)\n",
    "    TN = cnf_matrix.sum() - (FP + FN + TP)\n",
    "\n",
    "    FP = FP.astype(float)\n",
    "    print('FP: ' + str(FP))\n",
    "    FN = FN.astype(float)\n",
    "    print('Fn: ' + str(FN))\n",
    "    TP = TP.astype(float)\n",
    "    print('FN: ' + str(FN))\n",
    "    TN = TN.astype(float)\n",
    "    print('TN: ' + str(TN))\n",
    "    # false positive rate\n",
    "    FPR = FP / (FP + TN)\n",
    "    print('FPR: ' + str(FPR))\n",
    "    # False negative rate\n",
    "    FNR = FN / (TP + FN)\n",
    "    print('FNR: ' + str(FNR))\n",
    "\n",
    "    print(classification_report(test_labels, predictions))\n",
    "    print(f1_score(test_labels, predictions, average=\"binary\"))\n",
    "    print(recall_score(test_labels, predictions, average=\"binary\"))\n",
    "    print(precision_score(test_labels, predictions, average=\"binary\"))\n",
    "    print(roc_auc_score(test_labels, predictions))\n",
    "    print()\n",
    "    return model\n",
    "\n",
    "\n",
    "dataset2 = PandasDataset(labels_field=[\"class\"],\n",
    "                         representation_field=\"sequence_test\",\n",
    "                         instances_ids_field=\"gene\", features_fields=slice(8, -1))\n",
    "dataset2.from_csv(\"../data/train_set.tsv\")\n",
    "dataset_test = PandasDataset(labels_field=[\"class\"],\n",
    "                             representation_field=\"sequence_test\",\n",
    "                             instances_ids_field=\"gene\", features_fields=slice(8, -1))\n",
    "dataset_test.from_csv(\"../data/test_set.tsv\")\n",
    "scaler = StandardScaler()\n",
    "data = scaler.fit_transform(dataset2.features)\n",
    "\n",
    "data_test = scaler.transform(dataset_test.features)\n",
    "# Model evaluation\n",
    "from sklearn.model_selection import RandomizedSearchCV\n",
    "from sklearn.svm import SVC\n",
    "from sklearn.neighbors import KNeighborsClassifier\n",
    "from sklearn.ensemble import RandomForestClassifier\n",
    "\n",
    "train_labels = np.select([dataset2.labels[:, 0] == \"SM\", dataset2.labels[:, 0] == \"GM\"], [1, 0], dataset2.labels[:, 0])\n",
    "\n",
    "test_labels = np.select([dataset_test.labels[:, 0] == \"SM\", dataset_test.labels[:, 0] == \"GM\"], [1, 0],\n",
    "                        dataset_test.labels[:, 0])\n",
    "\n",
    "param_space = {\"bootstrap\": [True, False],\n",
    "               \"max_depth\": [6, 8, 10, 12, 14],\n",
    "               \"max_features\": ['auto', 'sqrt', 'log2'],\n",
    "               \"min_samples_leaf\": [2, 3, 4],\n",
    "               \"min_samples_split\": [2, 3, 4, 5],\n",
    "               \"n_estimators\": [100, 200, 300, 400, 500, 600, 700, 800, 900, 1000],\n",
    "               \"class_weight\": [{0: 1, 1: 8}]\n",
    "               }\n",
    "\n",
    "forest_clf = RandomForestClassifier(class_weight={0: 1, 1: 8})\n",
    "\n",
    "forest_rand_search = RandomizedSearchCV(forest_clf, param_space, n_iter=100,\n",
    "                                        scoring=\"f1\", verbose=True, cv=7,\n",
    "                                        n_jobs=8, random_state=42)\n",
    "model = train_and_test(forest_rand_search, data, train_labels.astype('int'), data_test, test_labels.astype('int'))\n",
    "\n",
    "#model = KNeighborsClassifier(n_neighbors=5, weights=\"distance\")\n",
    "#model = SVC(C=2,kernel=\"sigmoid\", class_weight={0:1, 1: 8})\n",
    "#model = train_and_test(forest_rand_search, data, train_labels.astype('int'), data_test, test_labels.astype('int'))"
   ]
  },
  {
   "cell_type": "code",
   "execution_count": 9,
   "outputs": [
    {
     "data": {
      "text/plain": "['accuracy',\n 'adjusted_mutual_info_score',\n 'adjusted_rand_score',\n 'average_precision',\n 'balanced_accuracy',\n 'completeness_score',\n 'explained_variance',\n 'f1',\n 'f1_macro',\n 'f1_micro',\n 'f1_samples',\n 'f1_weighted',\n 'fowlkes_mallows_score',\n 'homogeneity_score',\n 'jaccard',\n 'jaccard_macro',\n 'jaccard_micro',\n 'jaccard_samples',\n 'jaccard_weighted',\n 'max_error',\n 'mutual_info_score',\n 'neg_brier_score',\n 'neg_log_loss',\n 'neg_mean_absolute_error',\n 'neg_mean_absolute_percentage_error',\n 'neg_mean_gamma_deviance',\n 'neg_mean_poisson_deviance',\n 'neg_mean_squared_error',\n 'neg_mean_squared_log_error',\n 'neg_median_absolute_error',\n 'neg_root_mean_squared_error',\n 'normalized_mutual_info_score',\n 'precision',\n 'precision_macro',\n 'precision_micro',\n 'precision_samples',\n 'precision_weighted',\n 'r2',\n 'rand_score',\n 'recall',\n 'recall_macro',\n 'recall_micro',\n 'recall_samples',\n 'recall_weighted',\n 'roc_auc',\n 'roc_auc_ovo',\n 'roc_auc_ovo_weighted',\n 'roc_auc_ovr',\n 'roc_auc_ovr_weighted',\n 'top_k_accuracy',\n 'v_measure_score']"
     },
     "execution_count": 9,
     "metadata": {},
     "output_type": "execute_result"
    }
   ],
   "source": [
    "import sklearn\n",
    "\n",
    "sorted(sklearn.metrics.SCORERS.keys())"
   ],
   "metadata": {
    "collapsed": false,
    "pycharm": {
     "name": "#%%\n"
    }
   }
  },
  {
   "cell_type": "code",
   "execution_count": 11,
   "outputs": [
    {
     "name": "stderr",
     "output_type": "stream",
     "text": [
      "/home/joao/anaconda3/envs/PlantsSM/lib/python3.7/site-packages/dask/core.py:119: DtypeWarning: Columns (3) have mixed types.Specify dtype option on import or set low_memory=False.\n",
      "  return func(*(_execute_task(a, cache) for a in args))\n"
     ]
    },
    {
     "data": {
      "text/plain": "Counter({'GM-GM': 117, 'GM-SM': 45, 'SM-SM': 16, 'SM-GM': 4})"
     },
     "execution_count": 11,
     "metadata": {},
     "output_type": "execute_result"
    }
   ],
   "source": [
    "from collections import Counter\n",
    "\n",
    "dataset_test = PandasDataset(labels_field=[\"class\"],\n",
    "                             representation_field=\"sequence_test\",\n",
    "                             instances_ids_field=\"gene\", features_fields=slice(8, -1))\n",
    "dataset_test.from_csv(\"../data/test_set.tsv\")\n",
    "\n",
    "dataset_all_predicted = PandasDataset(labels_field=[\"union class\", \"Aracyc class\"],\n",
    "                         representation_field=\"sequence_test\",\n",
    "                         instances_ids_field=\"gene\", features_fields=slice(8, None))\n",
    "\n",
    "dataset_all_predicted.from_csv(\"../data/dados_propythia.csv\")\n",
    "\n",
    "\n",
    "dataframe = dataset_all_predicted.dataframe\n",
    "df = dataframe[dataframe[\"gene\"].isin(dataset_test.identifiers)]\n",
    "\n",
    "Counter(df[\"union class\"])\n"
   ],
   "metadata": {
    "collapsed": false,
    "pycharm": {
     "name": "#%%\n"
    }
   }
  }
 ],
 "metadata": {
  "kernelspec": {
   "display_name": "Python 3",
   "language": "python",
   "name": "python3"
  },
  "language_info": {
   "codemirror_mode": {
    "name": "ipython",
    "version": 2
   },
   "file_extension": ".py",
   "mimetype": "text/x-python",
   "name": "python",
   "nbconvert_exporter": "python",
   "pygments_lexer": "ipython2",
   "version": "2.7.6"
  }
 },
 "nbformat": 4,
 "nbformat_minor": 0
}