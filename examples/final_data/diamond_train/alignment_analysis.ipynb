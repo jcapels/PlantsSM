{
 "cells": [
  {
   "cell_type": "markdown",
   "source": [
    "# Alignments' performance analysis"
   ],
   "metadata": {
    "collapsed": false
   },
   "id": "544d2f0303e3e49d"
  },
  {
   "cell_type": "markdown",
   "source": [
    "## Conversions to fasta"
   ],
   "metadata": {
    "collapsed": false
   },
   "id": "ec2786dfc54ca0a5"
  },
  {
   "cell_type": "code",
   "execution_count": 1,
   "outputs": [
    {
     "name": "stderr",
     "output_type": "stream",
     "text": [
      "\n",
      "KeyboardInterrupt\n",
      "\n"
     ]
    }
   ],
   "source": [
    "import pandas as pd\n",
    "\n",
    "train = pd.read_csv('../train.csv')\n",
    "#validation = pd.read_csv('../validation.csv')"
   ],
   "metadata": {
    "collapsed": false,
    "ExecuteTime": {
     "end_time": "2023-08-08T16:53:17.506718251Z",
     "start_time": "2023-08-08T16:52:30.066514155Z"
    }
   },
   "id": "19c1dc7f08e7a4d1"
  },
  {
   "cell_type": "code",
   "execution_count": 3,
   "outputs": [],
   "source": [
    "train.iloc[:, :3].to_csv('../train_reduced.csv', index=False)"
   ],
   "metadata": {
    "collapsed": false,
    "ExecuteTime": {
     "end_time": "2023-08-08T10:29:10.996548890Z",
     "start_time": "2023-08-08T10:29:09.615242119Z"
    }
   },
   "id": "5acb6f04ef6262ac"
  },
  {
   "cell_type": "code",
   "execution_count": 9,
   "outputs": [
    {
     "name": "stderr",
     "output_type": "stream",
     "text": [
      "/tmp/ipykernel_6976/1041909268.py:1: DtypeWarning: Columns (4,5) have mixed types. Specify dtype option on import or set low_memory=False.\n",
      "  test = pd.read_csv('final_data/test.csv')\n"
     ]
    }
   ],
   "source": [
    "test = pd.read_csv('../test.csv')\n",
    "test.iloc[:, :3].to_csv('../test_reduced.csv', index=False)"
   ],
   "metadata": {
    "collapsed": false,
    "ExecuteTime": {
     "end_time": "2023-08-08T10:36:05.763001139Z",
     "start_time": "2023-08-08T10:35:50.062787358Z"
    }
   },
   "id": "5101013045dd4c2d"
  },
  {
   "cell_type": "code",
   "execution_count": 4,
   "outputs": [],
   "source": [
    "import pandas as pd\n",
    "train = pd.read_csv('train_reduced.csv')\n",
    "validation = pd.read_csv('validation_reduced.csv')\n",
    "pd.concat([train, validation]).to_csv('train_validation_reduced.csv', index=False)"
   ],
   "metadata": {
    "collapsed": false,
    "ExecuteTime": {
     "end_time": "2023-08-08T10:32:04.196849511Z",
     "start_time": "2023-08-08T10:32:01.315067245Z"
    }
   },
   "id": "9114b9d9c037a6cc"
  },
  {
   "cell_type": "code",
   "execution_count": 2,
   "outputs": [],
   "source": [
    "from plants_sm.utilities.utils import convert_csv_to_fasta\n",
    "\n",
    "convert_csv_to_fasta('../train_reduced.csv', 'sequence', 'accession', 'database.fasta')"
   ],
   "metadata": {
    "collapsed": false,
    "ExecuteTime": {
     "end_time": "2023-08-08T16:55:13.848909499Z",
     "start_time": "2023-08-08T16:55:03.271464918Z"
    }
   },
   "id": "26b4f60feec02eb4"
  },
  {
   "cell_type": "code",
   "execution_count": 10,
   "outputs": [],
   "source": [
    "convert_csv_to_fasta('../test_reduced.csv', 'sequence', 'accession', 'test.fasta')"
   ],
   "metadata": {
    "collapsed": false,
    "ExecuteTime": {
     "end_time": "2023-08-08T10:36:09.114575050Z",
     "start_time": "2023-08-08T10:36:05.765229620Z"
    }
   },
   "id": "4e45d581e1c13465"
  },
  {
   "cell_type": "markdown",
   "source": [
    "## Database creation"
   ],
   "metadata": {
    "collapsed": false
   },
   "id": "8243bf01763c1dfb"
  },
  {
   "cell_type": "code",
   "execution_count": 1,
   "outputs": [],
   "source": [
    "from plants_sm.alignments.alignment import Diamond\n",
    "\n",
    "diamond = Diamond(\"train_database\")"
   ],
   "metadata": {
    "collapsed": false,
    "ExecuteTime": {
     "end_time": "2023-08-08T16:56:45.582173542Z",
     "start_time": "2023-08-08T16:56:45.446496918Z"
    }
   },
   "id": "37adead89b67ed98"
  },
  {
   "cell_type": "code",
   "execution_count": 2,
   "outputs": [
    {
     "name": "stderr",
     "output_type": "stream",
     "text": [
      "diamond v2.0.14.152 (C) Max Planck Society for the Advancement of Science\n",
      "Documentation, support and updates available at http://www.diamondsearch.org\n",
      "Please cite: http://dx.doi.org/10.1038/s41592-021-01101-x Nature Methods (2021)\n",
      "\n",
      "#CPU threads: 8\n",
      "Scoring parameters: (Matrix=BLOSUM62 Lambda=0.267 K=0.041 Penalties=11/1)\n",
      "Database input file: database.fasta\n",
      "Opening the database file...  [0.008s]\n",
      "Loading sequences...  [0.262s]\n",
      "Masking sequences...  [0.461s]\n",
      "Writing sequences...  [0.05s]\n",
      "Hashing sequences...  [0.021s]\n",
      "Loading sequences...  [0s]\n",
      "Writing trailer...  [0.002s]\n",
      "Closing the input file...  [0s]\n",
      "Closing the database file...  [0.212s]\n",
      "\n",
      "Database sequences  222591\n",
      "  Database letters  93658859\n",
      "     Database hash  b4336dd3ec5f38ce127188226eb91b7c\n",
      "        Total time  1.020000s\n"
     ]
    }
   ],
   "source": [
    "diamond.create_database('database.fasta')"
   ],
   "metadata": {
    "collapsed": false,
    "ExecuteTime": {
     "end_time": "2023-08-08T16:56:47.789405474Z",
     "start_time": "2023-08-08T16:56:46.760961092Z"
    }
   },
   "id": "3acc17ef3278be3d"
  },
  {
   "cell_type": "code",
   "execution_count": 4,
   "outputs": [
    {
     "name": "stderr",
     "output_type": "stream",
     "text": [
      "diamond v2.0.14.152 (C) Max Planck Society for the Advancement of Science\n",
      "Documentation, support and updates available at http://www.diamondsearch.org\n",
      "Please cite: http://dx.doi.org/10.1038/s41592-021-01101-x Nature Methods (2021)\n",
      "\n",
      "#CPU threads: 8\n",
      "Scoring parameters: (Matrix=BLOSUM62 Lambda=0.267 K=0.041 Penalties=11/1)\n",
      "Temporary directory: \n",
      "#Target sequences to report alignments for: 1\n",
      "Opening the database...  [0.05s]\n",
      "Database: train_database.dmnd (type: Diamond database, sequences: 222591, letters: 93658859)\n",
      "Block size = 2000000000\n",
      "Opening the input file...  [0.011s]\n",
      "Opening the output file...  [0s]\n",
      "Loading query sequences...  [0.084s]\n",
      "Masking queries...  [0.16s]\n",
      "Algorithm: Double-indexed\n",
      "Building query histograms...  [0.115s]\n",
      "Allocating buffers...  [0s]\n",
      "Loading reference sequences...  [0.095s]\n",
      "Masking reference...  [0.435s]\n",
      "Initializing temporary storage...  [0s]\n",
      "Building reference histograms...  [0.403s]\n",
      "Allocating buffers...  [0s]\n",
      "Processing query block 1, reference block 1/1, shape 1/2, index chunk 1/4.\n",
      "Building reference seed array...  [0.181s]\n",
      "Building query seed array...  [0.072s]\n",
      "Computing hash join...  [0.061s]\n",
      "Masking low complexity seeds...  [0.027s]\n",
      "Searching alignments...  [0.581s]\n",
      "Processing query block 1, reference block 1/1, shape 1/2, index chunk 2/4.\n",
      "Building reference seed array...  [0.204s]\n",
      "Building query seed array...  [0.076s]\n",
      "Computing hash join...  [0.06s]\n",
      "Masking low complexity seeds...  [0.029s]\n",
      "Searching alignments...  [0.465s]\n",
      "Processing query block 1, reference block 1/1, shape 1/2, index chunk 3/4.\n",
      "Building reference seed array...  [0.196s]\n",
      "Building query seed array...  [0.093s]\n",
      "Computing hash join...  [0.058s]\n",
      "Masking low complexity seeds...  [0.025s]\n",
      "Searching alignments...  [0.404s]\n",
      "Processing query block 1, reference block 1/1, shape 1/2, index chunk 4/4.\n",
      "Building reference seed array...  [0.173s]\n",
      "Building query seed array...  [0.057s]\n",
      "Computing hash join...  [0.062s]\n",
      "Masking low complexity seeds...  [0.028s]\n",
      "Searching alignments...  [0.412s]\n",
      "Processing query block 1, reference block 1/1, shape 2/2, index chunk 1/4.\n",
      "Building reference seed array...  [0.155s]\n",
      "Building query seed array...  [0.062s]\n",
      "Computing hash join...  [0.063s]\n",
      "Masking low complexity seeds...  [0.027s]\n",
      "Searching alignments...  [0.438s]\n",
      "Processing query block 1, reference block 1/1, shape 2/2, index chunk 2/4.\n",
      "Building reference seed array...  [0.238s]\n",
      "Building query seed array...  [0.084s]\n",
      "Computing hash join...  [0.073s]\n",
      "Masking low complexity seeds...  [0.033s]\n",
      "Searching alignments...  [0.401s]\n",
      "Processing query block 1, reference block 1/1, shape 2/2, index chunk 3/4.\n",
      "Building reference seed array...  [0.232s]\n",
      "Building query seed array...  [0.084s]\n",
      "Computing hash join...  [0.059s]\n",
      "Masking low complexity seeds...  [0.022s]\n",
      "Searching alignments...  [0.377s]\n",
      "Processing query block 1, reference block 1/1, shape 2/2, index chunk 4/4.\n",
      "Building reference seed array...  [0.182s]\n",
      "Building query seed array...  [0.065s]\n",
      "Computing hash join...  [0.073s]\n",
      "Masking low complexity seeds...  [0.038s]\n",
      "Searching alignments...  [0.359s]\n",
      "Deallocating buffers...  [0.008s]\n",
      "Clearing query masking...  [0.003s]\n",
      "Computing alignments...  [19.884s]\n",
      "Deallocating reference...  [0.004s]\n",
      "Loading reference sequences...  [0s]\n",
      "Deallocating buffers...  [0.003s]\n",
      "Deallocating queries...  [0.001s]\n",
      "Loading query sequences...  [0s]\n",
      "Closing the input file...  [0s]\n",
      "Closing the output file...  [0.001s]\n",
      "Cleaning up...  [0s]\n",
      "Total time = 27.66s\n",
      "Reported 73877 pairwise alignments, 73877 HSPs.\n",
      "73877 queries aligned.\n"
     ]
    }
   ],
   "source": [
    "diamond.run(\"../test.fasta\", \"test_database.tsv\", evalue=1e-5, num_hits=1)"
   ],
   "metadata": {
    "collapsed": false,
    "ExecuteTime": {
     "end_time": "2023-08-08T16:57:38.104197394Z",
     "start_time": "2023-08-08T16:57:10.145709436Z"
    }
   },
   "id": "9affeb0978ae3f70"
  },
  {
   "cell_type": "code",
   "execution_count": 6,
   "outputs": [],
   "source": [
    "import pandas as pd\n",
    "\n",
    "diamond.results = pd.read_csv('test_database.tsv', sep='\\t')"
   ],
   "metadata": {
    "collapsed": false,
    "ExecuteTime": {
     "end_time": "2023-08-08T16:59:02.676174298Z",
     "start_time": "2023-08-08T16:59:02.615282739Z"
    }
   },
   "id": "a421641267e8f7de"
  },
  {
   "cell_type": "code",
   "execution_count": 8,
   "outputs": [
    {
     "name": "stderr",
     "output_type": "stream",
     "text": [
      "/tmp/ipykernel_22798/2997233878.py:1: DtypeWarning: Columns (4,5) have mixed types. Specify dtype option on import or set low_memory=False.\n",
      "  database = pd.read_csv('../train.csv')\n"
     ]
    }
   ],
   "source": [
    "database = pd.read_csv('../train.csv')"
   ],
   "metadata": {
    "collapsed": false,
    "ExecuteTime": {
     "end_time": "2023-08-08T17:00:07.408263505Z",
     "start_time": "2023-08-08T16:59:17.927428076Z"
    }
   },
   "id": "cef9095024a06cf2"
  },
  {
   "cell_type": "code",
   "execution_count": 9,
   "outputs": [
    {
     "name": "stderr",
     "output_type": "stream",
     "text": [
      "/home/bisbii/Desktop/PHD/PlantsSM/src/plants_sm/alignments/alignment.py:38: SettingWithCopyWarning: \n",
      "A value is trying to be set on a copy of a slice from a DataFrame\n",
      "\n",
      "See the caveats in the documentation: https://pandas.pydata.org/pandas-docs/stable/user_guide/indexing.html#returning-a-view-versus-a-copy\n",
      "  database_reduced.drop(columns=[\"sequence\"], inplace=True)\n"
     ]
    }
   ],
   "source": [
    "diamond.associate_to_ec(database, \"test_diamond_predictions.csv\")"
   ],
   "metadata": {
    "collapsed": false,
    "ExecuteTime": {
     "end_time": "2023-08-08T17:01:26.071921947Z",
     "start_time": "2023-08-08T17:00:19.343879442Z"
    }
   },
   "id": "6b128f92a5b5f70e"
  },
  {
   "cell_type": "markdown",
   "source": [
    "## Alignments' performance analysis"
   ],
   "metadata": {
    "collapsed": false
   },
   "id": "c035c442c9d588ba"
  },
  {
   "cell_type": "code",
   "execution_count": 11,
   "outputs": [
    {
     "name": "stderr",
     "output_type": "stream",
     "text": [
      "/tmp/ipykernel_22798/713750523.py:2: DtypeWarning: Columns (4,5) have mixed types. Specify dtype option on import or set low_memory=False.\n",
      "  test = pd.read_csv('../test.csv')\n"
     ]
    },
    {
     "data": {
      "text/plain": "(75566, 2779)"
     },
     "execution_count": 11,
     "metadata": {},
     "output_type": "execute_result"
    }
   ],
   "source": [
    "import pandas as pd\n",
    "test = pd.read_csv('../test.csv')\n",
    "test.shape"
   ],
   "metadata": {
    "collapsed": false,
    "ExecuteTime": {
     "end_time": "2023-08-08T17:01:57.912673117Z",
     "start_time": "2023-08-08T17:01:41.657054206Z"
    }
   },
   "id": "5852ce175df2c9e6"
  },
  {
   "cell_type": "code",
   "execution_count": 12,
   "outputs": [
    {
     "name": "stderr",
     "output_type": "stream",
     "text": [
      "/tmp/ipykernel_22798/3398146152.py:1: DtypeWarning: Columns (13,14) have mixed types. Specify dtype option on import or set low_memory=False.\n",
      "  predictions = pd.read_csv(\"test_diamond_predictions.csv\")\n"
     ]
    },
    {
     "data": {
      "text/plain": "(73877, 2788)"
     },
     "execution_count": 12,
     "metadata": {},
     "output_type": "execute_result"
    }
   ],
   "source": [
    "predictions = pd.read_csv(\"test_diamond_predictions.csv\")\n",
    "predictions.shape"
   ],
   "metadata": {
    "collapsed": false,
    "ExecuteTime": {
     "end_time": "2023-08-08T17:02:17.764223987Z",
     "start_time": "2023-08-08T17:01:59.889741697Z"
    }
   },
   "id": "87766727bd2bae39"
  },
  {
   "cell_type": "code",
   "execution_count": 13,
   "outputs": [
    {
     "data": {
      "text/plain": "Index(['qseqid', 'accession', 'pident', 'length', 'mismatch', 'gapopen',\n       'qstart', 'qend', 'sstart', 'evalue',\n       ...\n       '7.4.2.5', '7.4.2.8', '7.5.2.11', '7.6.2.1', '7.6.2.11', '7.6.2.13',\n       '7.6.2.2', '7.6.2.3', '7.6.2.5', '7.6.2.8'],\n      dtype='object', length=2788)"
     },
     "execution_count": 13,
     "metadata": {},
     "output_type": "execute_result"
    }
   ],
   "source": [
    "predictions.columns"
   ],
   "metadata": {
    "collapsed": false,
    "ExecuteTime": {
     "end_time": "2023-08-08T17:02:20.176010591Z",
     "start_time": "2023-08-08T17:02:20.170828529Z"
    }
   },
   "id": "124baa1c03fca742"
  },
  {
   "cell_type": "code",
   "execution_count": 14,
   "outputs": [],
   "source": [
    "predictions.drop(columns=['accession', 'pident', 'length', 'mismatch', 'gapopen',\n",
    "       'qstart', 'qend', 'sstart', 'evalue', 'bitscore', 'name'], inplace=True)"
   ],
   "metadata": {
    "collapsed": false,
    "ExecuteTime": {
     "end_time": "2023-08-08T17:02:21.962589623Z",
     "start_time": "2023-08-08T17:02:21.708535463Z"
    }
   },
   "id": "c9fb430ac405ed8a"
  },
  {
   "cell_type": "code",
   "execution_count": 15,
   "outputs": [
    {
     "data": {
      "text/plain": "Index(['qseqid', 'EC', 'EC1', 'EC2', 'EC3', 'EC4', '1', '2', '3', '4',\n       ...\n       '7.4.2.5', '7.4.2.8', '7.5.2.11', '7.6.2.1', '7.6.2.11', '7.6.2.13',\n       '7.6.2.2', '7.6.2.3', '7.6.2.5', '7.6.2.8'],\n      dtype='object', length=2777)"
     },
     "execution_count": 15,
     "metadata": {},
     "output_type": "execute_result"
    }
   ],
   "source": [
    "predictions.columns"
   ],
   "metadata": {
    "collapsed": false,
    "ExecuteTime": {
     "end_time": "2023-08-08T17:02:23.330521340Z",
     "start_time": "2023-08-08T17:02:23.327413864Z"
    }
   },
   "id": "469978c5ca237e68"
  },
  {
   "cell_type": "code",
   "execution_count": 16,
   "outputs": [
    {
     "data": {
      "text/plain": "    accession        name                                           sequence  \\\n129    P83855  ACLP_MOUSE                              GVYMEIGRCRXEAXRRRKEAV   \n232    O53582  AFTB_MYCTU  MVRVSLWLSVTAVAVLFGWGSWQRRWIADDGLIVLRTVRNLLAGNG...   \n246    P82955  AHPF_ACICA                                   MLDQNIXTQLXAYLER   \n253    B7LM79   AIS_ESCF3  MKLKKHVAVLLISFLCLIGLVTQHAWSSNGLPRIDNKTLAKLSLQH...   \n255    Q8Z543   AIS_SALTI  MLAFTLRFIKNKRYFAILAGALVIIAGLASQHAWSGNGLPQINGKA...   \n\n          EC EC1  EC2    EC3      EC4    1    2  ...  7.4.2.5  7.4.2.8  \\\n129  4.6.1.1   4  4.6  4.6.1  4.6.1.1  0.0  0.0  ...      0.0      0.0   \n232  2.4.2.-   2  2.4  2.4.2        0  0.0  1.0  ...      0.0      0.0   \n246  1.8.1.-   1  1.8  1.8.1        0  1.0  0.0  ...      0.0      0.0   \n253  3.1.3.-   3  3.1  3.1.3        0  0.0  0.0  ...      0.0      0.0   \n255  3.1.3.-   3  3.1  3.1.3        0  0.0  0.0  ...      0.0      0.0   \n\n     7.5.2.11  7.6.2.1  7.6.2.11  7.6.2.13  7.6.2.2  7.6.2.3  7.6.2.5  7.6.2.8  \n129       0.0      0.0       0.0       0.0      0.0      0.0      0.0      0.0  \n232       0.0      0.0       0.0       0.0      0.0      0.0      0.0      0.0  \n246       0.0      0.0       0.0       0.0      0.0      0.0      0.0      0.0  \n253       0.0      0.0       0.0       0.0      0.0      0.0      0.0      0.0  \n255       0.0      0.0       0.0       0.0      0.0      0.0      0.0      0.0  \n\n[5 rows x 2779 columns]",
      "text/html": "<div>\n<style scoped>\n    .dataframe tbody tr th:only-of-type {\n        vertical-align: middle;\n    }\n\n    .dataframe tbody tr th {\n        vertical-align: top;\n    }\n\n    .dataframe thead th {\n        text-align: right;\n    }\n</style>\n<table border=\"1\" class=\"dataframe\">\n  <thead>\n    <tr style=\"text-align: right;\">\n      <th></th>\n      <th>accession</th>\n      <th>name</th>\n      <th>sequence</th>\n      <th>EC</th>\n      <th>EC1</th>\n      <th>EC2</th>\n      <th>EC3</th>\n      <th>EC4</th>\n      <th>1</th>\n      <th>2</th>\n      <th>...</th>\n      <th>7.4.2.5</th>\n      <th>7.4.2.8</th>\n      <th>7.5.2.11</th>\n      <th>7.6.2.1</th>\n      <th>7.6.2.11</th>\n      <th>7.6.2.13</th>\n      <th>7.6.2.2</th>\n      <th>7.6.2.3</th>\n      <th>7.6.2.5</th>\n      <th>7.6.2.8</th>\n    </tr>\n  </thead>\n  <tbody>\n    <tr>\n      <th>129</th>\n      <td>P83855</td>\n      <td>ACLP_MOUSE</td>\n      <td>GVYMEIGRCRXEAXRRRKEAV</td>\n      <td>4.6.1.1</td>\n      <td>4</td>\n      <td>4.6</td>\n      <td>4.6.1</td>\n      <td>4.6.1.1</td>\n      <td>0.0</td>\n      <td>0.0</td>\n      <td>...</td>\n      <td>0.0</td>\n      <td>0.0</td>\n      <td>0.0</td>\n      <td>0.0</td>\n      <td>0.0</td>\n      <td>0.0</td>\n      <td>0.0</td>\n      <td>0.0</td>\n      <td>0.0</td>\n      <td>0.0</td>\n    </tr>\n    <tr>\n      <th>232</th>\n      <td>O53582</td>\n      <td>AFTB_MYCTU</td>\n      <td>MVRVSLWLSVTAVAVLFGWGSWQRRWIADDGLIVLRTVRNLLAGNG...</td>\n      <td>2.4.2.-</td>\n      <td>2</td>\n      <td>2.4</td>\n      <td>2.4.2</td>\n      <td>0</td>\n      <td>0.0</td>\n      <td>1.0</td>\n      <td>...</td>\n      <td>0.0</td>\n      <td>0.0</td>\n      <td>0.0</td>\n      <td>0.0</td>\n      <td>0.0</td>\n      <td>0.0</td>\n      <td>0.0</td>\n      <td>0.0</td>\n      <td>0.0</td>\n      <td>0.0</td>\n    </tr>\n    <tr>\n      <th>246</th>\n      <td>P82955</td>\n      <td>AHPF_ACICA</td>\n      <td>MLDQNIXTQLXAYLER</td>\n      <td>1.8.1.-</td>\n      <td>1</td>\n      <td>1.8</td>\n      <td>1.8.1</td>\n      <td>0</td>\n      <td>1.0</td>\n      <td>0.0</td>\n      <td>...</td>\n      <td>0.0</td>\n      <td>0.0</td>\n      <td>0.0</td>\n      <td>0.0</td>\n      <td>0.0</td>\n      <td>0.0</td>\n      <td>0.0</td>\n      <td>0.0</td>\n      <td>0.0</td>\n      <td>0.0</td>\n    </tr>\n    <tr>\n      <th>253</th>\n      <td>B7LM79</td>\n      <td>AIS_ESCF3</td>\n      <td>MKLKKHVAVLLISFLCLIGLVTQHAWSSNGLPRIDNKTLAKLSLQH...</td>\n      <td>3.1.3.-</td>\n      <td>3</td>\n      <td>3.1</td>\n      <td>3.1.3</td>\n      <td>0</td>\n      <td>0.0</td>\n      <td>0.0</td>\n      <td>...</td>\n      <td>0.0</td>\n      <td>0.0</td>\n      <td>0.0</td>\n      <td>0.0</td>\n      <td>0.0</td>\n      <td>0.0</td>\n      <td>0.0</td>\n      <td>0.0</td>\n      <td>0.0</td>\n      <td>0.0</td>\n    </tr>\n    <tr>\n      <th>255</th>\n      <td>Q8Z543</td>\n      <td>AIS_SALTI</td>\n      <td>MLAFTLRFIKNKRYFAILAGALVIIAGLASQHAWSGNGLPQINGKA...</td>\n      <td>3.1.3.-</td>\n      <td>3</td>\n      <td>3.1</td>\n      <td>3.1.3</td>\n      <td>0</td>\n      <td>0.0</td>\n      <td>0.0</td>\n      <td>...</td>\n      <td>0.0</td>\n      <td>0.0</td>\n      <td>0.0</td>\n      <td>0.0</td>\n      <td>0.0</td>\n      <td>0.0</td>\n      <td>0.0</td>\n      <td>0.0</td>\n      <td>0.0</td>\n      <td>0.0</td>\n    </tr>\n  </tbody>\n</table>\n<p>5 rows × 2779 columns</p>\n</div>"
     },
     "execution_count": 16,
     "metadata": {},
     "output_type": "execute_result"
    }
   ],
   "source": [
    "not_in_predictions = test[~test.loc[:, \"accession\"].isin(predictions.loc[:, \"qseqid\"])]\n",
    "not_in_predictions.head()"
   ],
   "metadata": {
    "collapsed": false,
    "ExecuteTime": {
     "end_time": "2023-08-08T17:02:25.364467688Z",
     "start_time": "2023-08-08T17:02:25.322848054Z"
    }
   },
   "id": "1ec968460d483602"
  },
  {
   "cell_type": "code",
   "execution_count": 17,
   "outputs": [
    {
     "name": "stderr",
     "output_type": "stream",
     "text": [
      "/tmp/ipykernel_22798/447101761.py:1: SettingWithCopyWarning: \n",
      "A value is trying to be set on a copy of a slice from a DataFrame.\n",
      "Try using .loc[row_indexer,col_indexer] = value instead\n",
      "\n",
      "See the caveats in the documentation: https://pandas.pydata.org/pandas-docs/stable/user_guide/indexing.html#returning-a-view-versus-a-copy\n",
      "  not_in_predictions.iloc[:, 8:] = 0.0\n"
     ]
    }
   ],
   "source": [
    "not_in_predictions.iloc[:, 8:] = 0.0"
   ],
   "metadata": {
    "collapsed": false,
    "ExecuteTime": {
     "end_time": "2023-08-08T17:02:30.865255482Z",
     "start_time": "2023-08-08T17:02:30.695720992Z"
    }
   },
   "id": "6110dda5fc577761"
  },
  {
   "cell_type": "code",
   "execution_count": 18,
   "outputs": [
    {
     "name": "stderr",
     "output_type": "stream",
     "text": [
      "/tmp/ipykernel_22798/4052792183.py:1: SettingWithCopyWarning: \n",
      "A value is trying to be set on a copy of a slice from a DataFrame\n",
      "\n",
      "See the caveats in the documentation: https://pandas.pydata.org/pandas-docs/stable/user_guide/indexing.html#returning-a-view-versus-a-copy\n",
      "  not_in_predictions.drop([\"sequence\", \"name\"], axis=1, inplace=True)\n"
     ]
    }
   ],
   "source": [
    "not_in_predictions.drop([\"sequence\", \"name\"], axis=1, inplace=True)"
   ],
   "metadata": {
    "collapsed": false,
    "ExecuteTime": {
     "end_time": "2023-08-08T17:02:30.874483813Z",
     "start_time": "2023-08-08T17:02:30.865847213Z"
    }
   },
   "id": "a6fe498d1b6df032"
  },
  {
   "cell_type": "code",
   "execution_count": 19,
   "outputs": [],
   "source": [
    "not_in_predictions.columns = predictions.columns"
   ],
   "metadata": {
    "collapsed": false,
    "ExecuteTime": {
     "end_time": "2023-08-08T17:02:32.569132546Z",
     "start_time": "2023-08-08T17:02:32.568892801Z"
    }
   },
   "id": "964b859b6c430232"
  },
  {
   "cell_type": "code",
   "execution_count": 20,
   "outputs": [],
   "source": [
    "predictions = pd.concat([predictions, not_in_predictions])"
   ],
   "metadata": {
    "collapsed": false,
    "ExecuteTime": {
     "end_time": "2023-08-08T17:02:36.591901587Z",
     "start_time": "2023-08-08T17:02:35.299735207Z"
    }
   },
   "id": "26f8e8c3424d73f0"
  },
  {
   "cell_type": "code",
   "execution_count": 21,
   "outputs": [
    {
     "data": {
      "text/plain": "(75566, 2777)"
     },
     "execution_count": 21,
     "metadata": {},
     "output_type": "execute_result"
    }
   ],
   "source": [
    "predictions.shape"
   ],
   "metadata": {
    "collapsed": false,
    "ExecuteTime": {
     "end_time": "2023-08-08T17:02:39.060125192Z",
     "start_time": "2023-08-08T17:02:39.058611050Z"
    }
   },
   "id": "9139f64cbf3651fd"
  },
  {
   "cell_type": "code",
   "execution_count": 22,
   "outputs": [
    {
     "data": {
      "text/plain": "Index(['qseqid', 'EC', 'EC1', 'EC2', 'EC3', 'EC4', '1', '2', '3', '4',\n       ...\n       '7.4.2.5', '7.4.2.8', '7.5.2.11', '7.6.2.1', '7.6.2.11', '7.6.2.13',\n       '7.6.2.2', '7.6.2.3', '7.6.2.5', '7.6.2.8'],\n      dtype='object', length=2777)"
     },
     "execution_count": 22,
     "metadata": {},
     "output_type": "execute_result"
    }
   ],
   "source": [
    "predictions.columns"
   ],
   "metadata": {
    "collapsed": false,
    "ExecuteTime": {
     "end_time": "2023-08-08T17:02:40.234136580Z",
     "start_time": "2023-08-08T17:02:40.216817099Z"
    }
   },
   "id": "73e2e0bb6fd06e86"
  },
  {
   "cell_type": "code",
   "execution_count": 23,
   "outputs": [],
   "source": [
    "predictions.sort_values(by=['qseqid'], inplace=True)"
   ],
   "metadata": {
    "collapsed": false,
    "ExecuteTime": {
     "end_time": "2023-08-08T17:02:41.975434745Z",
     "start_time": "2023-08-08T17:02:41.381517115Z"
    }
   },
   "id": "7ba9f8255b64fc8d"
  },
  {
   "cell_type": "code",
   "execution_count": 24,
   "outputs": [],
   "source": [
    "test.sort_values(by=['accession'], inplace=True)"
   ],
   "metadata": {
    "collapsed": false,
    "ExecuteTime": {
     "end_time": "2023-08-08T17:02:42.943464786Z",
     "start_time": "2023-08-08T17:02:42.383490061Z"
    }
   },
   "id": "9ecebaaf0c7c7d79"
  },
  {
   "cell_type": "code",
   "execution_count": 25,
   "outputs": [
    {
     "data": {
      "text/plain": "True"
     },
     "execution_count": 25,
     "metadata": {},
     "output_type": "execute_result"
    }
   ],
   "source": [
    "predictions.loc[:, \"qseqid\"].tolist() == test.loc[:, \"accession\"].tolist()"
   ],
   "metadata": {
    "collapsed": false,
    "ExecuteTime": {
     "end_time": "2023-08-08T17:02:44.707659900Z",
     "start_time": "2023-08-08T17:02:44.704612992Z"
    }
   },
   "id": "2038a4990d688840"
  },
  {
   "cell_type": "code",
   "execution_count": 26,
   "outputs": [],
   "source": [
    "predictions.to_csv(\"test_diamond_predictions_right_format.csv\", index=False)\n",
    "test.to_csv(\"test_right_format.csv\", index=False)"
   ],
   "metadata": {
    "collapsed": false,
    "ExecuteTime": {
     "end_time": "2023-08-08T17:05:14.346012561Z",
     "start_time": "2023-08-08T17:02:49.027054005Z"
    }
   },
   "id": "61c2a63e2289d742"
  },
  {
   "cell_type": "code",
   "execution_count": 1,
   "outputs": [
    {
     "name": "stderr",
     "output_type": "stream",
     "text": [
      "/tmp/ipykernel_23479/342144657.py:3: DtypeWarning: Columns (2,3) have mixed types. Specify dtype option on import or set low_memory=False.\n",
      "  predictions = pd.read_csv(\"test_diamond_predictions_right_format.csv\")\n",
      "/tmp/ipykernel_23479/342144657.py:4: DtypeWarning: Columns (4,5) have mixed types. Specify dtype option on import or set low_memory=False.\n",
      "  test = pd.read_csv(\"test_right_format.csv\")\n"
     ]
    }
   ],
   "source": [
    "import pandas as pd\n",
    "\n",
    "predictions = pd.read_csv(\"test_diamond_predictions_right_format.csv\")\n",
    "test = pd.read_csv(\"test_right_format.csv\")"
   ],
   "metadata": {
    "collapsed": false,
    "ExecuteTime": {
     "end_time": "2023-08-08T17:05:51.678502736Z",
     "start_time": "2023-08-08T17:05:21.290598895Z"
    }
   },
   "id": "99c9d2d2ec00cf4"
  },
  {
   "cell_type": "code",
   "execution_count": 2,
   "outputs": [
    {
     "data": {
      "text/plain": "Index(['qseqid', 'EC', 'EC1', 'EC2', 'EC3', 'EC4', '1', '2', '3', '4',\n       ...\n       '7.4.2.5', '7.4.2.8', '7.5.2.11', '7.6.2.1', '7.6.2.11', '7.6.2.13',\n       '7.6.2.2', '7.6.2.3', '7.6.2.5', '7.6.2.8'],\n      dtype='object', length=2777)"
     },
     "execution_count": 2,
     "metadata": {},
     "output_type": "execute_result"
    }
   ],
   "source": [
    "predictions.columns"
   ],
   "metadata": {
    "collapsed": false,
    "ExecuteTime": {
     "end_time": "2023-08-08T17:05:51.679217695Z",
     "start_time": "2023-08-08T17:05:51.669509835Z"
    }
   },
   "id": "ca2617022ef0a5d5"
  },
  {
   "cell_type": "code",
   "execution_count": 4,
   "outputs": [],
   "source": [
    "swiss_prot = pd.read_csv(\"../swiss_prot_ec_filtered.csv\")"
   ],
   "metadata": {
    "collapsed": false,
    "ExecuteTime": {
     "end_time": "2023-08-08T17:05:58.537006381Z",
     "start_time": "2023-08-08T17:05:57.819486522Z"
    }
   },
   "id": "b797d2763367a33f"
  },
  {
   "cell_type": "code",
   "execution_count": 5,
   "outputs": [],
   "source": [
    "predictions_swiss_prot = predictions[predictions.loc[:, \"qseqid\"].isin(swiss_prot.loc[:, \"accession\"])]"
   ],
   "metadata": {
    "collapsed": false,
    "ExecuteTime": {
     "end_time": "2023-08-08T17:06:00.347744801Z",
     "start_time": "2023-08-08T17:06:00.149999638Z"
    }
   },
   "id": "f956a0a31c33eb7e"
  },
  {
   "cell_type": "code",
   "execution_count": 6,
   "outputs": [],
   "source": [
    "test_swiss_prot = test[test.loc[:, \"accession\"].isin(swiss_prot.loc[:, \"accession\"])]"
   ],
   "metadata": {
    "collapsed": false,
    "ExecuteTime": {
     "end_time": "2023-08-08T17:06:01.377420971Z",
     "start_time": "2023-08-08T17:06:01.174658324Z"
    }
   },
   "id": "43dd298ea32d2f8f"
  },
  {
   "cell_type": "code",
   "execution_count": 7,
   "outputs": [
    {
     "data": {
      "text/plain": "0        A0A009IHW8\n19       A0A011QK89\n37       A0A017SEY2\n38       A0A017SP50\n63       A0A023I7E1\n            ...    \n75505        W8JWV8\n75506        W8JWW7\n75532        X1WBB5\n75533        X2EVV9\n75535        X2JE85\nName: qseqid, Length: 53167, dtype: object"
     },
     "execution_count": 7,
     "metadata": {},
     "output_type": "execute_result"
    }
   ],
   "source": [
    "predictions_swiss_prot.loc[:, \"qseqid\"]"
   ],
   "metadata": {
    "collapsed": false,
    "ExecuteTime": {
     "end_time": "2023-08-08T17:06:01.967496019Z",
     "start_time": "2023-08-08T17:06:01.963282052Z"
    }
   },
   "id": "f9e5bd5f3ef5c6bd"
  },
  {
   "cell_type": "code",
   "execution_count": 8,
   "outputs": [
    {
     "data": {
      "text/plain": "     1    2    3    4    5    6    7  1.1  1.10  1.11  ...  7.4.2.5  7.4.2.8  \\\n0  0.0  0.0  0.0  0.0  0.0  0.0  0.0  0.0   0.0   0.0  ...      0.0      0.0   \n1  0.0  0.0  0.0  0.0  0.0  0.0  0.0  0.0   0.0   0.0  ...      0.0      0.0   \n2  0.0  0.0  1.0  0.0  0.0  0.0  0.0  0.0   0.0   0.0  ...      0.0      0.0   \n3  0.0  1.0  0.0  0.0  0.0  0.0  0.0  0.0   0.0   0.0  ...      0.0      0.0   \n4  0.0  0.0  0.0  0.0  0.0  0.0  1.0  0.0   0.0   0.0  ...      1.0      0.0   \n\n   7.5.2.11  7.6.2.1  7.6.2.11  7.6.2.13  7.6.2.2  7.6.2.3  7.6.2.5  7.6.2.8  \n0       0.0      0.0       0.0       0.0      0.0      0.0      0.0      0.0  \n1       0.0      0.0       0.0       0.0      0.0      0.0      0.0      0.0  \n2       0.0      0.0       0.0       0.0      0.0      0.0      0.0      0.0  \n3       0.0      0.0       0.0       0.0      0.0      0.0      0.0      0.0  \n4       0.0      0.0       0.0       0.0      0.0      0.0      0.0      0.0  \n\n[5 rows x 2771 columns]",
      "text/html": "<div>\n<style scoped>\n    .dataframe tbody tr th:only-of-type {\n        vertical-align: middle;\n    }\n\n    .dataframe tbody tr th {\n        vertical-align: top;\n    }\n\n    .dataframe thead th {\n        text-align: right;\n    }\n</style>\n<table border=\"1\" class=\"dataframe\">\n  <thead>\n    <tr style=\"text-align: right;\">\n      <th></th>\n      <th>1</th>\n      <th>2</th>\n      <th>3</th>\n      <th>4</th>\n      <th>5</th>\n      <th>6</th>\n      <th>7</th>\n      <th>1.1</th>\n      <th>1.10</th>\n      <th>1.11</th>\n      <th>...</th>\n      <th>7.4.2.5</th>\n      <th>7.4.2.8</th>\n      <th>7.5.2.11</th>\n      <th>7.6.2.1</th>\n      <th>7.6.2.11</th>\n      <th>7.6.2.13</th>\n      <th>7.6.2.2</th>\n      <th>7.6.2.3</th>\n      <th>7.6.2.5</th>\n      <th>7.6.2.8</th>\n    </tr>\n  </thead>\n  <tbody>\n    <tr>\n      <th>0</th>\n      <td>0.0</td>\n      <td>0.0</td>\n      <td>0.0</td>\n      <td>0.0</td>\n      <td>0.0</td>\n      <td>0.0</td>\n      <td>0.0</td>\n      <td>0.0</td>\n      <td>0.0</td>\n      <td>0.0</td>\n      <td>...</td>\n      <td>0.0</td>\n      <td>0.0</td>\n      <td>0.0</td>\n      <td>0.0</td>\n      <td>0.0</td>\n      <td>0.0</td>\n      <td>0.0</td>\n      <td>0.0</td>\n      <td>0.0</td>\n      <td>0.0</td>\n    </tr>\n    <tr>\n      <th>1</th>\n      <td>0.0</td>\n      <td>0.0</td>\n      <td>0.0</td>\n      <td>0.0</td>\n      <td>0.0</td>\n      <td>0.0</td>\n      <td>0.0</td>\n      <td>0.0</td>\n      <td>0.0</td>\n      <td>0.0</td>\n      <td>...</td>\n      <td>0.0</td>\n      <td>0.0</td>\n      <td>0.0</td>\n      <td>0.0</td>\n      <td>0.0</td>\n      <td>0.0</td>\n      <td>0.0</td>\n      <td>0.0</td>\n      <td>0.0</td>\n      <td>0.0</td>\n    </tr>\n    <tr>\n      <th>2</th>\n      <td>0.0</td>\n      <td>0.0</td>\n      <td>1.0</td>\n      <td>0.0</td>\n      <td>0.0</td>\n      <td>0.0</td>\n      <td>0.0</td>\n      <td>0.0</td>\n      <td>0.0</td>\n      <td>0.0</td>\n      <td>...</td>\n      <td>0.0</td>\n      <td>0.0</td>\n      <td>0.0</td>\n      <td>0.0</td>\n      <td>0.0</td>\n      <td>0.0</td>\n      <td>0.0</td>\n      <td>0.0</td>\n      <td>0.0</td>\n      <td>0.0</td>\n    </tr>\n    <tr>\n      <th>3</th>\n      <td>0.0</td>\n      <td>1.0</td>\n      <td>0.0</td>\n      <td>0.0</td>\n      <td>0.0</td>\n      <td>0.0</td>\n      <td>0.0</td>\n      <td>0.0</td>\n      <td>0.0</td>\n      <td>0.0</td>\n      <td>...</td>\n      <td>0.0</td>\n      <td>0.0</td>\n      <td>0.0</td>\n      <td>0.0</td>\n      <td>0.0</td>\n      <td>0.0</td>\n      <td>0.0</td>\n      <td>0.0</td>\n      <td>0.0</td>\n      <td>0.0</td>\n    </tr>\n    <tr>\n      <th>4</th>\n      <td>0.0</td>\n      <td>0.0</td>\n      <td>0.0</td>\n      <td>0.0</td>\n      <td>0.0</td>\n      <td>0.0</td>\n      <td>1.0</td>\n      <td>0.0</td>\n      <td>0.0</td>\n      <td>0.0</td>\n      <td>...</td>\n      <td>1.0</td>\n      <td>0.0</td>\n      <td>0.0</td>\n      <td>0.0</td>\n      <td>0.0</td>\n      <td>0.0</td>\n      <td>0.0</td>\n      <td>0.0</td>\n      <td>0.0</td>\n      <td>0.0</td>\n    </tr>\n  </tbody>\n</table>\n<p>5 rows × 2771 columns</p>\n</div>"
     },
     "execution_count": 8,
     "metadata": {},
     "output_type": "execute_result"
    }
   ],
   "source": [
    "predictions.iloc[:, 6:].head()"
   ],
   "metadata": {
    "collapsed": false,
    "ExecuteTime": {
     "end_time": "2023-08-08T17:06:05.297077592Z",
     "start_time": "2023-08-08T17:06:05.292676628Z"
    }
   },
   "id": "51055e2c95298bd0"
  },
  {
   "cell_type": "code",
   "execution_count": 9,
   "outputs": [],
   "source": [
    "zero_columns = test_swiss_prot.iloc[:, 8:].columns[(test_swiss_prot.iloc[:, 8:] == 0).all()]\n",
    "columns = list(test_swiss_prot.iloc[:, 8:].columns)\n",
    "for column in zero_columns: \n",
    "       columns.remove(column)\n",
    "test_swiss_prot_reduced = test_swiss_prot.iloc[:, 8:].loc[:, columns]\n",
    "predictions_swiss_prot_reduced = predictions_swiss_prot.iloc[:, 6:].loc[:, columns]"
   ],
   "metadata": {
    "collapsed": false,
    "ExecuteTime": {
     "end_time": "2023-08-08T17:06:11.395970396Z",
     "start_time": "2023-08-08T17:06:10.485583534Z"
    }
   },
   "id": "7086d5be32dbb7f6"
  },
  {
   "cell_type": "code",
   "execution_count": 10,
   "outputs": [
    {
     "data": {
      "text/plain": "      1    2    3    4    5    6    7  1.1  1.10  1.11  ...  7.4.2.5  7.4.2.8  \\\n0   0.0  0.0  0.0  0.0  0.0  0.0  0.0  0.0   0.0   0.0  ...      0.0      0.0   \n19  1.0  0.0  0.0  0.0  0.0  0.0  0.0  1.0   0.0   0.0  ...      0.0      0.0   \n37  1.0  0.0  0.0  0.0  0.0  0.0  0.0  1.0   0.0   0.0  ...      0.0      0.0   \n38  0.0  1.0  0.0  0.0  0.0  0.0  0.0  0.0   0.0   0.0  ...      0.0      0.0   \n63  0.0  0.0  1.0  0.0  0.0  0.0  0.0  0.0   0.0   0.0  ...      0.0      0.0   \n\n    7.5.2.11  7.6.2.1  7.6.2.11  7.6.2.13  7.6.2.2  7.6.2.3  7.6.2.5  7.6.2.8  \n0        0.0      0.0       0.0       0.0      0.0      0.0      0.0      0.0  \n19       0.0      0.0       0.0       0.0      0.0      0.0      0.0      0.0  \n37       0.0      0.0       0.0       0.0      0.0      0.0      0.0      0.0  \n38       0.0      0.0       0.0       0.0      0.0      0.0      0.0      0.0  \n63       0.0      0.0       0.0       0.0      0.0      0.0      0.0      0.0  \n\n[5 rows x 2611 columns]",
      "text/html": "<div>\n<style scoped>\n    .dataframe tbody tr th:only-of-type {\n        vertical-align: middle;\n    }\n\n    .dataframe tbody tr th {\n        vertical-align: top;\n    }\n\n    .dataframe thead th {\n        text-align: right;\n    }\n</style>\n<table border=\"1\" class=\"dataframe\">\n  <thead>\n    <tr style=\"text-align: right;\">\n      <th></th>\n      <th>1</th>\n      <th>2</th>\n      <th>3</th>\n      <th>4</th>\n      <th>5</th>\n      <th>6</th>\n      <th>7</th>\n      <th>1.1</th>\n      <th>1.10</th>\n      <th>1.11</th>\n      <th>...</th>\n      <th>7.4.2.5</th>\n      <th>7.4.2.8</th>\n      <th>7.5.2.11</th>\n      <th>7.6.2.1</th>\n      <th>7.6.2.11</th>\n      <th>7.6.2.13</th>\n      <th>7.6.2.2</th>\n      <th>7.6.2.3</th>\n      <th>7.6.2.5</th>\n      <th>7.6.2.8</th>\n    </tr>\n  </thead>\n  <tbody>\n    <tr>\n      <th>0</th>\n      <td>0.0</td>\n      <td>0.0</td>\n      <td>0.0</td>\n      <td>0.0</td>\n      <td>0.0</td>\n      <td>0.0</td>\n      <td>0.0</td>\n      <td>0.0</td>\n      <td>0.0</td>\n      <td>0.0</td>\n      <td>...</td>\n      <td>0.0</td>\n      <td>0.0</td>\n      <td>0.0</td>\n      <td>0.0</td>\n      <td>0.0</td>\n      <td>0.0</td>\n      <td>0.0</td>\n      <td>0.0</td>\n      <td>0.0</td>\n      <td>0.0</td>\n    </tr>\n    <tr>\n      <th>19</th>\n      <td>1.0</td>\n      <td>0.0</td>\n      <td>0.0</td>\n      <td>0.0</td>\n      <td>0.0</td>\n      <td>0.0</td>\n      <td>0.0</td>\n      <td>1.0</td>\n      <td>0.0</td>\n      <td>0.0</td>\n      <td>...</td>\n      <td>0.0</td>\n      <td>0.0</td>\n      <td>0.0</td>\n      <td>0.0</td>\n      <td>0.0</td>\n      <td>0.0</td>\n      <td>0.0</td>\n      <td>0.0</td>\n      <td>0.0</td>\n      <td>0.0</td>\n    </tr>\n    <tr>\n      <th>37</th>\n      <td>1.0</td>\n      <td>0.0</td>\n      <td>0.0</td>\n      <td>0.0</td>\n      <td>0.0</td>\n      <td>0.0</td>\n      <td>0.0</td>\n      <td>1.0</td>\n      <td>0.0</td>\n      <td>0.0</td>\n      <td>...</td>\n      <td>0.0</td>\n      <td>0.0</td>\n      <td>0.0</td>\n      <td>0.0</td>\n      <td>0.0</td>\n      <td>0.0</td>\n      <td>0.0</td>\n      <td>0.0</td>\n      <td>0.0</td>\n      <td>0.0</td>\n    </tr>\n    <tr>\n      <th>38</th>\n      <td>0.0</td>\n      <td>1.0</td>\n      <td>0.0</td>\n      <td>0.0</td>\n      <td>0.0</td>\n      <td>0.0</td>\n      <td>0.0</td>\n      <td>0.0</td>\n      <td>0.0</td>\n      <td>0.0</td>\n      <td>...</td>\n      <td>0.0</td>\n      <td>0.0</td>\n      <td>0.0</td>\n      <td>0.0</td>\n      <td>0.0</td>\n      <td>0.0</td>\n      <td>0.0</td>\n      <td>0.0</td>\n      <td>0.0</td>\n      <td>0.0</td>\n    </tr>\n    <tr>\n      <th>63</th>\n      <td>0.0</td>\n      <td>0.0</td>\n      <td>1.0</td>\n      <td>0.0</td>\n      <td>0.0</td>\n      <td>0.0</td>\n      <td>0.0</td>\n      <td>0.0</td>\n      <td>0.0</td>\n      <td>0.0</td>\n      <td>...</td>\n      <td>0.0</td>\n      <td>0.0</td>\n      <td>0.0</td>\n      <td>0.0</td>\n      <td>0.0</td>\n      <td>0.0</td>\n      <td>0.0</td>\n      <td>0.0</td>\n      <td>0.0</td>\n      <td>0.0</td>\n    </tr>\n  </tbody>\n</table>\n<p>5 rows × 2611 columns</p>\n</div>"
     },
     "execution_count": 10,
     "metadata": {},
     "output_type": "execute_result"
    }
   ],
   "source": [
    "predictions_swiss_prot_reduced.head()"
   ],
   "metadata": {
    "collapsed": false,
    "ExecuteTime": {
     "end_time": "2023-08-08T17:06:12.715037824Z",
     "start_time": "2023-08-08T17:06:12.704612984Z"
    }
   },
   "id": "ebc0b2128f22febf"
  },
  {
   "cell_type": "markdown",
   "source": [
    "### Metrics"
   ],
   "metadata": {
    "collapsed": false
   },
   "id": "986d1e6373217315"
  },
  {
   "cell_type": "code",
   "execution_count": 11,
   "outputs": [
    {
     "data": {
      "text/plain": "0.8676778409804393"
     },
     "execution_count": 11,
     "metadata": {},
     "output_type": "execute_result"
    }
   ],
   "source": [
    "from sklearn.metrics import f1_score\n",
    "\n",
    "f1_score(test_swiss_prot_reduced, predictions_swiss_prot_reduced, average='macro')"
   ],
   "metadata": {
    "collapsed": false,
    "ExecuteTime": {
     "end_time": "2023-08-08T17:06:41.889399060Z",
     "start_time": "2023-08-08T17:06:23.656613237Z"
    }
   },
   "id": "22466e44fd2beb8a"
  },
  {
   "cell_type": "code",
   "execution_count": 12,
   "outputs": [
    {
     "data": {
      "text/plain": "0.877754147536592"
     },
     "execution_count": 12,
     "metadata": {},
     "output_type": "execute_result"
    }
   ],
   "source": [
    "from sklearn.metrics import precision_score\n",
    "\n",
    "precision_score(test_swiss_prot_reduced, predictions_swiss_prot_reduced, average='macro', zero_division=1)"
   ],
   "metadata": {
    "collapsed": false,
    "ExecuteTime": {
     "end_time": "2023-08-08T17:07:14.246794747Z",
     "start_time": "2023-08-08T17:06:56.250203966Z"
    }
   },
   "id": "ada9b1c367ad3082"
  },
  {
   "cell_type": "code",
   "execution_count": 13,
   "outputs": [
    {
     "data": {
      "text/plain": "0.9058346359325334"
     },
     "execution_count": 13,
     "metadata": {},
     "output_type": "execute_result"
    }
   ],
   "source": [
    "from sklearn.metrics import recall_score\n",
    "\n",
    "recall_score(test_swiss_prot_reduced, predictions_swiss_prot_reduced, average='macro')"
   ],
   "metadata": {
    "collapsed": false,
    "ExecuteTime": {
     "end_time": "2023-08-08T17:07:32.349330990Z",
     "start_time": "2023-08-08T17:07:14.248387913Z"
    }
   },
   "id": "9d2e49dfddf280a2"
  },
  {
   "cell_type": "code",
   "execution_count": 18,
   "outputs": [
    {
     "data": {
      "text/plain": "0.8894964697370696"
     },
     "execution_count": 18,
     "metadata": {},
     "output_type": "execute_result"
    }
   ],
   "source": [
    "from sklearn.metrics import f1_score\n",
    "\n",
    "f1_score(test.iloc[:, 8:], predictions.iloc[:, 6:], average='macro', zero_division=1)"
   ],
   "metadata": {
    "collapsed": false,
    "ExecuteTime": {
     "end_time": "2023-08-08T17:09:59.274753420Z",
     "start_time": "2023-08-08T17:09:27.033718253Z"
    }
   },
   "id": "dcc9c6532cb19bc8"
  },
  {
   "cell_type": "code",
   "execution_count": 15,
   "outputs": [
    {
     "data": {
      "text/plain": "0.9022298961300323"
     },
     "execution_count": 15,
     "metadata": {},
     "output_type": "execute_result"
    }
   ],
   "source": [
    "from sklearn.metrics import precision_score\n",
    "\n",
    "precision_score(test.iloc[:, 8:], predictions.iloc[:, 6:], average='macro', zero_division=1)"
   ],
   "metadata": {
    "collapsed": false,
    "ExecuteTime": {
     "end_time": "2023-08-08T17:08:23.469672498Z",
     "start_time": "2023-08-08T17:07:53.326469044Z"
    }
   },
   "id": "47af237eb129bdec"
  },
  {
   "cell_type": "code",
   "execution_count": 16,
   "outputs": [
    {
     "data": {
      "text/plain": "0.8858586826680179"
     },
     "execution_count": 16,
     "metadata": {},
     "output_type": "execute_result"
    }
   ],
   "source": [
    "from sklearn.metrics import recall_score\n",
    "\n",
    "recall_score(test.iloc[:, 8:], predictions.iloc[:, 6:], average='macro', zero_division=1)"
   ],
   "metadata": {
    "collapsed": false,
    "ExecuteTime": {
     "end_time": "2023-08-08T17:08:51.762663263Z",
     "start_time": "2023-08-08T17:08:23.843493183Z"
    }
   },
   "id": "f406bc76096d58d4"
  },
  {
   "cell_type": "markdown",
   "source": [],
   "metadata": {
    "collapsed": false
   },
   "id": "bbe8edbd891b9597"
  }
 ],
 "metadata": {
  "kernelspec": {
   "display_name": "Python 3",
   "language": "python",
   "name": "python3"
  },
  "language_info": {
   "codemirror_mode": {
    "name": "ipython",
    "version": 2
   },
   "file_extension": ".py",
   "mimetype": "text/x-python",
   "name": "python",
   "nbconvert_exporter": "python",
   "pygments_lexer": "ipython2",
   "version": "2.7.6"
  }
 },
 "nbformat": 4,
 "nbformat_minor": 5
}
