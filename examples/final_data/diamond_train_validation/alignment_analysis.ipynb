{
 "cells": [
  {
   "cell_type": "markdown",
   "source": [
    "# Alignments' performance analysis"
   ],
   "metadata": {
    "collapsed": false
   },
   "id": "544d2f0303e3e49d"
  },
  {
   "cell_type": "markdown",
   "source": [
    "## Conversions to fasta"
   ],
   "metadata": {
    "collapsed": false
   },
   "id": "ec2786dfc54ca0a5"
  },
  {
   "cell_type": "code",
   "execution_count": 1,
   "outputs": [
    {
     "name": "stderr",
     "output_type": "stream",
     "text": [
      "/tmp/ipykernel_8489/846710640.py:3: DtypeWarning: Columns (4,5) have mixed types. Specify dtype option on import or set low_memory=False.\n",
      "  train = pd.read_csv('final_data/train.csv')\n",
      "/tmp/ipykernel_8489/846710640.py:4: DtypeWarning: Columns (4,5) have mixed types. Specify dtype option on import or set low_memory=False.\n",
      "  validation = pd.read_csv('final_data/validation.csv')\n"
     ]
    }
   ],
   "source": [
    "import pandas as pd\n",
    "\n",
    "train = pd.read_csv('train.csv')\n",
    "validation = pd.read_csv('validation.csv')"
   ],
   "metadata": {
    "collapsed": false,
    "ExecuteTime": {
     "end_time": "2023-08-08T10:47:57.664246077Z",
     "start_time": "2023-08-08T10:46:50.174589219Z"
    }
   },
   "id": "19c1dc7f08e7a4d1"
  },
  {
   "cell_type": "code",
   "execution_count": 2,
   "outputs": [],
   "source": [
    "pd.concat([train, validation]).to_csv('database.csv', index=False)"
   ],
   "metadata": {
    "collapsed": false,
    "ExecuteTime": {
     "end_time": "2023-08-08T10:52:42.142151578Z",
     "start_time": "2023-08-08T10:48:06.585855780Z"
    }
   },
   "id": "f7efebeedea001e"
  },
  {
   "cell_type": "code",
   "execution_count": 2,
   "outputs": [
    {
     "data": {
      "text/plain": "  accession        name                                           sequence  \\\n0    Q42881  1A13_SOLLC  MKLLSEKATCNSHGQDSSYFLGWQEYEKNPYDEIQNPKGIIQMGLA...   \n1    Q37001  1A15_ARATH  MKQLSTKVTSNGHGQDSSYFLGWEEYEKNPYDEIKNPNGMIQMGLA...   \n2    Q9STR4  1A17_ARATH  MGLPLMMERSSNNNNVELSRVAVSDTHGEDSPYFAGWKAYDENPYD...   \n3    P37821  1A1C_MALDO  MRMLSRNATFNSHGQDSSYFLGWQEYEKNPYHEVHNTNGIIQMGLA...   \n4    B2WGR9  3DHQ_PYRTR  MPPSILLLNGPNLNLLGTREPRIYGSTTLSSLLTTLIQKCKSLALP...   \n\n                 EC  EC1      EC2    EC3       EC4    1    2  ...  7.4.2.5  \\\n0          4.4.1.14    4      4.4  4.4.1  4.4.1.14  0.0  0.0  ...      0.0   \n1          4.4.1.14    4      4.4  4.4.1  4.4.1.14  0.0  0.0  ...      0.0   \n2          4.4.1.14    4      4.4  4.4.1  4.4.1.14  0.0  0.0  ...      0.0   \n3  1.4.-.-;4.4.1.14  1;4  1.4;4.4  4.4.1  4.4.1.14  1.0  0.0  ...      0.0   \n4          4.2.1.10    4      4.2  4.2.1  4.2.1.10  0.0  0.0  ...      0.0   \n\n   7.4.2.8  7.5.2.11  7.6.2.1  7.6.2.11  7.6.2.13  7.6.2.2  7.6.2.3  7.6.2.5  \\\n0      0.0       0.0      0.0       0.0       0.0      0.0      0.0      0.0   \n1      0.0       0.0      0.0       0.0       0.0      0.0      0.0      0.0   \n2      0.0       0.0      0.0       0.0       0.0      0.0      0.0      0.0   \n3      0.0       0.0      0.0       0.0       0.0      0.0      0.0      0.0   \n4      0.0       0.0      0.0       0.0       0.0      0.0      0.0      0.0   \n\n   7.6.2.8  \n0      0.0  \n1      0.0  \n2      0.0  \n3      0.0  \n4      0.0  \n\n[5 rows x 2779 columns]",
      "text/html": "<div>\n<style scoped>\n    .dataframe tbody tr th:only-of-type {\n        vertical-align: middle;\n    }\n\n    .dataframe tbody tr th {\n        vertical-align: top;\n    }\n\n    .dataframe thead th {\n        text-align: right;\n    }\n</style>\n<table border=\"1\" class=\"dataframe\">\n  <thead>\n    <tr style=\"text-align: right;\">\n      <th></th>\n      <th>accession</th>\n      <th>name</th>\n      <th>sequence</th>\n      <th>EC</th>\n      <th>EC1</th>\n      <th>EC2</th>\n      <th>EC3</th>\n      <th>EC4</th>\n      <th>1</th>\n      <th>2</th>\n      <th>...</th>\n      <th>7.4.2.5</th>\n      <th>7.4.2.8</th>\n      <th>7.5.2.11</th>\n      <th>7.6.2.1</th>\n      <th>7.6.2.11</th>\n      <th>7.6.2.13</th>\n      <th>7.6.2.2</th>\n      <th>7.6.2.3</th>\n      <th>7.6.2.5</th>\n      <th>7.6.2.8</th>\n    </tr>\n  </thead>\n  <tbody>\n    <tr>\n      <th>0</th>\n      <td>Q42881</td>\n      <td>1A13_SOLLC</td>\n      <td>MKLLSEKATCNSHGQDSSYFLGWQEYEKNPYDEIQNPKGIIQMGLA...</td>\n      <td>4.4.1.14</td>\n      <td>4</td>\n      <td>4.4</td>\n      <td>4.4.1</td>\n      <td>4.4.1.14</td>\n      <td>0.0</td>\n      <td>0.0</td>\n      <td>...</td>\n      <td>0.0</td>\n      <td>0.0</td>\n      <td>0.0</td>\n      <td>0.0</td>\n      <td>0.0</td>\n      <td>0.0</td>\n      <td>0.0</td>\n      <td>0.0</td>\n      <td>0.0</td>\n      <td>0.0</td>\n    </tr>\n    <tr>\n      <th>1</th>\n      <td>Q37001</td>\n      <td>1A15_ARATH</td>\n      <td>MKQLSTKVTSNGHGQDSSYFLGWEEYEKNPYDEIKNPNGMIQMGLA...</td>\n      <td>4.4.1.14</td>\n      <td>4</td>\n      <td>4.4</td>\n      <td>4.4.1</td>\n      <td>4.4.1.14</td>\n      <td>0.0</td>\n      <td>0.0</td>\n      <td>...</td>\n      <td>0.0</td>\n      <td>0.0</td>\n      <td>0.0</td>\n      <td>0.0</td>\n      <td>0.0</td>\n      <td>0.0</td>\n      <td>0.0</td>\n      <td>0.0</td>\n      <td>0.0</td>\n      <td>0.0</td>\n    </tr>\n    <tr>\n      <th>2</th>\n      <td>Q9STR4</td>\n      <td>1A17_ARATH</td>\n      <td>MGLPLMMERSSNNNNVELSRVAVSDTHGEDSPYFAGWKAYDENPYD...</td>\n      <td>4.4.1.14</td>\n      <td>4</td>\n      <td>4.4</td>\n      <td>4.4.1</td>\n      <td>4.4.1.14</td>\n      <td>0.0</td>\n      <td>0.0</td>\n      <td>...</td>\n      <td>0.0</td>\n      <td>0.0</td>\n      <td>0.0</td>\n      <td>0.0</td>\n      <td>0.0</td>\n      <td>0.0</td>\n      <td>0.0</td>\n      <td>0.0</td>\n      <td>0.0</td>\n      <td>0.0</td>\n    </tr>\n    <tr>\n      <th>3</th>\n      <td>P37821</td>\n      <td>1A1C_MALDO</td>\n      <td>MRMLSRNATFNSHGQDSSYFLGWQEYEKNPYHEVHNTNGIIQMGLA...</td>\n      <td>1.4.-.-;4.4.1.14</td>\n      <td>1;4</td>\n      <td>1.4;4.4</td>\n      <td>4.4.1</td>\n      <td>4.4.1.14</td>\n      <td>1.0</td>\n      <td>0.0</td>\n      <td>...</td>\n      <td>0.0</td>\n      <td>0.0</td>\n      <td>0.0</td>\n      <td>0.0</td>\n      <td>0.0</td>\n      <td>0.0</td>\n      <td>0.0</td>\n      <td>0.0</td>\n      <td>0.0</td>\n      <td>0.0</td>\n    </tr>\n    <tr>\n      <th>4</th>\n      <td>B2WGR9</td>\n      <td>3DHQ_PYRTR</td>\n      <td>MPPSILLLNGPNLNLLGTREPRIYGSTTLSSLLTTLIQKCKSLALP...</td>\n      <td>4.2.1.10</td>\n      <td>4</td>\n      <td>4.2</td>\n      <td>4.2.1</td>\n      <td>4.2.1.10</td>\n      <td>0.0</td>\n      <td>0.0</td>\n      <td>...</td>\n      <td>0.0</td>\n      <td>0.0</td>\n      <td>0.0</td>\n      <td>0.0</td>\n      <td>0.0</td>\n      <td>0.0</td>\n      <td>0.0</td>\n      <td>0.0</td>\n      <td>0.0</td>\n      <td>0.0</td>\n    </tr>\n  </tbody>\n</table>\n<p>5 rows × 2779 columns</p>\n</div>"
     },
     "execution_count": 2,
     "metadata": {},
     "output_type": "execute_result"
    }
   ],
   "source": [
    "train.head()"
   ],
   "metadata": {
    "collapsed": false,
    "ExecuteTime": {
     "end_time": "2023-08-08T10:28:06.471931760Z",
     "start_time": "2023-08-08T10:28:06.412331680Z"
    }
   },
   "id": "fac0baf1f8dc61ec"
  },
  {
   "cell_type": "code",
   "execution_count": 3,
   "outputs": [],
   "source": [
    "train.iloc[:, :3].to_csv('train_reduced.csv', index=False)"
   ],
   "metadata": {
    "collapsed": false,
    "ExecuteTime": {
     "end_time": "2023-08-08T10:29:10.996548890Z",
     "start_time": "2023-08-08T10:29:09.615242119Z"
    }
   },
   "id": "5acb6f04ef6262ac"
  },
  {
   "cell_type": "code",
   "execution_count": 4,
   "outputs": [],
   "source": [
    "validation.iloc[:, :3].to_csv('validation_reduced.csv', index=False)"
   ],
   "metadata": {
    "collapsed": false,
    "ExecuteTime": {
     "end_time": "2023-08-08T10:29:25.581771251Z",
     "start_time": "2023-08-08T10:29:25.069873638Z"
    }
   },
   "id": "3d362b00dfecf97"
  },
  {
   "cell_type": "code",
   "execution_count": 9,
   "outputs": [
    {
     "name": "stderr",
     "output_type": "stream",
     "text": [
      "/tmp/ipykernel_6976/1041909268.py:1: DtypeWarning: Columns (4,5) have mixed types. Specify dtype option on import or set low_memory=False.\n",
      "  test = pd.read_csv('final_data/test.csv')\n"
     ]
    }
   ],
   "source": [
    "test = pd.read_csv('test.csv')\n",
    "test.iloc[:, :3].to_csv('test_reduced.csv', index=False)"
   ],
   "metadata": {
    "collapsed": false,
    "ExecuteTime": {
     "end_time": "2023-08-08T10:36:05.763001139Z",
     "start_time": "2023-08-08T10:35:50.062787358Z"
    }
   },
   "id": "5101013045dd4c2d"
  },
  {
   "cell_type": "code",
   "execution_count": 4,
   "outputs": [],
   "source": [
    "import pandas as pd\n",
    "train = pd.read_csv('train_reduced.csv')\n",
    "validation = pd.read_csv('validation_reduced.csv')\n",
    "pd.concat([train, validation]).to_csv('train_validation_reduced.csv', index=False)"
   ],
   "metadata": {
    "collapsed": false,
    "ExecuteTime": {
     "end_time": "2023-08-08T10:32:04.196849511Z",
     "start_time": "2023-08-08T10:32:01.315067245Z"
    }
   },
   "id": "9114b9d9c037a6cc"
  },
  {
   "cell_type": "code",
   "execution_count": 6,
   "outputs": [],
   "source": [
    "from plants_sm.utilities.utils import convert_csv_to_fasta\n",
    "\n",
    "convert_csv_to_fasta('train_validation_reduced.csv', 'sequence', 'accession', 'database.fasta')"
   ],
   "metadata": {
    "collapsed": false,
    "ExecuteTime": {
     "end_time": "2023-08-08T10:33:03.199158959Z",
     "start_time": "2023-08-08T10:32:48.667232035Z"
    }
   },
   "id": "26b4f60feec02eb4"
  },
  {
   "cell_type": "code",
   "execution_count": 10,
   "outputs": [],
   "source": [
    "convert_csv_to_fasta('test_reduced.csv', 'sequence', 'accession', 'test.fasta')"
   ],
   "metadata": {
    "collapsed": false,
    "ExecuteTime": {
     "end_time": "2023-08-08T10:36:09.114575050Z",
     "start_time": "2023-08-08T10:36:05.765229620Z"
    }
   },
   "id": "4e45d581e1c13465"
  },
  {
   "cell_type": "markdown",
   "source": [
    "## Database creation"
   ],
   "metadata": {
    "collapsed": false
   },
   "id": "8243bf01763c1dfb"
  },
  {
   "cell_type": "code",
   "execution_count": 1,
   "outputs": [],
   "source": [
    "from plants_sm.alignments.alignment import Diamond\n",
    "\n",
    "diamond = Diamond(\"train_database\")"
   ],
   "metadata": {
    "collapsed": false,
    "ExecuteTime": {
     "end_time": "2023-08-08T13:21:58.776627476Z",
     "start_time": "2023-08-08T13:21:58.654508964Z"
    }
   },
   "id": "37adead89b67ed98"
  },
  {
   "cell_type": "code",
   "execution_count": 2,
   "outputs": [
    {
     "name": "stderr",
     "output_type": "stream",
     "text": [
      "diamond v2.0.14.152 (C) Max Planck Society for the Advancement of Science\n",
      "Documentation, support and updates available at http://www.diamondsearch.org\n",
      "Please cite: http://dx.doi.org/10.1038/s41592-021-01101-x Nature Methods (2021)\n",
      "\n",
      "#CPU threads: 8\n",
      "Scoring parameters: (Matrix=BLOSUM62 Lambda=0.267 K=0.041 Penalties=11/1)\n",
      "Database input file: final_data/database.fasta\n",
      "Opening the database file...  [0.013s]\n",
      "Loading sequences...  [0.344s]\n",
      "Masking sequences...  [0.686s]\n",
      "Writing sequences...  [0.072s]\n",
      "Hashing sequences...  [0.03s]\n",
      "Loading sequences...  [0s]\n",
      "Writing trailer...  [0.002s]\n",
      "Closing the input file...  [0s]\n",
      "Closing the database file...  [0.317s]\n",
      "\n",
      "Database sequences  305245\n",
      "  Database letters  128661459\n",
      "     Database hash  f5ffa75268d75c3169b2320129276bc4\n",
      "        Total time  1.466000s\n"
     ]
    }
   ],
   "source": [
    "diamond.create_database('database.fasta')"
   ],
   "metadata": {
    "collapsed": false,
    "ExecuteTime": {
     "end_time": "2023-08-08T13:22:03.007030596Z",
     "start_time": "2023-08-08T13:22:01.532738944Z"
    }
   },
   "id": "3acc17ef3278be3d"
  },
  {
   "cell_type": "code",
   "execution_count": 4,
   "outputs": [
    {
     "name": "stderr",
     "output_type": "stream",
     "text": [
      "diamond v2.0.14.152 (C) Max Planck Society for the Advancement of Science\n",
      "Documentation, support and updates available at http://www.diamondsearch.org\n",
      "Please cite: http://dx.doi.org/10.1038/s41592-021-01101-x Nature Methods (2021)\n",
      "\n",
      "#CPU threads: 8\n",
      "Scoring parameters: (Matrix=BLOSUM62 Lambda=0.267 K=0.041 Penalties=11/1)\n",
      "Temporary directory: final_data\n",
      "#Target sequences to report alignments for: 1\n",
      "Opening the database...  [0.049s]\n",
      "Database: train_database.dmnd (type: Diamond database, sequences: 305245, letters: 128661459)\n",
      "Block size = 2000000000\n",
      "Opening the input file...  [0.01s]\n",
      "Opening the output file...  [0s]\n",
      "Loading query sequences...  [0.084s]\n",
      "Masking queries...  [0.162s]\n",
      "Algorithm: Double-indexed\n",
      "Building query histograms...  [0.108s]\n",
      "Allocating buffers...  [0s]\n",
      "Loading reference sequences...  [0.13s]\n",
      "Masking reference...  [0.682s]\n",
      "Initializing temporary storage...  [0s]\n",
      "Building reference histograms...  [0.5s]\n",
      "Allocating buffers...  [0s]\n",
      "Processing query block 1, reference block 1/1, shape 1/2, index chunk 1/4.\n",
      "Building reference seed array...  [0.265s]\n",
      "Building query seed array...  [0.048s]\n",
      "Computing hash join...  [0.078s]\n",
      "Masking low complexity seeds...  [0.028s]\n",
      "Searching alignments...  [0.813s]\n",
      "Processing query block 1, reference block 1/1, shape 1/2, index chunk 2/4.\n",
      "Building reference seed array...  [0.256s]\n",
      "Building query seed array...  [0.077s]\n",
      "Computing hash join...  [0.074s]\n",
      "Masking low complexity seeds...  [0.028s]\n",
      "Searching alignments...  [0.624s]\n",
      "Processing query block 1, reference block 1/1, shape 1/2, index chunk 3/4.\n",
      "Building reference seed array...  [0.287s]\n",
      "Building query seed array...  [0.077s]\n",
      "Computing hash join...  [0.072s]\n",
      "Masking low complexity seeds...  [0.028s]\n",
      "Searching alignments...  [0.567s]\n",
      "Processing query block 1, reference block 1/1, shape 1/2, index chunk 4/4.\n",
      "Building reference seed array...  [0.211s]\n",
      "Building query seed array...  [0.07s]\n",
      "Computing hash join...  [0.076s]\n",
      "Masking low complexity seeds...  [0.028s]\n",
      "Searching alignments...  [0.544s]\n",
      "Processing query block 1, reference block 1/1, shape 2/2, index chunk 1/4.\n",
      "Building reference seed array...  [0.203s]\n",
      "Building query seed array...  [0.062s]\n",
      "Computing hash join...  [0.075s]\n",
      "Masking low complexity seeds...  [0.028s]\n",
      "Searching alignments...  [0.559s]\n",
      "Processing query block 1, reference block 1/1, shape 2/2, index chunk 2/4.\n",
      "Building reference seed array...  [0.275s]\n",
      "Building query seed array...  [0.072s]\n",
      "Computing hash join...  [0.075s]\n",
      "Masking low complexity seeds...  [0.031s]\n",
      "Searching alignments...  [0.522s]\n",
      "Processing query block 1, reference block 1/1, shape 2/2, index chunk 3/4.\n",
      "Building reference seed array...  [0.308s]\n",
      "Building query seed array...  [0.09s]\n",
      "Computing hash join...  [0.075s]\n",
      "Masking low complexity seeds...  [0.03s]\n",
      "Searching alignments...  [0.521s]\n",
      "Processing query block 1, reference block 1/1, shape 2/2, index chunk 4/4.\n",
      "Building reference seed array...  [0.21s]\n",
      "Building query seed array...  [0.067s]\n",
      "Computing hash join...  [0.074s]\n",
      "Masking low complexity seeds...  [0.031s]\n",
      "Searching alignments...  [0.483s]\n",
      "Deallocating buffers...  [0.011s]\n",
      "Clearing query masking...  [0.002s]\n",
      "Computing alignments...  [26.392s]\n",
      "Deallocating reference...  [0.006s]\n",
      "Loading reference sequences...  [0s]\n",
      "Deallocating buffers...  [0.003s]\n",
      "Deallocating queries...  [0.001s]\n",
      "Loading query sequences...  [0s]\n",
      "Closing the input file...  [0s]\n",
      "Closing the output file...  [0.001s]\n",
      "Cleaning up...  [0s]\n",
      "Total time = 36.26s\n",
      "Reported 74479 pairwise alignments, 74479 HSPs.\n",
      "74479 queries aligned.\n"
     ]
    }
   ],
   "source": [
    "diamond.run(\"test.fasta\", \"test_database.tsv\", num_hits=1)"
   ],
   "metadata": {
    "collapsed": false,
    "ExecuteTime": {
     "end_time": "2023-08-08T13:22:53.311590611Z",
     "start_time": "2023-08-08T13:22:16.736726845Z"
    }
   },
   "id": "9affeb0978ae3f70"
  },
  {
   "cell_type": "code",
   "execution_count": 8,
   "outputs": [],
   "source": [
    "import pandas as pd\n",
    "\n",
    "diamond.results = pd.read_csv('test_database.tsv', sep='\\t')"
   ],
   "metadata": {
    "collapsed": false,
    "ExecuteTime": {
     "end_time": "2023-08-08T13:15:18.677526598Z",
     "start_time": "2023-08-08T13:15:18.618504839Z"
    }
   },
   "id": "a421641267e8f7de"
  },
  {
   "cell_type": "code",
   "execution_count": 9,
   "outputs": [
    {
     "name": "stderr",
     "output_type": "stream",
     "text": [
      "/tmp/ipykernel_14483/1193019597.py:1: DtypeWarning: Columns (4,5) have mixed types. Specify dtype option on import or set low_memory=False.\n",
      "  database = pd.read_csv('final_data/database.csv')\n"
     ]
    }
   ],
   "source": [
    "database = pd.read_csv('database.csv')"
   ],
   "metadata": {
    "collapsed": false,
    "ExecuteTime": {
     "end_time": "2023-08-08T13:16:36.949541106Z",
     "start_time": "2023-08-08T13:15:23.751642875Z"
    }
   },
   "id": "cef9095024a06cf2"
  },
  {
   "cell_type": "code",
   "execution_count": 10,
   "outputs": [
    {
     "name": "stderr",
     "output_type": "stream",
     "text": [
      "/home/bisbii/Desktop/PHD/PlantsSM/src/plants_sm/alignments/alignment.py:37: SettingWithCopyWarning: \n",
      "A value is trying to be set on a copy of a slice from a DataFrame\n",
      "\n",
      "See the caveats in the documentation: https://pandas.pydata.org/pandas-docs/stable/user_guide/indexing.html#returning-a-view-versus-a-copy\n",
      "  database_reduced.drop(columns=[\"sequence\"], inplace=True)\n"
     ]
    }
   ],
   "source": [
    "diamond.associate_to_ec(database, \"test_diamond_predictions.csv\")"
   ],
   "metadata": {
    "collapsed": false,
    "ExecuteTime": {
     "end_time": "2023-08-08T13:17:49.127563584Z",
     "start_time": "2023-08-08T13:16:36.956530901Z"
    }
   },
   "id": "6b128f92a5b5f70e"
  },
  {
   "cell_type": "markdown",
   "source": [
    "## Alignments' performance analysis"
   ],
   "metadata": {
    "collapsed": false
   },
   "id": "c035c442c9d588ba"
  },
  {
   "cell_type": "code",
   "execution_count": 6,
   "outputs": [
    {
     "name": "stderr",
     "output_type": "stream",
     "text": [
      "/tmp/ipykernel_16170/813555571.py:2: DtypeWarning: Columns (4,5) have mixed types. Specify dtype option on import or set low_memory=False.\n",
      "  test = pd.read_csv('final_data/test.csv')\n"
     ]
    },
    {
     "data": {
      "text/plain": "(75566, 2779)"
     },
     "execution_count": 6,
     "metadata": {},
     "output_type": "execute_result"
    }
   ],
   "source": [
    "import pandas as pd\n",
    "test = pd.read_csv('test.csv')\n",
    "test.shape"
   ],
   "metadata": {
    "collapsed": false,
    "ExecuteTime": {
     "end_time": "2023-08-08T13:49:31.793741608Z",
     "start_time": "2023-08-08T13:49:15.205081603Z"
    }
   },
   "id": "5852ce175df2c9e6"
  },
  {
   "cell_type": "code",
   "execution_count": 7,
   "outputs": [
    {
     "name": "stderr",
     "output_type": "stream",
     "text": [
      "/tmp/ipykernel_16170/2187938569.py:1: DtypeWarning: Columns (13,14) have mixed types. Specify dtype option on import or set low_memory=False.\n",
      "  predictions = pd.read_csv(\"final_data/test_diamond_predictions.csv\")\n"
     ]
    },
    {
     "data": {
      "text/plain": "(74350, 2788)"
     },
     "execution_count": 7,
     "metadata": {},
     "output_type": "execute_result"
    }
   ],
   "source": [
    "predictions = pd.read_csv(\"test_diamond_predictions.csv\")\n",
    "predictions.shape"
   ],
   "metadata": {
    "collapsed": false,
    "ExecuteTime": {
     "end_time": "2023-08-08T13:49:48.070430806Z",
     "start_time": "2023-08-08T13:49:31.794195065Z"
    }
   },
   "id": "87766727bd2bae39"
  },
  {
   "cell_type": "code",
   "execution_count": 9,
   "outputs": [
    {
     "data": {
      "text/plain": "Index(['qseqid', 'accession', 'pident', 'length', 'mismatch', 'gapopen',\n       'qstart', 'qend', 'sstart', 'evalue',\n       ...\n       '7.4.2.5', '7.4.2.8', '7.5.2.11', '7.6.2.1', '7.6.2.11', '7.6.2.13',\n       '7.6.2.2', '7.6.2.3', '7.6.2.5', '7.6.2.8'],\n      dtype='object', length=2788)"
     },
     "execution_count": 9,
     "metadata": {},
     "output_type": "execute_result"
    }
   ],
   "source": [
    "predictions.columns"
   ],
   "metadata": {
    "collapsed": false,
    "ExecuteTime": {
     "end_time": "2023-08-08T13:50:42.618977906Z",
     "start_time": "2023-08-08T13:50:42.574184787Z"
    }
   },
   "id": "124baa1c03fca742"
  },
  {
   "cell_type": "code",
   "execution_count": 10,
   "outputs": [],
   "source": [
    "predictions.drop(columns=['accession', 'pident', 'length', 'mismatch', 'gapopen',\n",
    "       'qstart', 'qend', 'sstart', 'evalue', 'bitscore', 'name'], inplace=True)"
   ],
   "metadata": {
    "collapsed": false,
    "ExecuteTime": {
     "end_time": "2023-08-08T13:51:25.116090901Z",
     "start_time": "2023-08-08T13:51:24.894676672Z"
    }
   },
   "id": "c9fb430ac405ed8a"
  },
  {
   "cell_type": "code",
   "execution_count": 24,
   "outputs": [
    {
     "data": {
      "text/plain": "Index(['qseqid', 'EC', 'EC1', 'EC2', 'EC3', 'EC4', '1', '2', '3', '4',\n       ...\n       '7.4.2.5', '7.4.2.8', '7.5.2.11', '7.6.2.1', '7.6.2.11', '7.6.2.13',\n       '7.6.2.2', '7.6.2.3', '7.6.2.5', '7.6.2.8'],\n      dtype='object', length=2777)"
     },
     "execution_count": 24,
     "metadata": {},
     "output_type": "execute_result"
    }
   ],
   "source": [
    "predictions.columns"
   ],
   "metadata": {
    "collapsed": false,
    "ExecuteTime": {
     "end_time": "2023-08-08T14:03:01.094859659Z",
     "start_time": "2023-08-08T14:03:01.051207734Z"
    }
   },
   "id": "469978c5ca237e68"
  },
  {
   "cell_type": "code",
   "execution_count": 18,
   "outputs": [
    {
     "data": {
      "text/plain": "    accession         name                                           sequence  \\\n129    P83855   ACLP_MOUSE                              GVYMEIGRCRXEAXRRRKEAV   \n246    P82955   AHPF_ACICA                                   MLDQNIXTQLXAYLER   \n253    B7LM79    AIS_ESCF3  MKLKKHVAVLLISFLCLIGLVTQHAWSSNGLPRIDNKTLAKLSLQH...   \n255    Q8Z543    AIS_SALTI  MLAFTLRFIKNKRYFAILAGALVIIAGLASQHAWSGNGLPQINGKA...   \n348    A1DN11  ANAAT_NEOFI  MTVTISFEPYVGSSVDALSIPLYLRCQLVFKLSKPLAAVPLLESGV...   \n\n          EC EC1  EC2    EC3      EC4    1    2  ...  7.4.2.5  7.4.2.8  \\\n129  4.6.1.1   4  4.6  4.6.1  4.6.1.1  0.0  0.0  ...      0.0      0.0   \n246  1.8.1.-   1  1.8  1.8.1        0  1.0  0.0  ...      0.0      0.0   \n253  3.1.3.-   3  3.1  3.1.3        0  0.0  0.0  ...      0.0      0.0   \n255  3.1.3.-   3  3.1  3.1.3        0  0.0  0.0  ...      0.0      0.0   \n348  2.3.1.-   2  2.3  2.3.1        0  0.0  1.0  ...      0.0      0.0   \n\n     7.5.2.11  7.6.2.1  7.6.2.11  7.6.2.13  7.6.2.2  7.6.2.3  7.6.2.5  7.6.2.8  \n129       0.0      0.0       0.0       0.0      0.0      0.0      0.0      0.0  \n246       0.0      0.0       0.0       0.0      0.0      0.0      0.0      0.0  \n253       0.0      0.0       0.0       0.0      0.0      0.0      0.0      0.0  \n255       0.0      0.0       0.0       0.0      0.0      0.0      0.0      0.0  \n348       0.0      0.0       0.0       0.0      0.0      0.0      0.0      0.0  \n\n[5 rows x 2779 columns]",
      "text/html": "<div>\n<style scoped>\n    .dataframe tbody tr th:only-of-type {\n        vertical-align: middle;\n    }\n\n    .dataframe tbody tr th {\n        vertical-align: top;\n    }\n\n    .dataframe thead th {\n        text-align: right;\n    }\n</style>\n<table border=\"1\" class=\"dataframe\">\n  <thead>\n    <tr style=\"text-align: right;\">\n      <th></th>\n      <th>accession</th>\n      <th>name</th>\n      <th>sequence</th>\n      <th>EC</th>\n      <th>EC1</th>\n      <th>EC2</th>\n      <th>EC3</th>\n      <th>EC4</th>\n      <th>1</th>\n      <th>2</th>\n      <th>...</th>\n      <th>7.4.2.5</th>\n      <th>7.4.2.8</th>\n      <th>7.5.2.11</th>\n      <th>7.6.2.1</th>\n      <th>7.6.2.11</th>\n      <th>7.6.2.13</th>\n      <th>7.6.2.2</th>\n      <th>7.6.2.3</th>\n      <th>7.6.2.5</th>\n      <th>7.6.2.8</th>\n    </tr>\n  </thead>\n  <tbody>\n    <tr>\n      <th>129</th>\n      <td>P83855</td>\n      <td>ACLP_MOUSE</td>\n      <td>GVYMEIGRCRXEAXRRRKEAV</td>\n      <td>4.6.1.1</td>\n      <td>4</td>\n      <td>4.6</td>\n      <td>4.6.1</td>\n      <td>4.6.1.1</td>\n      <td>0.0</td>\n      <td>0.0</td>\n      <td>...</td>\n      <td>0.0</td>\n      <td>0.0</td>\n      <td>0.0</td>\n      <td>0.0</td>\n      <td>0.0</td>\n      <td>0.0</td>\n      <td>0.0</td>\n      <td>0.0</td>\n      <td>0.0</td>\n      <td>0.0</td>\n    </tr>\n    <tr>\n      <th>246</th>\n      <td>P82955</td>\n      <td>AHPF_ACICA</td>\n      <td>MLDQNIXTQLXAYLER</td>\n      <td>1.8.1.-</td>\n      <td>1</td>\n      <td>1.8</td>\n      <td>1.8.1</td>\n      <td>0</td>\n      <td>1.0</td>\n      <td>0.0</td>\n      <td>...</td>\n      <td>0.0</td>\n      <td>0.0</td>\n      <td>0.0</td>\n      <td>0.0</td>\n      <td>0.0</td>\n      <td>0.0</td>\n      <td>0.0</td>\n      <td>0.0</td>\n      <td>0.0</td>\n      <td>0.0</td>\n    </tr>\n    <tr>\n      <th>253</th>\n      <td>B7LM79</td>\n      <td>AIS_ESCF3</td>\n      <td>MKLKKHVAVLLISFLCLIGLVTQHAWSSNGLPRIDNKTLAKLSLQH...</td>\n      <td>3.1.3.-</td>\n      <td>3</td>\n      <td>3.1</td>\n      <td>3.1.3</td>\n      <td>0</td>\n      <td>0.0</td>\n      <td>0.0</td>\n      <td>...</td>\n      <td>0.0</td>\n      <td>0.0</td>\n      <td>0.0</td>\n      <td>0.0</td>\n      <td>0.0</td>\n      <td>0.0</td>\n      <td>0.0</td>\n      <td>0.0</td>\n      <td>0.0</td>\n      <td>0.0</td>\n    </tr>\n    <tr>\n      <th>255</th>\n      <td>Q8Z543</td>\n      <td>AIS_SALTI</td>\n      <td>MLAFTLRFIKNKRYFAILAGALVIIAGLASQHAWSGNGLPQINGKA...</td>\n      <td>3.1.3.-</td>\n      <td>3</td>\n      <td>3.1</td>\n      <td>3.1.3</td>\n      <td>0</td>\n      <td>0.0</td>\n      <td>0.0</td>\n      <td>...</td>\n      <td>0.0</td>\n      <td>0.0</td>\n      <td>0.0</td>\n      <td>0.0</td>\n      <td>0.0</td>\n      <td>0.0</td>\n      <td>0.0</td>\n      <td>0.0</td>\n      <td>0.0</td>\n      <td>0.0</td>\n    </tr>\n    <tr>\n      <th>348</th>\n      <td>A1DN11</td>\n      <td>ANAAT_NEOFI</td>\n      <td>MTVTISFEPYVGSSVDALSIPLYLRCQLVFKLSKPLAAVPLLESGV...</td>\n      <td>2.3.1.-</td>\n      <td>2</td>\n      <td>2.3</td>\n      <td>2.3.1</td>\n      <td>0</td>\n      <td>0.0</td>\n      <td>1.0</td>\n      <td>...</td>\n      <td>0.0</td>\n      <td>0.0</td>\n      <td>0.0</td>\n      <td>0.0</td>\n      <td>0.0</td>\n      <td>0.0</td>\n      <td>0.0</td>\n      <td>0.0</td>\n      <td>0.0</td>\n      <td>0.0</td>\n    </tr>\n  </tbody>\n</table>\n<p>5 rows × 2779 columns</p>\n</div>"
     },
     "execution_count": 18,
     "metadata": {},
     "output_type": "execute_result"
    }
   ],
   "source": [
    "not_in_predictions = test[~test.loc[:, \"accession\"].isin(predictions.loc[:, \"qseqid\"])]\n",
    "not_in_predictions.head()"
   ],
   "metadata": {
    "collapsed": false,
    "ExecuteTime": {
     "end_time": "2023-08-08T14:00:51.223895010Z",
     "start_time": "2023-08-08T14:00:51.163930253Z"
    }
   },
   "id": "1ec968460d483602"
  },
  {
   "cell_type": "code",
   "execution_count": 22,
   "outputs": [
    {
     "name": "stderr",
     "output_type": "stream",
     "text": [
      "/tmp/ipykernel_16170/447101761.py:1: SettingWithCopyWarning: \n",
      "A value is trying to be set on a copy of a slice from a DataFrame.\n",
      "Try using .loc[row_indexer,col_indexer] = value instead\n",
      "\n",
      "See the caveats in the documentation: https://pandas.pydata.org/pandas-docs/stable/user_guide/indexing.html#returning-a-view-versus-a-copy\n",
      "  not_in_predictions.iloc[:, 8:] = 0.0\n",
      "/tmp/ipykernel_16170/447101761.py:1: DeprecationWarning: In a future version, `df.iloc[:, i] = newvals` will attempt to set the values inplace instead of always setting a new array. To retain the old behavior, use either `df[df.columns[i]] = newvals` or, if columns are non-unique, `df.isetitem(i, newvals)`\n",
      "  not_in_predictions.iloc[:, 8:] = 0.0\n"
     ]
    }
   ],
   "source": [
    "not_in_predictions.iloc[:, 8:] = 0.0"
   ],
   "metadata": {
    "collapsed": false,
    "ExecuteTime": {
     "end_time": "2023-08-08T14:02:34.741871406Z",
     "start_time": "2023-08-08T14:02:34.434401683Z"
    }
   },
   "id": "6110dda5fc577761"
  },
  {
   "cell_type": "code",
   "execution_count": 26,
   "outputs": [
    {
     "name": "stderr",
     "output_type": "stream",
     "text": [
      "/tmp/ipykernel_16170/1960768530.py:1: SettingWithCopyWarning: \n",
      "A value is trying to be set on a copy of a slice from a DataFrame\n",
      "\n",
      "See the caveats in the documentation: https://pandas.pydata.org/pandas-docs/stable/user_guide/indexing.html#returning-a-view-versus-a-copy\n",
      "  not_in_predictions.drop([\"sequence\", \"name\"], axis=1, inplace=True)\n"
     ]
    },
    {
     "data": {
      "text/plain": "Index(['accession', 'EC', 'EC1', 'EC2', 'EC3', 'EC4', '1', '2', '3', '4',\n       ...\n       '7.4.2.5', '7.4.2.8', '7.5.2.11', '7.6.2.1', '7.6.2.11', '7.6.2.13',\n       '7.6.2.2', '7.6.2.3', '7.6.2.5', '7.6.2.8'],\n      dtype='object', length=2777)"
     },
     "execution_count": 26,
     "metadata": {},
     "output_type": "execute_result"
    }
   ],
   "source": [
    "not_in_predictions.drop([\"sequence\", \"name\"], axis=1, inplace=True)"
   ],
   "metadata": {
    "collapsed": false,
    "ExecuteTime": {
     "end_time": "2023-08-08T14:04:02.138902912Z",
     "start_time": "2023-08-08T14:04:02.095010092Z"
    }
   },
   "id": "a6fe498d1b6df032"
  },
  {
   "cell_type": "code",
   "execution_count": 27,
   "outputs": [],
   "source": [
    "not_in_predictions.columns = predictions.columns"
   ],
   "metadata": {
    "collapsed": false,
    "ExecuteTime": {
     "end_time": "2023-08-08T14:04:20.265525867Z",
     "start_time": "2023-08-08T14:04:20.259924425Z"
    }
   },
   "id": "964b859b6c430232"
  },
  {
   "cell_type": "code",
   "execution_count": 28,
   "outputs": [],
   "source": [
    "predictions = pd.concat([predictions, not_in_predictions])"
   ],
   "metadata": {
    "collapsed": false,
    "ExecuteTime": {
     "end_time": "2023-08-08T14:04:33.383956389Z",
     "start_time": "2023-08-08T14:04:33.116429042Z"
    }
   },
   "id": "26f8e8c3424d73f0"
  },
  {
   "cell_type": "code",
   "execution_count": 30,
   "outputs": [
    {
     "data": {
      "text/plain": "(75566, 2777)"
     },
     "execution_count": 30,
     "metadata": {},
     "output_type": "execute_result"
    }
   ],
   "source": [
    "predictions.shape"
   ],
   "metadata": {
    "collapsed": false,
    "ExecuteTime": {
     "end_time": "2023-08-08T14:04:48.297850551Z",
     "start_time": "2023-08-08T14:04:48.291895125Z"
    }
   },
   "id": "9139f64cbf3651fd"
  },
  {
   "cell_type": "code",
   "execution_count": 32,
   "outputs": [
    {
     "data": {
      "text/plain": "Index(['qseqid', 'EC', 'EC1', 'EC2', 'EC3', 'EC4', '1', '2', '3', '4',\n       ...\n       '7.4.2.5', '7.4.2.8', '7.5.2.11', '7.6.2.1', '7.6.2.11', '7.6.2.13',\n       '7.6.2.2', '7.6.2.3', '7.6.2.5', '7.6.2.8'],\n      dtype='object', length=2777)"
     },
     "execution_count": 32,
     "metadata": {},
     "output_type": "execute_result"
    }
   ],
   "source": [
    "predictions.columns"
   ],
   "metadata": {
    "collapsed": false,
    "ExecuteTime": {
     "end_time": "2023-08-08T14:05:14.137898823Z",
     "start_time": "2023-08-08T14:05:14.130945464Z"
    }
   },
   "id": "73e2e0bb6fd06e86"
  },
  {
   "cell_type": "code",
   "execution_count": 33,
   "outputs": [],
   "source": [
    "predictions.sort_values(by=['qseqid'], inplace=True)"
   ],
   "metadata": {
    "collapsed": false,
    "ExecuteTime": {
     "end_time": "2023-08-08T14:05:19.642795418Z",
     "start_time": "2023-08-08T14:05:18.463391886Z"
    }
   },
   "id": "7ba9f8255b64fc8d"
  },
  {
   "cell_type": "code",
   "execution_count": 34,
   "outputs": [],
   "source": [
    "test.sort_values(by=['accession'], inplace=True)"
   ],
   "metadata": {
    "collapsed": false,
    "ExecuteTime": {
     "end_time": "2023-08-08T14:05:26.876125006Z",
     "start_time": "2023-08-08T14:05:26.328945596Z"
    }
   },
   "id": "9ecebaaf0c7c7d79"
  },
  {
   "cell_type": "code",
   "execution_count": 42,
   "outputs": [
    {
     "data": {
      "text/plain": "True"
     },
     "execution_count": 42,
     "metadata": {},
     "output_type": "execute_result"
    }
   ],
   "source": [
    "predictions.loc[:, \"qseqid\"].tolist() == test.loc[:, \"accession\"].tolist()"
   ],
   "metadata": {
    "collapsed": false,
    "ExecuteTime": {
     "end_time": "2023-08-08T14:07:23.006080198Z",
     "start_time": "2023-08-08T14:07:23.000646938Z"
    }
   },
   "id": "2038a4990d688840"
  },
  {
   "cell_type": "code",
   "execution_count": 45,
   "outputs": [],
   "source": [
    "predictions.to_csv(\"test_diamond_predictions_right_format.csv\", index=False)\n",
    "test.to_csv(\"test_right_format.csv\", index=False)"
   ],
   "metadata": {
    "collapsed": false,
    "ExecuteTime": {
     "end_time": "2023-08-08T14:13:02.822720429Z",
     "start_time": "2023-08-08T14:10:04.812900748Z"
    }
   },
   "id": "61c2a63e2289d742"
  },
  {
   "cell_type": "code",
   "execution_count": 1,
   "outputs": [
    {
     "name": "stderr",
     "output_type": "stream",
     "text": [
      "/tmp/ipykernel_20501/246709705.py:3: DtypeWarning: Columns (2,3) have mixed types. Specify dtype option on import or set low_memory=False.\n",
      "  predictions = pd.read_csv(\"final_data/test_diamond_predictions_right_format.csv\")\n",
      "/tmp/ipykernel_20501/246709705.py:4: DtypeWarning: Columns (4,5) have mixed types. Specify dtype option on import or set low_memory=False.\n",
      "  test = pd.read_csv(\"final_data/test_right_format.csv\")\n"
     ]
    }
   ],
   "source": [
    "import pandas as pd\n",
    "\n",
    "predictions = pd.read_csv(\"test_diamond_predictions_right_format.csv\")\n",
    "test = pd.read_csv(\"test_right_format.csv\")"
   ],
   "metadata": {
    "collapsed": false,
    "ExecuteTime": {
     "end_time": "2023-08-08T15:30:44.522183643Z",
     "start_time": "2023-08-08T15:30:14.134499098Z"
    }
   },
   "id": "99c9d2d2ec00cf4"
  },
  {
   "cell_type": "code",
   "execution_count": 5,
   "outputs": [
    {
     "data": {
      "text/plain": "       qseqid        EC EC1  EC2    EC3       EC4    1    2    3    4  ...  \\\n0  A0A009IHW8   3.2.2.6   3  3.2  3.2.2   3.2.2.6  0.0  0.0  1.0  0.0  ...   \n1  A0A009YU83   2.3.3.5   2  2.3  2.3.3   2.3.3.5  0.0  0.0  0.0  0.0  ...   \n2  A0A010ZGY3  3.7.1.12   3  3.7  3.7.1  3.7.1.12  0.0  0.0  1.0  0.0  ...   \n3  A0A011MZP2  2.6.1.50   2  2.6  2.6.1  2.6.1.50  0.0  1.0  0.0  0.0  ...   \n4  A0A011N9Z1   7.4.2.5   7  7.4  7.4.2   7.4.2.5  0.0  0.0  0.0  0.0  ...   \n\n   7.4.2.5  7.4.2.8  7.5.2.11  7.6.2.1  7.6.2.11  7.6.2.13  7.6.2.2  7.6.2.3  \\\n0      0.0      0.0       0.0      0.0       0.0       0.0      0.0      0.0   \n1      0.0      0.0       0.0      0.0       0.0       0.0      0.0      0.0   \n2      0.0      0.0       0.0      0.0       0.0       0.0      0.0      0.0   \n3      0.0      0.0       0.0      0.0       0.0       0.0      0.0      0.0   \n4      1.0      0.0       0.0      0.0       0.0       0.0      0.0      0.0   \n\n   7.6.2.5  7.6.2.8  \n0      0.0      0.0  \n1      0.0      0.0  \n2      0.0      0.0  \n3      0.0      0.0  \n4      0.0      0.0  \n\n[5 rows x 2777 columns]",
      "text/html": "<div>\n<style scoped>\n    .dataframe tbody tr th:only-of-type {\n        vertical-align: middle;\n    }\n\n    .dataframe tbody tr th {\n        vertical-align: top;\n    }\n\n    .dataframe thead th {\n        text-align: right;\n    }\n</style>\n<table border=\"1\" class=\"dataframe\">\n  <thead>\n    <tr style=\"text-align: right;\">\n      <th></th>\n      <th>qseqid</th>\n      <th>EC</th>\n      <th>EC1</th>\n      <th>EC2</th>\n      <th>EC3</th>\n      <th>EC4</th>\n      <th>1</th>\n      <th>2</th>\n      <th>3</th>\n      <th>4</th>\n      <th>...</th>\n      <th>7.4.2.5</th>\n      <th>7.4.2.8</th>\n      <th>7.5.2.11</th>\n      <th>7.6.2.1</th>\n      <th>7.6.2.11</th>\n      <th>7.6.2.13</th>\n      <th>7.6.2.2</th>\n      <th>7.6.2.3</th>\n      <th>7.6.2.5</th>\n      <th>7.6.2.8</th>\n    </tr>\n  </thead>\n  <tbody>\n    <tr>\n      <th>0</th>\n      <td>A0A009IHW8</td>\n      <td>3.2.2.6</td>\n      <td>3</td>\n      <td>3.2</td>\n      <td>3.2.2</td>\n      <td>3.2.2.6</td>\n      <td>0.0</td>\n      <td>0.0</td>\n      <td>1.0</td>\n      <td>0.0</td>\n      <td>...</td>\n      <td>0.0</td>\n      <td>0.0</td>\n      <td>0.0</td>\n      <td>0.0</td>\n      <td>0.0</td>\n      <td>0.0</td>\n      <td>0.0</td>\n      <td>0.0</td>\n      <td>0.0</td>\n      <td>0.0</td>\n    </tr>\n    <tr>\n      <th>1</th>\n      <td>A0A009YU83</td>\n      <td>2.3.3.5</td>\n      <td>2</td>\n      <td>2.3</td>\n      <td>2.3.3</td>\n      <td>2.3.3.5</td>\n      <td>0.0</td>\n      <td>0.0</td>\n      <td>0.0</td>\n      <td>0.0</td>\n      <td>...</td>\n      <td>0.0</td>\n      <td>0.0</td>\n      <td>0.0</td>\n      <td>0.0</td>\n      <td>0.0</td>\n      <td>0.0</td>\n      <td>0.0</td>\n      <td>0.0</td>\n      <td>0.0</td>\n      <td>0.0</td>\n    </tr>\n    <tr>\n      <th>2</th>\n      <td>A0A010ZGY3</td>\n      <td>3.7.1.12</td>\n      <td>3</td>\n      <td>3.7</td>\n      <td>3.7.1</td>\n      <td>3.7.1.12</td>\n      <td>0.0</td>\n      <td>0.0</td>\n      <td>1.0</td>\n      <td>0.0</td>\n      <td>...</td>\n      <td>0.0</td>\n      <td>0.0</td>\n      <td>0.0</td>\n      <td>0.0</td>\n      <td>0.0</td>\n      <td>0.0</td>\n      <td>0.0</td>\n      <td>0.0</td>\n      <td>0.0</td>\n      <td>0.0</td>\n    </tr>\n    <tr>\n      <th>3</th>\n      <td>A0A011MZP2</td>\n      <td>2.6.1.50</td>\n      <td>2</td>\n      <td>2.6</td>\n      <td>2.6.1</td>\n      <td>2.6.1.50</td>\n      <td>0.0</td>\n      <td>1.0</td>\n      <td>0.0</td>\n      <td>0.0</td>\n      <td>...</td>\n      <td>0.0</td>\n      <td>0.0</td>\n      <td>0.0</td>\n      <td>0.0</td>\n      <td>0.0</td>\n      <td>0.0</td>\n      <td>0.0</td>\n      <td>0.0</td>\n      <td>0.0</td>\n      <td>0.0</td>\n    </tr>\n    <tr>\n      <th>4</th>\n      <td>A0A011N9Z1</td>\n      <td>7.4.2.5</td>\n      <td>7</td>\n      <td>7.4</td>\n      <td>7.4.2</td>\n      <td>7.4.2.5</td>\n      <td>0.0</td>\n      <td>0.0</td>\n      <td>0.0</td>\n      <td>0.0</td>\n      <td>...</td>\n      <td>1.0</td>\n      <td>0.0</td>\n      <td>0.0</td>\n      <td>0.0</td>\n      <td>0.0</td>\n      <td>0.0</td>\n      <td>0.0</td>\n      <td>0.0</td>\n      <td>0.0</td>\n      <td>0.0</td>\n    </tr>\n  </tbody>\n</table>\n<p>5 rows × 2777 columns</p>\n</div>"
     },
     "execution_count": 5,
     "metadata": {},
     "output_type": "execute_result"
    }
   ],
   "source": [
    "predictions.columns"
   ],
   "metadata": {
    "collapsed": false,
    "ExecuteTime": {
     "end_time": "2023-08-08T15:51:19.672722136Z",
     "start_time": "2023-08-08T15:51:19.663229282Z"
    }
   },
   "id": "ca2617022ef0a5d5"
  },
  {
   "cell_type": "code",
   "execution_count": 16,
   "outputs": [],
   "source": [
    "swiss_prot = pd.read_csv(\"swiss_prot_ec_filtered.csv\")"
   ],
   "metadata": {
    "collapsed": false,
    "ExecuteTime": {
     "end_time": "2023-08-08T15:57:56.015283129Z",
     "start_time": "2023-08-08T15:57:55.465469197Z"
    }
   },
   "id": "b797d2763367a33f"
  },
  {
   "cell_type": "code",
   "execution_count": 17,
   "outputs": [],
   "source": [
    "predictions_swiss_prot = predictions[predictions.loc[:, \"qseqid\"].isin(swiss_prot.loc[:, \"accession\"])]"
   ],
   "metadata": {
    "collapsed": false,
    "ExecuteTime": {
     "end_time": "2023-08-08T15:58:08.611986964Z",
     "start_time": "2023-08-08T15:58:08.402211678Z"
    }
   },
   "id": "f956a0a31c33eb7e"
  },
  {
   "cell_type": "code",
   "execution_count": 19,
   "outputs": [],
   "source": [
    "test_swiss_prot = test[test.loc[:, \"accession\"].isin(swiss_prot.loc[:, \"accession\"])]"
   ],
   "metadata": {
    "collapsed": false,
    "ExecuteTime": {
     "end_time": "2023-08-08T15:59:07.957993418Z",
     "start_time": "2023-08-08T15:59:07.753837830Z"
    }
   },
   "id": "43dd298ea32d2f8f"
  },
  {
   "cell_type": "code",
   "execution_count": 18,
   "outputs": [
    {
     "data": {
      "text/plain": "0        A0A009IHW8\n19       A0A011QK89\n37       A0A017SEY2\n38       A0A017SP50\n63       A0A023I7E1\n            ...    \n75505        W8JWV8\n75506        W8JWW7\n75532        X1WBB5\n75533        X2EVV9\n75535        X2JE85\nName: qseqid, Length: 53167, dtype: object"
     },
     "execution_count": 18,
     "metadata": {},
     "output_type": "execute_result"
    }
   ],
   "source": [
    "predictions_swiss_prot.loc[:, \"qseqid\"]"
   ],
   "metadata": {
    "collapsed": false,
    "ExecuteTime": {
     "end_time": "2023-08-08T15:58:11.506439560Z",
     "start_time": "2023-08-08T15:58:11.498497510Z"
    }
   },
   "id": "f9e5bd5f3ef5c6bd"
  },
  {
   "cell_type": "code",
   "execution_count": 4,
   "outputs": [
    {
     "data": {
      "text/plain": "     1    2    3    4    5    6    7  1.1  1.10  1.11  ...  7.4.2.5  7.4.2.8  \\\n0  0.0  0.0  1.0  0.0  0.0  0.0  0.0  0.0   0.0   0.0  ...      0.0      0.0   \n1  0.0  0.0  0.0  0.0  0.0  0.0  0.0  0.0   0.0   0.0  ...      0.0      0.0   \n2  0.0  0.0  1.0  0.0  0.0  0.0  0.0  0.0   0.0   0.0  ...      0.0      0.0   \n3  0.0  1.0  0.0  0.0  0.0  0.0  0.0  0.0   0.0   0.0  ...      0.0      0.0   \n4  0.0  0.0  0.0  0.0  0.0  0.0  1.0  0.0   0.0   0.0  ...      1.0      0.0   \n\n   7.5.2.11  7.6.2.1  7.6.2.11  7.6.2.13  7.6.2.2  7.6.2.3  7.6.2.5  7.6.2.8  \n0       0.0      0.0       0.0       0.0      0.0      0.0      0.0      0.0  \n1       0.0      0.0       0.0       0.0      0.0      0.0      0.0      0.0  \n2       0.0      0.0       0.0       0.0      0.0      0.0      0.0      0.0  \n3       0.0      0.0       0.0       0.0      0.0      0.0      0.0      0.0  \n4       0.0      0.0       0.0       0.0      0.0      0.0      0.0      0.0  \n\n[5 rows x 2771 columns]",
      "text/html": "<div>\n<style scoped>\n    .dataframe tbody tr th:only-of-type {\n        vertical-align: middle;\n    }\n\n    .dataframe tbody tr th {\n        vertical-align: top;\n    }\n\n    .dataframe thead th {\n        text-align: right;\n    }\n</style>\n<table border=\"1\" class=\"dataframe\">\n  <thead>\n    <tr style=\"text-align: right;\">\n      <th></th>\n      <th>1</th>\n      <th>2</th>\n      <th>3</th>\n      <th>4</th>\n      <th>5</th>\n      <th>6</th>\n      <th>7</th>\n      <th>1.1</th>\n      <th>1.10</th>\n      <th>1.11</th>\n      <th>...</th>\n      <th>7.4.2.5</th>\n      <th>7.4.2.8</th>\n      <th>7.5.2.11</th>\n      <th>7.6.2.1</th>\n      <th>7.6.2.11</th>\n      <th>7.6.2.13</th>\n      <th>7.6.2.2</th>\n      <th>7.6.2.3</th>\n      <th>7.6.2.5</th>\n      <th>7.6.2.8</th>\n    </tr>\n  </thead>\n  <tbody>\n    <tr>\n      <th>0</th>\n      <td>0.0</td>\n      <td>0.0</td>\n      <td>1.0</td>\n      <td>0.0</td>\n      <td>0.0</td>\n      <td>0.0</td>\n      <td>0.0</td>\n      <td>0.0</td>\n      <td>0.0</td>\n      <td>0.0</td>\n      <td>...</td>\n      <td>0.0</td>\n      <td>0.0</td>\n      <td>0.0</td>\n      <td>0.0</td>\n      <td>0.0</td>\n      <td>0.0</td>\n      <td>0.0</td>\n      <td>0.0</td>\n      <td>0.0</td>\n      <td>0.0</td>\n    </tr>\n    <tr>\n      <th>1</th>\n      <td>0.0</td>\n      <td>0.0</td>\n      <td>0.0</td>\n      <td>0.0</td>\n      <td>0.0</td>\n      <td>0.0</td>\n      <td>0.0</td>\n      <td>0.0</td>\n      <td>0.0</td>\n      <td>0.0</td>\n      <td>...</td>\n      <td>0.0</td>\n      <td>0.0</td>\n      <td>0.0</td>\n      <td>0.0</td>\n      <td>0.0</td>\n      <td>0.0</td>\n      <td>0.0</td>\n      <td>0.0</td>\n      <td>0.0</td>\n      <td>0.0</td>\n    </tr>\n    <tr>\n      <th>2</th>\n      <td>0.0</td>\n      <td>0.0</td>\n      <td>1.0</td>\n      <td>0.0</td>\n      <td>0.0</td>\n      <td>0.0</td>\n      <td>0.0</td>\n      <td>0.0</td>\n      <td>0.0</td>\n      <td>0.0</td>\n      <td>...</td>\n      <td>0.0</td>\n      <td>0.0</td>\n      <td>0.0</td>\n      <td>0.0</td>\n      <td>0.0</td>\n      <td>0.0</td>\n      <td>0.0</td>\n      <td>0.0</td>\n      <td>0.0</td>\n      <td>0.0</td>\n    </tr>\n    <tr>\n      <th>3</th>\n      <td>0.0</td>\n      <td>1.0</td>\n      <td>0.0</td>\n      <td>0.0</td>\n      <td>0.0</td>\n      <td>0.0</td>\n      <td>0.0</td>\n      <td>0.0</td>\n      <td>0.0</td>\n      <td>0.0</td>\n      <td>...</td>\n      <td>0.0</td>\n      <td>0.0</td>\n      <td>0.0</td>\n      <td>0.0</td>\n      <td>0.0</td>\n      <td>0.0</td>\n      <td>0.0</td>\n      <td>0.0</td>\n      <td>0.0</td>\n      <td>0.0</td>\n    </tr>\n    <tr>\n      <th>4</th>\n      <td>0.0</td>\n      <td>0.0</td>\n      <td>0.0</td>\n      <td>0.0</td>\n      <td>0.0</td>\n      <td>0.0</td>\n      <td>1.0</td>\n      <td>0.0</td>\n      <td>0.0</td>\n      <td>0.0</td>\n      <td>...</td>\n      <td>1.0</td>\n      <td>0.0</td>\n      <td>0.0</td>\n      <td>0.0</td>\n      <td>0.0</td>\n      <td>0.0</td>\n      <td>0.0</td>\n      <td>0.0</td>\n      <td>0.0</td>\n      <td>0.0</td>\n    </tr>\n  </tbody>\n</table>\n<p>5 rows × 2771 columns</p>\n</div>"
     },
     "execution_count": 4,
     "metadata": {},
     "output_type": "execute_result"
    }
   ],
   "source": [
    "predictions.iloc[:, 6:].head()"
   ],
   "metadata": {
    "collapsed": false,
    "ExecuteTime": {
     "end_time": "2023-08-08T15:12:14.819521629Z",
     "start_time": "2023-08-08T15:12:14.775333993Z"
    }
   },
   "id": "51055e2c95298bd0"
  },
  {
   "cell_type": "code",
   "execution_count": 41,
   "outputs": [],
   "source": [
    "zero_columns = test_swiss_prot.iloc[:, 8:].columns[(test_swiss_prot.iloc[:, 8:] == 0).all()]\n",
    "columns = list(test_swiss_prot.iloc[:, 8:].columns)\n",
    "for column in zero_columns: \n",
    "       columns.remove(column)\n",
    "test_swiss_prot_reduced = test_swiss_prot.iloc[:, 8:].loc[:, columns]\n",
    "predictions_swiss_prot_reduced = predictions_swiss_prot.iloc[:, 6:].loc[:, columns]"
   ],
   "metadata": {
    "collapsed": false,
    "ExecuteTime": {
     "end_time": "2023-08-08T16:22:30.848940124Z",
     "start_time": "2023-08-08T16:22:29.868318722Z"
    }
   },
   "id": "7086d5be32dbb7f6"
  },
  {
   "cell_type": "code",
   "execution_count": 42,
   "outputs": [
    {
     "data": {
      "text/plain": "      1    2    3    4    5    6    7  1.1  1.10  1.11  ...  7.4.2.5  7.4.2.8  \\\n0   0.0  0.0  1.0  0.0  0.0  0.0  0.0  0.0   0.0   0.0  ...      0.0      0.0   \n19  1.0  0.0  0.0  0.0  0.0  0.0  0.0  1.0   0.0   0.0  ...      0.0      0.0   \n37  1.0  0.0  0.0  0.0  0.0  0.0  0.0  1.0   0.0   0.0  ...      0.0      0.0   \n38  0.0  1.0  0.0  0.0  0.0  0.0  0.0  0.0   0.0   0.0  ...      0.0      0.0   \n63  0.0  0.0  1.0  0.0  0.0  0.0  0.0  0.0   0.0   0.0  ...      0.0      0.0   \n\n    7.5.2.11  7.6.2.1  7.6.2.11  7.6.2.13  7.6.2.2  7.6.2.3  7.6.2.5  7.6.2.8  \n0        0.0      0.0       0.0       0.0      0.0      0.0      0.0      0.0  \n19       0.0      0.0       0.0       0.0      0.0      0.0      0.0      0.0  \n37       0.0      0.0       0.0       0.0      0.0      0.0      0.0      0.0  \n38       0.0      0.0       0.0       0.0      0.0      0.0      0.0      0.0  \n63       0.0      0.0       0.0       0.0      0.0      0.0      0.0      0.0  \n\n[5 rows x 2611 columns]",
      "text/html": "<div>\n<style scoped>\n    .dataframe tbody tr th:only-of-type {\n        vertical-align: middle;\n    }\n\n    .dataframe tbody tr th {\n        vertical-align: top;\n    }\n\n    .dataframe thead th {\n        text-align: right;\n    }\n</style>\n<table border=\"1\" class=\"dataframe\">\n  <thead>\n    <tr style=\"text-align: right;\">\n      <th></th>\n      <th>1</th>\n      <th>2</th>\n      <th>3</th>\n      <th>4</th>\n      <th>5</th>\n      <th>6</th>\n      <th>7</th>\n      <th>1.1</th>\n      <th>1.10</th>\n      <th>1.11</th>\n      <th>...</th>\n      <th>7.4.2.5</th>\n      <th>7.4.2.8</th>\n      <th>7.5.2.11</th>\n      <th>7.6.2.1</th>\n      <th>7.6.2.11</th>\n      <th>7.6.2.13</th>\n      <th>7.6.2.2</th>\n      <th>7.6.2.3</th>\n      <th>7.6.2.5</th>\n      <th>7.6.2.8</th>\n    </tr>\n  </thead>\n  <tbody>\n    <tr>\n      <th>0</th>\n      <td>0.0</td>\n      <td>0.0</td>\n      <td>1.0</td>\n      <td>0.0</td>\n      <td>0.0</td>\n      <td>0.0</td>\n      <td>0.0</td>\n      <td>0.0</td>\n      <td>0.0</td>\n      <td>0.0</td>\n      <td>...</td>\n      <td>0.0</td>\n      <td>0.0</td>\n      <td>0.0</td>\n      <td>0.0</td>\n      <td>0.0</td>\n      <td>0.0</td>\n      <td>0.0</td>\n      <td>0.0</td>\n      <td>0.0</td>\n      <td>0.0</td>\n    </tr>\n    <tr>\n      <th>19</th>\n      <td>1.0</td>\n      <td>0.0</td>\n      <td>0.0</td>\n      <td>0.0</td>\n      <td>0.0</td>\n      <td>0.0</td>\n      <td>0.0</td>\n      <td>1.0</td>\n      <td>0.0</td>\n      <td>0.0</td>\n      <td>...</td>\n      <td>0.0</td>\n      <td>0.0</td>\n      <td>0.0</td>\n      <td>0.0</td>\n      <td>0.0</td>\n      <td>0.0</td>\n      <td>0.0</td>\n      <td>0.0</td>\n      <td>0.0</td>\n      <td>0.0</td>\n    </tr>\n    <tr>\n      <th>37</th>\n      <td>1.0</td>\n      <td>0.0</td>\n      <td>0.0</td>\n      <td>0.0</td>\n      <td>0.0</td>\n      <td>0.0</td>\n      <td>0.0</td>\n      <td>1.0</td>\n      <td>0.0</td>\n      <td>0.0</td>\n      <td>...</td>\n      <td>0.0</td>\n      <td>0.0</td>\n      <td>0.0</td>\n      <td>0.0</td>\n      <td>0.0</td>\n      <td>0.0</td>\n      <td>0.0</td>\n      <td>0.0</td>\n      <td>0.0</td>\n      <td>0.0</td>\n    </tr>\n    <tr>\n      <th>38</th>\n      <td>0.0</td>\n      <td>1.0</td>\n      <td>0.0</td>\n      <td>0.0</td>\n      <td>0.0</td>\n      <td>0.0</td>\n      <td>0.0</td>\n      <td>0.0</td>\n      <td>0.0</td>\n      <td>0.0</td>\n      <td>...</td>\n      <td>0.0</td>\n      <td>0.0</td>\n      <td>0.0</td>\n      <td>0.0</td>\n      <td>0.0</td>\n      <td>0.0</td>\n      <td>0.0</td>\n      <td>0.0</td>\n      <td>0.0</td>\n      <td>0.0</td>\n    </tr>\n    <tr>\n      <th>63</th>\n      <td>0.0</td>\n      <td>0.0</td>\n      <td>1.0</td>\n      <td>0.0</td>\n      <td>0.0</td>\n      <td>0.0</td>\n      <td>0.0</td>\n      <td>0.0</td>\n      <td>0.0</td>\n      <td>0.0</td>\n      <td>...</td>\n      <td>0.0</td>\n      <td>0.0</td>\n      <td>0.0</td>\n      <td>0.0</td>\n      <td>0.0</td>\n      <td>0.0</td>\n      <td>0.0</td>\n      <td>0.0</td>\n      <td>0.0</td>\n      <td>0.0</td>\n    </tr>\n  </tbody>\n</table>\n<p>5 rows × 2611 columns</p>\n</div>"
     },
     "execution_count": 42,
     "metadata": {},
     "output_type": "execute_result"
    }
   ],
   "source": [
    "predictions_swiss_prot_reduced.head()"
   ],
   "metadata": {
    "collapsed": false,
    "ExecuteTime": {
     "end_time": "2023-08-08T16:22:44.227102794Z",
     "start_time": "2023-08-08T16:22:44.182854379Z"
    }
   },
   "id": "ebc0b2128f22febf"
  },
  {
   "cell_type": "markdown",
   "source": [
    "### Metrics"
   ],
   "metadata": {
    "collapsed": false
   },
   "id": "986d1e6373217315"
  },
  {
   "cell_type": "code",
   "execution_count": 43,
   "outputs": [
    {
     "data": {
      "text/plain": "0.890312622277862"
     },
     "execution_count": 43,
     "metadata": {},
     "output_type": "execute_result"
    }
   ],
   "source": [
    "from sklearn.metrics import f1_score\n",
    "\n",
    "f1_score(test_swiss_prot_reduced, predictions_swiss_prot_reduced, average='macro')"
   ],
   "metadata": {
    "collapsed": false,
    "ExecuteTime": {
     "end_time": "2023-08-08T16:23:25.555410642Z",
     "start_time": "2023-08-08T16:23:07.596552211Z"
    }
   },
   "id": "22466e44fd2beb8a"
  },
  {
   "cell_type": "code",
   "execution_count": 49,
   "outputs": [
    {
     "data": {
      "text/plain": "0.89561363360713"
     },
     "execution_count": 49,
     "metadata": {},
     "output_type": "execute_result"
    }
   ],
   "source": [
    "from sklearn.metrics import precision_score\n",
    "\n",
    "precision_score(test_swiss_prot_reduced, predictions_swiss_prot_reduced, average='macro', zero_division=1)"
   ],
   "metadata": {
    "collapsed": false,
    "ExecuteTime": {
     "end_time": "2023-08-08T16:28:02.902281739Z",
     "start_time": "2023-08-08T16:27:45.127636074Z"
    }
   },
   "id": "ada9b1c367ad3082"
  },
  {
   "cell_type": "code",
   "execution_count": 45,
   "outputs": [
    {
     "data": {
      "text/plain": "0.9229834225920303"
     },
     "execution_count": 45,
     "metadata": {},
     "output_type": "execute_result"
    }
   ],
   "source": [
    "from sklearn.metrics import recall_score\n",
    "\n",
    "recall_score(test_swiss_prot_reduced, predictions_swiss_prot_reduced, average='macro')"
   ],
   "metadata": {
    "collapsed": false,
    "ExecuteTime": {
     "end_time": "2023-08-08T16:24:28.526724712Z",
     "start_time": "2023-08-08T16:24:10.708921777Z"
    }
   },
   "id": "9d2e49dfddf280a2"
  },
  {
   "cell_type": "code",
   "execution_count": 46,
   "outputs": [
    {
     "data": {
      "text/plain": "0.8710235498980502"
     },
     "execution_count": 46,
     "metadata": {},
     "output_type": "execute_result"
    }
   ],
   "source": [
    "from sklearn.metrics import f1_score\n",
    "\n",
    "f1_score(test_swiss_prot.iloc[:, 8:], predictions_swiss_prot.iloc[:, 6:], average='macro', zero_division=1)"
   ],
   "metadata": {
    "collapsed": false,
    "ExecuteTime": {
     "end_time": "2023-08-08T16:25:32.446646367Z",
     "start_time": "2023-08-08T16:25:13.097617989Z"
    }
   },
   "id": "dcc9c6532cb19bc8"
  },
  {
   "cell_type": "code",
   "execution_count": 47,
   "outputs": [
    {
     "data": {
      "text/plain": "0.9118352683540634"
     },
     "execution_count": 47,
     "metadata": {},
     "output_type": "execute_result"
    }
   ],
   "source": [
    "from sklearn.metrics import precision_score\n",
    "\n",
    "precision_score(test.iloc[:, 8:], predictions.iloc[:, 6:], average='macro', zero_division=1)"
   ],
   "metadata": {
    "collapsed": false,
    "ExecuteTime": {
     "end_time": "2023-08-08T16:26:51.327770318Z",
     "start_time": "2023-08-08T16:26:23.252024644Z"
    }
   },
   "id": "47af237eb129bdec"
  },
  {
   "cell_type": "code",
   "execution_count": 48,
   "outputs": [
    {
     "data": {
      "text/plain": "0.897572823045061"
     },
     "execution_count": 48,
     "metadata": {},
     "output_type": "execute_result"
    }
   ],
   "source": [
    "from sklearn.metrics import recall_score\n",
    "\n",
    "recall_score(test.iloc[:, 8:], predictions.iloc[:, 6:], average='macro', zero_division=1)"
   ],
   "metadata": {
    "collapsed": false,
    "ExecuteTime": {
     "end_time": "2023-08-08T16:27:19.242732604Z",
     "start_time": "2023-08-08T16:26:51.314584556Z"
    }
   },
   "id": "f406bc76096d58d4"
  },
  {
   "cell_type": "markdown",
   "source": [],
   "metadata": {
    "collapsed": false
   },
   "id": "bbe8edbd891b9597"
  }
 ],
 "metadata": {
  "kernelspec": {
   "display_name": "Python 3",
   "language": "python",
   "name": "python3"
  },
  "language_info": {
   "codemirror_mode": {
    "name": "ipython",
    "version": 2
   },
   "file_extension": ".py",
   "mimetype": "text/x-python",
   "name": "python",
   "nbconvert_exporter": "python",
   "pygments_lexer": "ipython2",
   "version": "2.7.6"
  }
 },
 "nbformat": 4,
 "nbformat_minor": 5
}
