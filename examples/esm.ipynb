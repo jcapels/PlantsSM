{
 "cells": [
  {
   "cell_type": "code",
   "execution_count": 1,
   "metadata": {},
   "outputs": [
    {
     "name": "stderr",
     "output_type": "stream",
     "text": [
      "/home/jcapela/miniconda3/envs/plants_sm/lib/python3.8/site-packages/IPython/core/interactiveshell.py:3460: DtypeWarning: Columns (4,5) have mixed types.Specify dtype option on import or set low_memory=False.\n",
      "  exec(code_obj, self.user_global_ns, self.user_ns)\n"
     ]
    }
   ],
   "source": [
    "import pandas as pd\n",
    "\n",
    "test = pd.read_csv(\"./data/train.csv\")"
   ]
  },
  {
   "cell_type": "code",
   "execution_count": 3,
   "metadata": {},
   "outputs": [],
   "source": [
    "test_reduced = test.iloc[:5000]\n",
    "test_reduced.to_csv(\"./data/test_reduced.csv\", index=False)"
   ]
  },
  {
   "cell_type": "code",
   "execution_count": 1,
   "metadata": {},
   "outputs": [
    {
     "name": "stderr",
     "output_type": "stream",
     "text": [
      "/home/jcapela/miniconda3/envs/plants_sm/lib/python3.8/site-packages/IPython/core/interactiveshell.py:3460: DtypeWarning: Columns (4,5) have mixed types.Specify dtype option on import or set low_memory=False.\n",
      "  exec(code_obj, self.user_global_ns, self.user_ns)\n"
     ]
    }
   ],
   "source": [
    "import pandas as pd\n",
    "\n",
    "test = pd.read_csv(\"./data/esm2_t12_35m/test_esm2_t12_35M_UR50D.csv\")"
   ]
  },
  {
   "cell_type": "code",
   "execution_count": 17,
   "metadata": {},
   "outputs": [
    {
     "data": {
      "text/plain": [
       "Index(['ESM_esm2_t12_35M_UR50D_0', 'ESM_esm2_t12_35M_UR50D_1',\n",
       "       'ESM_esm2_t12_35M_UR50D_2', 'ESM_esm2_t12_35M_UR50D_3',\n",
       "       'ESM_esm2_t12_35M_UR50D_4', 'ESM_esm2_t12_35M_UR50D_5',\n",
       "       'ESM_esm2_t12_35M_UR50D_6', 'ESM_esm2_t12_35M_UR50D_7',\n",
       "       'ESM_esm2_t12_35M_UR50D_8', 'ESM_esm2_t12_35M_UR50D_9',\n",
       "       ...\n",
       "       'ESM_esm2_t12_35M_UR50D_470', 'ESM_esm2_t12_35M_UR50D_471',\n",
       "       'ESM_esm2_t12_35M_UR50D_472', 'ESM_esm2_t12_35M_UR50D_473',\n",
       "       'ESM_esm2_t12_35M_UR50D_474', 'ESM_esm2_t12_35M_UR50D_475',\n",
       "       'ESM_esm2_t12_35M_UR50D_476', 'ESM_esm2_t12_35M_UR50D_477',\n",
       "       'ESM_esm2_t12_35M_UR50D_478', 'ESM_esm2_t12_35M_UR50D_479'],\n",
       "      dtype='object', length=480)"
      ]
     },
     "execution_count": 17,
     "metadata": {},
     "output_type": "execute_result"
    }
   ],
   "source": [
    "test.iloc[:, 2780:].columns"
   ]
  },
  {
   "cell_type": "code",
   "execution_count": 16,
   "metadata": {},
   "outputs": [
    {
     "data": {
      "text/plain": [
       "Index(['1', '2', '3', '4', '5', '6', '7', '1.1', '1.10', '1.11',\n",
       "       ...\n",
       "       '7.4.2.5', '7.4.2.8', '7.5.2.11', '7.6.2.1', '7.6.2.11', '7.6.2.13',\n",
       "       '7.6.2.2', '7.6.2.3', '7.6.2.5', '7.6.2.8'],\n",
       "      dtype='object', length=2771)"
      ]
     },
     "execution_count": 16,
     "metadata": {},
     "output_type": "execute_result"
    }
   ],
   "source": [
    "test.iloc[:, 8:2779].columns"
   ]
  },
  {
   "cell_type": "code",
   "execution_count": 14,
   "metadata": {},
   "outputs": [],
   "source": [
    "test_reduced = test[test.sequence.str.len() <= test.sequence.str.len().quantile(0.99)]\n",
    "test_reduced = test_reduced[test_reduced.sequence.str.len() >= test_reduced.sequence.str.len().quantile(0.01)]\n",
    "test_reduced.to_csv(\"./data/test_reduced.csv\", index=False)"
   ]
  },
  {
   "cell_type": "code",
   "execution_count": 1,
   "metadata": {},
   "outputs": [
    {
     "name": "stderr",
     "output_type": "stream",
     "text": [
      "/home/jcapela/PlantsSM/src/plants_sm/io/csv.py:132: DtypeWarning: Columns (4,5) have mixed types.Specify dtype option on import or set low_memory=False.\n",
      "  df = reader.read()\n"
     ]
    }
   ],
   "source": [
    "from plants_sm.data_structures.dataset.single_input_dataset import SingleInputDataset\n",
    "\n",
    "\n",
    "dataset = SingleInputDataset.from_csv(\"./data/test_reduced.csv\", instances_ids_field=\"accession\", representation_field=\"sequence\", \n",
    "                                labels_field=slice(8, -1))"
   ]
  },
  {
   "cell_type": "code",
   "execution_count": 3,
   "metadata": {},
   "outputs": [
    {
     "name": "stderr",
     "output_type": "stream",
     "text": [
      "Truncator: 100%|██████████| 5000/5000 [00:00<00:00, 39455.16it/s]\n"
     ]
    },
    {
     "data": {
      "text/plain": [
       "<plants_sm.data_structures.dataset.single_input_dataset.SingleInputDataset at 0x7f2e90617310>"
      ]
     },
     "execution_count": 3,
     "metadata": {},
     "output_type": "execute_result"
    }
   ],
   "source": [
    "from plants_sm.data_standardization.truncation import Truncator\n",
    "Truncator(max_length=1397).fit_transform(dataset)"
   ]
  },
  {
   "cell_type": "code",
   "execution_count": 6,
   "metadata": {},
   "outputs": [
    {
     "name": "stdout",
     "output_type": "stream",
     "text": [
      "1397\n"
     ]
    }
   ],
   "source": [
    "max_value = 0\n",
    "for instance in dataset.get_instances().values():\n",
    "    length = len(instance)\n",
    "    if length > max_value:\n",
    "        max_value = length\n",
    "print(max_value)"
   ]
  },
  {
   "cell_type": "code",
   "execution_count": 2,
   "metadata": {},
   "outputs": [
    {
     "name": "stderr",
     "output_type": "stream",
     "text": [
      "/home/jcapela/miniconda3/envs/plants_sm/lib/python3.8/site-packages/tqdm/auto.py:22: TqdmWarning: IProgress not found. Please update jupyter and ipywidgets. See https://ipywidgets.readthedocs.io/en/stable/user_install.html\n",
      "  from .autonotebook import tqdm as notebook_tqdm\n"
     ]
    },
    {
     "ename": "KeyboardInterrupt",
     "evalue": "",
     "output_type": "error",
     "traceback": [
      "\u001b[0;31m---------------------------------------------------------------------------\u001b[0m",
      "\u001b[0;31mKeyboardInterrupt\u001b[0m                         Traceback (most recent call last)",
      "Cell \u001b[0;32mIn[2], line 4\u001b[0m\n\u001b[1;32m      1\u001b[0m \u001b[39mfrom\u001b[39;00m \u001b[39mplants_sm\u001b[39;00m\u001b[39m.\u001b[39;00m\u001b[39mfeaturization\u001b[39;00m\u001b[39m.\u001b[39;00m\u001b[39mproteins\u001b[39;00m\u001b[39m.\u001b[39;00m\u001b[39mbio_embeddings\u001b[39;00m\u001b[39m.\u001b[39;00m\u001b[39mesm\u001b[39;00m \u001b[39mimport\u001b[39;00m ESMEncoder\n\u001b[0;32m----> 4\u001b[0m ESMEncoder(device\u001b[39m=\u001b[39;49m\u001b[39m\"\u001b[39;49m\u001b[39mcuda\u001b[39;49m\u001b[39m\"\u001b[39;49m, esm_function\u001b[39m=\u001b[39;49m\u001b[39m\"\u001b[39;49m\u001b[39mesm2_t36_3B_UR50D\u001b[39;49m\u001b[39m\"\u001b[39;49m, batch_size\u001b[39m=\u001b[39;49m\u001b[39m1\u001b[39;49m, num_gpus\u001b[39m=\u001b[39;49m\u001b[39m4\u001b[39;49m)\u001b[39m.\u001b[39;49mfit_transform(dataset)\n",
      "File \u001b[0;32m~/PlantsSM/src/plants_sm/transformation/transformer.py:77\u001b[0m, in \u001b[0;36mTransformer.fit_transform\u001b[0;34m(self, dataset, instance_type)\u001b[0m\n\u001b[1;32m     72\u001b[0m \u001b[39mdef\u001b[39;00m \u001b[39mfit_transform\u001b[39m(\u001b[39mself\u001b[39m, dataset: Dataset, instance_type: \u001b[39mstr\u001b[39m \u001b[39m=\u001b[39m \u001b[39mNone\u001b[39;00m) \u001b[39m-\u001b[39m\u001b[39m>\u001b[39m Dataset:\n\u001b[1;32m     73\u001b[0m \u001b[39m    \u001b[39m\u001b[39m\"\"\"\u001b[39;00m\n\u001b[1;32m     74\u001b[0m \u001b[39m    Fit the transformer and transform the dataset\u001b[39;00m\n\u001b[1;32m     75\u001b[0m \u001b[39m    \"\"\"\u001b[39;00m\n\u001b[0;32m---> 77\u001b[0m     \u001b[39mreturn\u001b[39;00m \u001b[39mself\u001b[39;49m\u001b[39m.\u001b[39;49mfit(dataset, instance_type)\u001b[39m.\u001b[39mtransform(dataset, instance_type)\n",
      "File \u001b[0;32m~/PlantsSM/src/plants_sm/estimation/_utils.py:16\u001b[0m, in \u001b[0;36mfit_status.<locals>.wrapper\u001b[0;34m(self, *args, **kwargs)\u001b[0m\n\u001b[1;32m      9\u001b[0m \u001b[39mtry\u001b[39;00m:\n\u001b[1;32m     10\u001b[0m     \u001b[39m# it is required to set fitted twice.\u001b[39;00m\n\u001b[1;32m     11\u001b[0m     \u001b[39m# the first time allows to set the estimated parameters,\u001b[39;00m\n\u001b[1;32m     12\u001b[0m     \u001b[39m# as these can be accessed without fitting the estimator\u001b[39;00m\n\u001b[1;32m     13\u001b[0m     \u001b[39m# the second time is to set the status to True,\u001b[39;00m\n\u001b[1;32m     14\u001b[0m     \u001b[39m# even if some parameters are internally altered during the fitting process due to parameter processing\u001b[39;00m\n\u001b[1;32m     15\u001b[0m     \u001b[39mself\u001b[39m\u001b[39m.\u001b[39m_fitted \u001b[39m=\u001b[39m \u001b[39mTrue\u001b[39;00m\n\u001b[0;32m---> 16\u001b[0m     res \u001b[39m=\u001b[39m func(\u001b[39mself\u001b[39;49m, \u001b[39m*\u001b[39;49margs, \u001b[39m*\u001b[39;49m\u001b[39m*\u001b[39;49mkwargs)\n\u001b[1;32m     17\u001b[0m     \u001b[39mself\u001b[39m\u001b[39m.\u001b[39m_fitted \u001b[39m=\u001b[39m \u001b[39mTrue\u001b[39;00m\n\u001b[1;32m     18\u001b[0m     \u001b[39mreturn\u001b[39;00m res\n",
      "File \u001b[0;32m~/PlantsSM/src/plants_sm/estimation/estimator.py:65\u001b[0m, in \u001b[0;36mEstimator.fit\u001b[0;34m(self, dataset, instance_type)\u001b[0m\n\u001b[1;32m     63\u001b[0m         batch \u001b[39m=\u001b[39m dataset\u001b[39m.\u001b[39mnext_batch()\n\u001b[1;32m     64\u001b[0m \u001b[39melse\u001b[39;00m:\n\u001b[0;32m---> 65\u001b[0m     \u001b[39mself\u001b[39;49m\u001b[39m.\u001b[39;49m_fit_dataset(dataset, instance_type)\n\u001b[1;32m     67\u001b[0m \u001b[39mreturn\u001b[39;00m \u001b[39mself\u001b[39m\n",
      "File \u001b[0;32m~/PlantsSM/src/plants_sm/estimation/estimator.py:92\u001b[0m, in \u001b[0;36mEstimator._fit_dataset\u001b[0;34m(self, dataset, instance_type, batch)\u001b[0m\n\u001b[1;32m     89\u001b[0m     function \u001b[39m=\u001b[39m \u001b[39mself\u001b[39m\u001b[39m.\u001b[39m_fit\n\u001b[1;32m     91\u001b[0m \u001b[39mif\u001b[39;00m instance_type \u001b[39mis\u001b[39;00m \u001b[39mNone\u001b[39;00m \u001b[39mand\u001b[39;00m \u001b[39misinstance\u001b[39m(dataset, SingleInputDataset):\n\u001b[0;32m---> 92\u001b[0m     function(dataset, PLACEHOLDER_FIELD)\n\u001b[1;32m     93\u001b[0m \u001b[39melif\u001b[39;00m \u001b[39misinstance\u001b[39m(dataset, SingleInputDataset):\n\u001b[1;32m     94\u001b[0m     function(dataset, PLACEHOLDER_FIELD)\n",
      "File \u001b[0;32m~/PlantsSM/src/plants_sm/featurization/proteins/bio_embeddings/esm.py:72\u001b[0m, in \u001b[0;36mESMEncoder._fit\u001b[0;34m(self, dataset, instance_type)\u001b[0m\n\u001b[1;32m     69\u001b[0m esm_callable \u001b[39m=\u001b[39m ESM_FUNCTIONS[\u001b[39mself\u001b[39m\u001b[39m.\u001b[39mesm_function]\n\u001b[1;32m     70\u001b[0m \u001b[39mself\u001b[39m\u001b[39m.\u001b[39mlayers \u001b[39m=\u001b[39m ESM_LAYERS[\u001b[39mself\u001b[39m\u001b[39m.\u001b[39mesm_function]\n\u001b[0;32m---> 72\u001b[0m model, \u001b[39mself\u001b[39m\u001b[39m.\u001b[39malphabet \u001b[39m=\u001b[39m esm_callable()\n\u001b[1;32m     73\u001b[0m \u001b[39mself\u001b[39m\u001b[39m.\u001b[39mmodel \u001b[39m=\u001b[39m model\u001b[39m.\u001b[39mto(\u001b[39mself\u001b[39m\u001b[39m.\u001b[39mdevice)\n\u001b[1;32m     74\u001b[0m \u001b[39mself\u001b[39m\u001b[39m.\u001b[39mbatch_converter \u001b[39m=\u001b[39m \u001b[39mself\u001b[39m\u001b[39m.\u001b[39malphabet\u001b[39m.\u001b[39mget_batch_converter()\n",
      "File \u001b[0;32m~/miniconda3/envs/plants_sm/lib/python3.8/site-packages/esm/pretrained.py:387\u001b[0m, in \u001b[0;36mesm2_t36_3B_UR50D\u001b[0;34m()\u001b[0m\n\u001b[1;32m    382\u001b[0m \u001b[39mdef\u001b[39;00m \u001b[39mesm2_t36_3B_UR50D\u001b[39m():\n\u001b[1;32m    383\u001b[0m \u001b[39m    \u001b[39m\u001b[39m\"\"\"36 layer ESM-2 model with 3B params, trained on UniRef50.\u001b[39;00m\n\u001b[1;32m    384\u001b[0m \n\u001b[1;32m    385\u001b[0m \u001b[39m    Returns a tuple of (Model, Alphabet).\u001b[39;00m\n\u001b[1;32m    386\u001b[0m \u001b[39m    \"\"\"\u001b[39;00m\n\u001b[0;32m--> 387\u001b[0m     \u001b[39mreturn\u001b[39;00m load_model_and_alphabet_hub(\u001b[39m\"\u001b[39;49m\u001b[39mesm2_t36_3B_UR50D\u001b[39;49m\u001b[39m\"\u001b[39;49m)\n",
      "File \u001b[0;32m~/miniconda3/envs/plants_sm/lib/python3.8/site-packages/esm/pretrained.py:64\u001b[0m, in \u001b[0;36mload_model_and_alphabet_hub\u001b[0;34m(model_name)\u001b[0m\n\u001b[1;32m     62\u001b[0m \u001b[39mdef\u001b[39;00m \u001b[39mload_model_and_alphabet_hub\u001b[39m(model_name):\n\u001b[1;32m     63\u001b[0m     model_data, regression_data \u001b[39m=\u001b[39m _download_model_and_regression_data(model_name)\n\u001b[0;32m---> 64\u001b[0m     \u001b[39mreturn\u001b[39;00m load_model_and_alphabet_core(model_name, model_data, regression_data)\n",
      "File \u001b[0;32m~/miniconda3/envs/plants_sm/lib/python3.8/site-packages/esm/pretrained.py:191\u001b[0m, in \u001b[0;36mload_model_and_alphabet_core\u001b[0;34m(model_name, model_data, regression_data)\u001b[0m\n\u001b[1;32m    188\u001b[0m     model_data[\u001b[39m\"\u001b[39m\u001b[39mmodel\u001b[39m\u001b[39m\"\u001b[39m]\u001b[39m.\u001b[39mupdate(regression_data[\u001b[39m\"\u001b[39m\u001b[39mmodel\u001b[39m\u001b[39m\"\u001b[39m])\n\u001b[1;32m    190\u001b[0m \u001b[39mif\u001b[39;00m model_name\u001b[39m.\u001b[39mstartswith(\u001b[39m\"\u001b[39m\u001b[39mesm2\u001b[39m\u001b[39m\"\u001b[39m):\n\u001b[0;32m--> 191\u001b[0m     model, alphabet, model_state \u001b[39m=\u001b[39m _load_model_and_alphabet_core_v2(model_data)\n\u001b[1;32m    192\u001b[0m \u001b[39melse\u001b[39;00m:\n\u001b[1;32m    193\u001b[0m     model, alphabet, model_state \u001b[39m=\u001b[39m _load_model_and_alphabet_core_v1(model_data)\n",
      "File \u001b[0;32m~/miniconda3/envs/plants_sm/lib/python3.8/site-packages/esm/pretrained.py:176\u001b[0m, in \u001b[0;36m_load_model_and_alphabet_core_v2\u001b[0;34m(model_data)\u001b[0m\n\u001b[1;32m    174\u001b[0m state_dict \u001b[39m=\u001b[39m upgrade_state_dict(state_dict)\n\u001b[1;32m    175\u001b[0m alphabet \u001b[39m=\u001b[39m esm\u001b[39m.\u001b[39mdata\u001b[39m.\u001b[39mAlphabet\u001b[39m.\u001b[39mfrom_architecture(\u001b[39m\"\u001b[39m\u001b[39mESM-1b\u001b[39m\u001b[39m\"\u001b[39m)\n\u001b[0;32m--> 176\u001b[0m model \u001b[39m=\u001b[39m ESM2(\n\u001b[1;32m    177\u001b[0m     num_layers\u001b[39m=\u001b[39;49mcfg\u001b[39m.\u001b[39;49mencoder_layers,\n\u001b[1;32m    178\u001b[0m     embed_dim\u001b[39m=\u001b[39;49mcfg\u001b[39m.\u001b[39;49mencoder_embed_dim,\n\u001b[1;32m    179\u001b[0m     attention_heads\u001b[39m=\u001b[39;49mcfg\u001b[39m.\u001b[39;49mencoder_attention_heads,\n\u001b[1;32m    180\u001b[0m     alphabet\u001b[39m=\u001b[39;49malphabet,\n\u001b[1;32m    181\u001b[0m     token_dropout\u001b[39m=\u001b[39;49mcfg\u001b[39m.\u001b[39;49mtoken_dropout,\n\u001b[1;32m    182\u001b[0m )\n\u001b[1;32m    183\u001b[0m \u001b[39mreturn\u001b[39;00m model, alphabet, state_dict\n",
      "File \u001b[0;32m~/miniconda3/envs/plants_sm/lib/python3.8/site-packages/esm/model/esm2.py:39\u001b[0m, in \u001b[0;36mESM2.__init__\u001b[0;34m(self, num_layers, embed_dim, attention_heads, alphabet, token_dropout)\u001b[0m\n\u001b[1;32m     36\u001b[0m \u001b[39mself\u001b[39m\u001b[39m.\u001b[39mappend_eos \u001b[39m=\u001b[39m alphabet\u001b[39m.\u001b[39mappend_eos\n\u001b[1;32m     37\u001b[0m \u001b[39mself\u001b[39m\u001b[39m.\u001b[39mtoken_dropout \u001b[39m=\u001b[39m token_dropout\n\u001b[0;32m---> 39\u001b[0m \u001b[39mself\u001b[39;49m\u001b[39m.\u001b[39;49m_init_submodules()\n",
      "File \u001b[0;32m~/miniconda3/envs/plants_sm/lib/python3.8/site-packages/esm/model/esm2.py:50\u001b[0m, in \u001b[0;36mESM2._init_submodules\u001b[0;34m(self)\u001b[0m\n\u001b[1;32m     42\u001b[0m \u001b[39mself\u001b[39m\u001b[39m.\u001b[39membed_scale \u001b[39m=\u001b[39m \u001b[39m1\u001b[39m\n\u001b[1;32m     43\u001b[0m \u001b[39mself\u001b[39m\u001b[39m.\u001b[39membed_tokens \u001b[39m=\u001b[39m nn\u001b[39m.\u001b[39mEmbedding(\n\u001b[1;32m     44\u001b[0m     \u001b[39mself\u001b[39m\u001b[39m.\u001b[39malphabet_size,\n\u001b[1;32m     45\u001b[0m     \u001b[39mself\u001b[39m\u001b[39m.\u001b[39membed_dim,\n\u001b[1;32m     46\u001b[0m     padding_idx\u001b[39m=\u001b[39m\u001b[39mself\u001b[39m\u001b[39m.\u001b[39mpadding_idx,\n\u001b[1;32m     47\u001b[0m )\n\u001b[1;32m     49\u001b[0m \u001b[39mself\u001b[39m\u001b[39m.\u001b[39mlayers \u001b[39m=\u001b[39m nn\u001b[39m.\u001b[39mModuleList(\n\u001b[0;32m---> 50\u001b[0m     [\n\u001b[1;32m     51\u001b[0m         TransformerLayer(\n\u001b[1;32m     52\u001b[0m             \u001b[39mself\u001b[39m\u001b[39m.\u001b[39membed_dim,\n\u001b[1;32m     53\u001b[0m             \u001b[39m4\u001b[39m \u001b[39m*\u001b[39m \u001b[39mself\u001b[39m\u001b[39m.\u001b[39membed_dim,\n\u001b[1;32m     54\u001b[0m             \u001b[39mself\u001b[39m\u001b[39m.\u001b[39mattention_heads,\n\u001b[1;32m     55\u001b[0m             add_bias_kv\u001b[39m=\u001b[39m\u001b[39mFalse\u001b[39;00m,\n\u001b[1;32m     56\u001b[0m             use_esm1b_layer_norm\u001b[39m=\u001b[39m\u001b[39mTrue\u001b[39;00m,\n\u001b[1;32m     57\u001b[0m             use_rotary_embeddings\u001b[39m=\u001b[39m\u001b[39mTrue\u001b[39;00m,\n\u001b[1;32m     58\u001b[0m         )\n\u001b[1;32m     59\u001b[0m         \u001b[39mfor\u001b[39;00m _ \u001b[39min\u001b[39;00m \u001b[39mrange\u001b[39m(\u001b[39mself\u001b[39m\u001b[39m.\u001b[39mnum_layers)\n\u001b[1;32m     60\u001b[0m     ]\n\u001b[1;32m     61\u001b[0m )\n\u001b[1;32m     63\u001b[0m \u001b[39mself\u001b[39m\u001b[39m.\u001b[39mcontact_head \u001b[39m=\u001b[39m ContactPredictionHead(\n\u001b[1;32m     64\u001b[0m     \u001b[39mself\u001b[39m\u001b[39m.\u001b[39mnum_layers \u001b[39m*\u001b[39m \u001b[39mself\u001b[39m\u001b[39m.\u001b[39mattention_heads,\n\u001b[1;32m     65\u001b[0m     \u001b[39mself\u001b[39m\u001b[39m.\u001b[39mprepend_bos,\n\u001b[1;32m     66\u001b[0m     \u001b[39mself\u001b[39m\u001b[39m.\u001b[39mappend_eos,\n\u001b[1;32m     67\u001b[0m     eos_idx\u001b[39m=\u001b[39m\u001b[39mself\u001b[39m\u001b[39m.\u001b[39meos_idx,\n\u001b[1;32m     68\u001b[0m )\n\u001b[1;32m     69\u001b[0m \u001b[39mself\u001b[39m\u001b[39m.\u001b[39memb_layer_norm_after \u001b[39m=\u001b[39m ESM1bLayerNorm(\u001b[39mself\u001b[39m\u001b[39m.\u001b[39membed_dim)\n",
      "File \u001b[0;32m~/miniconda3/envs/plants_sm/lib/python3.8/site-packages/esm/model/esm2.py:51\u001b[0m, in \u001b[0;36m<listcomp>\u001b[0;34m(.0)\u001b[0m\n\u001b[1;32m     42\u001b[0m \u001b[39mself\u001b[39m\u001b[39m.\u001b[39membed_scale \u001b[39m=\u001b[39m \u001b[39m1\u001b[39m\n\u001b[1;32m     43\u001b[0m \u001b[39mself\u001b[39m\u001b[39m.\u001b[39membed_tokens \u001b[39m=\u001b[39m nn\u001b[39m.\u001b[39mEmbedding(\n\u001b[1;32m     44\u001b[0m     \u001b[39mself\u001b[39m\u001b[39m.\u001b[39malphabet_size,\n\u001b[1;32m     45\u001b[0m     \u001b[39mself\u001b[39m\u001b[39m.\u001b[39membed_dim,\n\u001b[1;32m     46\u001b[0m     padding_idx\u001b[39m=\u001b[39m\u001b[39mself\u001b[39m\u001b[39m.\u001b[39mpadding_idx,\n\u001b[1;32m     47\u001b[0m )\n\u001b[1;32m     49\u001b[0m \u001b[39mself\u001b[39m\u001b[39m.\u001b[39mlayers \u001b[39m=\u001b[39m nn\u001b[39m.\u001b[39mModuleList(\n\u001b[1;32m     50\u001b[0m     [\n\u001b[0;32m---> 51\u001b[0m         TransformerLayer(\n\u001b[1;32m     52\u001b[0m             \u001b[39mself\u001b[39;49m\u001b[39m.\u001b[39;49membed_dim,\n\u001b[1;32m     53\u001b[0m             \u001b[39m4\u001b[39;49m \u001b[39m*\u001b[39;49m \u001b[39mself\u001b[39;49m\u001b[39m.\u001b[39;49membed_dim,\n\u001b[1;32m     54\u001b[0m             \u001b[39mself\u001b[39;49m\u001b[39m.\u001b[39;49mattention_heads,\n\u001b[1;32m     55\u001b[0m             add_bias_kv\u001b[39m=\u001b[39;49m\u001b[39mFalse\u001b[39;49;00m,\n\u001b[1;32m     56\u001b[0m             use_esm1b_layer_norm\u001b[39m=\u001b[39;49m\u001b[39mTrue\u001b[39;49;00m,\n\u001b[1;32m     57\u001b[0m             use_rotary_embeddings\u001b[39m=\u001b[39;49m\u001b[39mTrue\u001b[39;49;00m,\n\u001b[1;32m     58\u001b[0m         )\n\u001b[1;32m     59\u001b[0m         \u001b[39mfor\u001b[39;00m _ \u001b[39min\u001b[39;00m \u001b[39mrange\u001b[39m(\u001b[39mself\u001b[39m\u001b[39m.\u001b[39mnum_layers)\n\u001b[1;32m     60\u001b[0m     ]\n\u001b[1;32m     61\u001b[0m )\n\u001b[1;32m     63\u001b[0m \u001b[39mself\u001b[39m\u001b[39m.\u001b[39mcontact_head \u001b[39m=\u001b[39m ContactPredictionHead(\n\u001b[1;32m     64\u001b[0m     \u001b[39mself\u001b[39m\u001b[39m.\u001b[39mnum_layers \u001b[39m*\u001b[39m \u001b[39mself\u001b[39m\u001b[39m.\u001b[39mattention_heads,\n\u001b[1;32m     65\u001b[0m     \u001b[39mself\u001b[39m\u001b[39m.\u001b[39mprepend_bos,\n\u001b[1;32m     66\u001b[0m     \u001b[39mself\u001b[39m\u001b[39m.\u001b[39mappend_eos,\n\u001b[1;32m     67\u001b[0m     eos_idx\u001b[39m=\u001b[39m\u001b[39mself\u001b[39m\u001b[39m.\u001b[39meos_idx,\n\u001b[1;32m     68\u001b[0m )\n\u001b[1;32m     69\u001b[0m \u001b[39mself\u001b[39m\u001b[39m.\u001b[39memb_layer_norm_after \u001b[39m=\u001b[39m ESM1bLayerNorm(\u001b[39mself\u001b[39m\u001b[39m.\u001b[39membed_dim)\n",
      "File \u001b[0;32m~/miniconda3/envs/plants_sm/lib/python3.8/site-packages/esm/modules.py:101\u001b[0m, in \u001b[0;36mTransformerLayer.__init__\u001b[0;34m(self, embed_dim, ffn_embed_dim, attention_heads, add_bias_kv, use_esm1b_layer_norm, use_rotary_embeddings)\u001b[0m\n\u001b[1;32m     99\u001b[0m \u001b[39mself\u001b[39m\u001b[39m.\u001b[39mattention_heads \u001b[39m=\u001b[39m attention_heads\n\u001b[1;32m    100\u001b[0m \u001b[39mself\u001b[39m\u001b[39m.\u001b[39muse_rotary_embeddings \u001b[39m=\u001b[39m use_rotary_embeddings\n\u001b[0;32m--> 101\u001b[0m \u001b[39mself\u001b[39;49m\u001b[39m.\u001b[39;49m_init_submodules(add_bias_kv, use_esm1b_layer_norm)\n",
      "File \u001b[0;32m~/miniconda3/envs/plants_sm/lib/python3.8/site-packages/esm/modules.py:106\u001b[0m, in \u001b[0;36mTransformerLayer._init_submodules\u001b[0;34m(self, add_bias_kv, use_esm1b_layer_norm)\u001b[0m\n\u001b[1;32m    103\u001b[0m \u001b[39mdef\u001b[39;00m \u001b[39m_init_submodules\u001b[39m(\u001b[39mself\u001b[39m, add_bias_kv, use_esm1b_layer_norm):\n\u001b[1;32m    104\u001b[0m     BertLayerNorm \u001b[39m=\u001b[39m ESM1bLayerNorm \u001b[39mif\u001b[39;00m use_esm1b_layer_norm \u001b[39melse\u001b[39;00m ESM1LayerNorm\n\u001b[0;32m--> 106\u001b[0m     \u001b[39mself\u001b[39m\u001b[39m.\u001b[39mself_attn \u001b[39m=\u001b[39m MultiheadAttention(\n\u001b[1;32m    107\u001b[0m         \u001b[39mself\u001b[39;49m\u001b[39m.\u001b[39;49membed_dim,\n\u001b[1;32m    108\u001b[0m         \u001b[39mself\u001b[39;49m\u001b[39m.\u001b[39;49mattention_heads,\n\u001b[1;32m    109\u001b[0m         add_bias_kv\u001b[39m=\u001b[39;49madd_bias_kv,\n\u001b[1;32m    110\u001b[0m         add_zero_attn\u001b[39m=\u001b[39;49m\u001b[39mFalse\u001b[39;49;00m,\n\u001b[1;32m    111\u001b[0m         use_rotary_embeddings\u001b[39m=\u001b[39;49m\u001b[39mself\u001b[39;49m\u001b[39m.\u001b[39;49muse_rotary_embeddings,\n\u001b[1;32m    112\u001b[0m     )\n\u001b[1;32m    113\u001b[0m     \u001b[39mself\u001b[39m\u001b[39m.\u001b[39mself_attn_layer_norm \u001b[39m=\u001b[39m BertLayerNorm(\u001b[39mself\u001b[39m\u001b[39m.\u001b[39membed_dim)\n\u001b[1;32m    115\u001b[0m     \u001b[39mself\u001b[39m\u001b[39m.\u001b[39mfc1 \u001b[39m=\u001b[39m nn\u001b[39m.\u001b[39mLinear(\u001b[39mself\u001b[39m\u001b[39m.\u001b[39membed_dim, \u001b[39mself\u001b[39m\u001b[39m.\u001b[39mffn_embed_dim)\n",
      "File \u001b[0;32m~/miniconda3/envs/plants_sm/lib/python3.8/site-packages/esm/multihead_attention.py:123\u001b[0m, in \u001b[0;36mMultiheadAttention.__init__\u001b[0;34m(self, embed_dim, num_heads, kdim, vdim, dropout, bias, add_bias_kv, add_zero_attn, self_attention, encoder_decoder_attention, use_rotary_embeddings)\u001b[0m\n\u001b[1;32m    119\u001b[0m     \u001b[39mself\u001b[39m\u001b[39m.\u001b[39mbias_k \u001b[39m=\u001b[39m \u001b[39mself\u001b[39m\u001b[39m.\u001b[39mbias_v \u001b[39m=\u001b[39m \u001b[39mNone\u001b[39;00m\n\u001b[1;32m    121\u001b[0m \u001b[39mself\u001b[39m\u001b[39m.\u001b[39madd_zero_attn \u001b[39m=\u001b[39m add_zero_attn\n\u001b[0;32m--> 123\u001b[0m \u001b[39mself\u001b[39;49m\u001b[39m.\u001b[39;49mreset_parameters()\n\u001b[1;32m    125\u001b[0m \u001b[39mself\u001b[39m\u001b[39m.\u001b[39monnx_trace \u001b[39m=\u001b[39m \u001b[39mFalse\u001b[39;00m\n\u001b[1;32m    126\u001b[0m \u001b[39mself\u001b[39m\u001b[39m.\u001b[39mrot_emb \u001b[39m=\u001b[39m \u001b[39mNone\u001b[39;00m\n",
      "File \u001b[0;32m~/miniconda3/envs/plants_sm/lib/python3.8/site-packages/esm/multihead_attention.py:143\u001b[0m, in \u001b[0;36mMultiheadAttention.reset_parameters\u001b[0;34m(self)\u001b[0m\n\u001b[1;32m    139\u001b[0m \u001b[39mdef\u001b[39;00m \u001b[39mreset_parameters\u001b[39m(\u001b[39mself\u001b[39m):\n\u001b[1;32m    140\u001b[0m     \u001b[39mif\u001b[39;00m \u001b[39mself\u001b[39m\u001b[39m.\u001b[39mqkv_same_dim:\n\u001b[1;32m    141\u001b[0m         \u001b[39m# Empirically observed the convergence to be much better with\u001b[39;00m\n\u001b[1;32m    142\u001b[0m         \u001b[39m# the scaled initialization\u001b[39;00m\n\u001b[0;32m--> 143\u001b[0m         nn\u001b[39m.\u001b[39;49minit\u001b[39m.\u001b[39;49mxavier_uniform_(\u001b[39mself\u001b[39;49m\u001b[39m.\u001b[39;49mk_proj\u001b[39m.\u001b[39;49mweight, gain\u001b[39m=\u001b[39;49m\u001b[39m1\u001b[39;49m \u001b[39m/\u001b[39;49m math\u001b[39m.\u001b[39;49msqrt(\u001b[39m2\u001b[39;49m))\n\u001b[1;32m    144\u001b[0m         nn\u001b[39m.\u001b[39minit\u001b[39m.\u001b[39mxavier_uniform_(\u001b[39mself\u001b[39m\u001b[39m.\u001b[39mv_proj\u001b[39m.\u001b[39mweight, gain\u001b[39m=\u001b[39m\u001b[39m1\u001b[39m \u001b[39m/\u001b[39m math\u001b[39m.\u001b[39msqrt(\u001b[39m2\u001b[39m))\n\u001b[1;32m    145\u001b[0m         nn\u001b[39m.\u001b[39minit\u001b[39m.\u001b[39mxavier_uniform_(\u001b[39mself\u001b[39m\u001b[39m.\u001b[39mq_proj\u001b[39m.\u001b[39mweight, gain\u001b[39m=\u001b[39m\u001b[39m1\u001b[39m \u001b[39m/\u001b[39m math\u001b[39m.\u001b[39msqrt(\u001b[39m2\u001b[39m))\n",
      "File \u001b[0;32m~/miniconda3/envs/plants_sm/lib/python3.8/site-packages/torch/nn/init.py:327\u001b[0m, in \u001b[0;36mxavier_uniform_\u001b[0;34m(tensor, gain)\u001b[0m\n\u001b[1;32m    324\u001b[0m std \u001b[39m=\u001b[39m gain \u001b[39m*\u001b[39m math\u001b[39m.\u001b[39msqrt(\u001b[39m2.0\u001b[39m \u001b[39m/\u001b[39m \u001b[39mfloat\u001b[39m(fan_in \u001b[39m+\u001b[39m fan_out))\n\u001b[1;32m    325\u001b[0m a \u001b[39m=\u001b[39m math\u001b[39m.\u001b[39msqrt(\u001b[39m3.0\u001b[39m) \u001b[39m*\u001b[39m std  \u001b[39m# Calculate uniform bounds from standard deviation\u001b[39;00m\n\u001b[0;32m--> 327\u001b[0m \u001b[39mreturn\u001b[39;00m _no_grad_uniform_(tensor, \u001b[39m-\u001b[39;49ma, a)\n",
      "File \u001b[0;32m~/miniconda3/envs/plants_sm/lib/python3.8/site-packages/torch/nn/init.py:14\u001b[0m, in \u001b[0;36m_no_grad_uniform_\u001b[0;34m(tensor, a, b)\u001b[0m\n\u001b[1;32m     12\u001b[0m \u001b[39mdef\u001b[39;00m \u001b[39m_no_grad_uniform_\u001b[39m(tensor, a, b):\n\u001b[1;32m     13\u001b[0m     \u001b[39mwith\u001b[39;00m torch\u001b[39m.\u001b[39mno_grad():\n\u001b[0;32m---> 14\u001b[0m         \u001b[39mreturn\u001b[39;00m tensor\u001b[39m.\u001b[39;49muniform_(a, b)\n",
      "\u001b[0;31mKeyboardInterrupt\u001b[0m: "
     ]
    }
   ],
   "source": [
    "\n",
    "\n",
    "from plants_sm.featurization.proteins.bio_embeddings.esm import ESMEncoder\n",
    "\n",
    "\n",
    "ESMEncoder(device=\"cuda\", esm_function=\"esm2_t36_3B_UR50D\", batch_size=1, num_gpus=4).fit_transform(dataset)"
   ]
  },
  {
   "cell_type": "code",
   "execution_count": 5,
   "metadata": {},
   "outputs": [
    {
     "name": "stderr",
     "output_type": "stream",
     "text": [
      "Word2Vec: 100%|██████████| 5000/5000 [00:06<00:00, 824.12it/s]\n"
     ]
    },
    {
     "data": {
      "text/plain": [
       "<plants_sm.data_structures.dataset.single_input_dataset.SingleInputDataset at 0x7f2e90617310>"
      ]
     },
     "execution_count": 5,
     "metadata": {},
     "output_type": "execute_result"
    }
   ],
   "source": [
    "from plants_sm.featurization.proteins.bio_embeddings.word2vec import Word2Vec\n",
    "\n",
    "\n",
    "Word2Vec().fit_transform(dataset)"
   ]
  },
  {
   "cell_type": "code",
   "execution_count": 28,
   "metadata": {},
   "outputs": [
    {
     "data": {
      "text/plain": [
       "640"
      ]
     },
     "execution_count": 28,
     "metadata": {},
     "output_type": "execute_result"
    }
   ],
   "source": [
    "len(dataset.features_fields[\"place_holder\"])"
   ]
  },
  {
   "cell_type": "code",
   "execution_count": 23,
   "metadata": {},
   "outputs": [
    {
     "data": {
      "text/plain": [
       "(320,)"
      ]
     },
     "execution_count": 23,
     "metadata": {},
     "output_type": "execute_result"
    }
   ],
   "source": [
    "dataset.features[\"place_holder\"][\"I3R176\"].shape"
   ]
  },
  {
   "cell_type": "code",
   "execution_count": 6,
   "metadata": {},
   "outputs": [],
   "source": [
    "dataset.to_csv(\"./data/test_reduced_esm.csv\")"
   ]
  },
  {
   "cell_type": "code",
   "execution_count": 9,
   "metadata": {},
   "outputs": [
    {
     "name": "stderr",
     "output_type": "stream",
     "text": [
      "/home/jcapela/miniconda3/envs/plants_sm/lib/python3.8/site-packages/IPython/core/interactiveshell.py:3460: DtypeWarning: Columns (4,5) have mixed types.Specify dtype option on import or set low_memory=False.\n",
      "  exec(code_obj, self.user_global_ns, self.user_ns)\n"
     ]
    },
    {
     "data": {
      "text/html": [
       "<div>\n",
       "<style scoped>\n",
       "    .dataframe tbody tr th:only-of-type {\n",
       "        vertical-align: middle;\n",
       "    }\n",
       "\n",
       "    .dataframe tbody tr th {\n",
       "        vertical-align: top;\n",
       "    }\n",
       "\n",
       "    .dataframe thead th {\n",
       "        text-align: right;\n",
       "    }\n",
       "</style>\n",
       "<table border=\"1\" class=\"dataframe\">\n",
       "  <thead>\n",
       "    <tr style=\"text-align: right;\">\n",
       "      <th></th>\n",
       "      <th>Unnamed: 0</th>\n",
       "      <th>accession</th>\n",
       "      <th>name</th>\n",
       "      <th>EC</th>\n",
       "      <th>EC1</th>\n",
       "      <th>EC2</th>\n",
       "      <th>EC3</th>\n",
       "      <th>EC4</th>\n",
       "      <th>1</th>\n",
       "      <th>2</th>\n",
       "      <th>...</th>\n",
       "      <th>word2vec_503</th>\n",
       "      <th>word2vec_504</th>\n",
       "      <th>word2vec_505</th>\n",
       "      <th>word2vec_506</th>\n",
       "      <th>word2vec_507</th>\n",
       "      <th>word2vec_508</th>\n",
       "      <th>word2vec_509</th>\n",
       "      <th>word2vec_510</th>\n",
       "      <th>word2vec_511</th>\n",
       "      <th>word2vec_512</th>\n",
       "    </tr>\n",
       "  </thead>\n",
       "  <tbody>\n",
       "    <tr>\n",
       "      <th>0</th>\n",
       "      <td>0</td>\n",
       "      <td>Q7XQ85</td>\n",
       "      <td>1A12_ORYSJ</td>\n",
       "      <td>4.4.1.14</td>\n",
       "      <td>4</td>\n",
       "      <td>4.4</td>\n",
       "      <td>4.4.1</td>\n",
       "      <td>4.4.1.14</td>\n",
       "      <td>0.0</td>\n",
       "      <td>0.0</td>\n",
       "      <td>...</td>\n",
       "      <td>0.019150</td>\n",
       "      <td>-0.018458</td>\n",
       "      <td>0.062411</td>\n",
       "      <td>-0.029814</td>\n",
       "      <td>-0.065052</td>\n",
       "      <td>-0.026976</td>\n",
       "      <td>-0.013128</td>\n",
       "      <td>-0.059176</td>\n",
       "      <td>0.035541</td>\n",
       "      <td>-0.051473</td>\n",
       "    </tr>\n",
       "    <tr>\n",
       "      <th>1</th>\n",
       "      <td>1</td>\n",
       "      <td>A0A0P0WIY3</td>\n",
       "      <td>1A13_ORYSJ</td>\n",
       "      <td>4.4.1.14</td>\n",
       "      <td>4</td>\n",
       "      <td>4.4</td>\n",
       "      <td>4.4.1</td>\n",
       "      <td>4.4.1.14</td>\n",
       "      <td>0.0</td>\n",
       "      <td>0.0</td>\n",
       "      <td>...</td>\n",
       "      <td>0.015985</td>\n",
       "      <td>-0.020694</td>\n",
       "      <td>0.061179</td>\n",
       "      <td>-0.028515</td>\n",
       "      <td>-0.063737</td>\n",
       "      <td>-0.033109</td>\n",
       "      <td>-0.017545</td>\n",
       "      <td>-0.059569</td>\n",
       "      <td>0.035243</td>\n",
       "      <td>-0.049128</td>\n",
       "    </tr>\n",
       "    <tr>\n",
       "      <th>2</th>\n",
       "      <td>2</td>\n",
       "      <td>Q43309</td>\n",
       "      <td>1A14_ARATH</td>\n",
       "      <td>4.4.1.14</td>\n",
       "      <td>4</td>\n",
       "      <td>4.4</td>\n",
       "      <td>4.4.1</td>\n",
       "      <td>4.4.1.14</td>\n",
       "      <td>0.0</td>\n",
       "      <td>0.0</td>\n",
       "      <td>...</td>\n",
       "      <td>0.016950</td>\n",
       "      <td>-0.014905</td>\n",
       "      <td>0.070020</td>\n",
       "      <td>-0.032560</td>\n",
       "      <td>-0.068296</td>\n",
       "      <td>-0.024372</td>\n",
       "      <td>-0.017000</td>\n",
       "      <td>-0.061191</td>\n",
       "      <td>0.040713</td>\n",
       "      <td>-0.054937</td>\n",
       "    </tr>\n",
       "    <tr>\n",
       "      <th>3</th>\n",
       "      <td>3</td>\n",
       "      <td>P29535</td>\n",
       "      <td>1A14_SOLLC</td>\n",
       "      <td>4.4.1.14</td>\n",
       "      <td>4</td>\n",
       "      <td>4.4</td>\n",
       "      <td>4.4.1</td>\n",
       "      <td>4.4.1.14</td>\n",
       "      <td>0.0</td>\n",
       "      <td>0.0</td>\n",
       "      <td>...</td>\n",
       "      <td>0.017325</td>\n",
       "      <td>-0.015279</td>\n",
       "      <td>0.069340</td>\n",
       "      <td>-0.032585</td>\n",
       "      <td>-0.063828</td>\n",
       "      <td>-0.023135</td>\n",
       "      <td>-0.020652</td>\n",
       "      <td>-0.061863</td>\n",
       "      <td>0.039154</td>\n",
       "      <td>-0.051963</td>\n",
       "    </tr>\n",
       "    <tr>\n",
       "      <th>4</th>\n",
       "      <td>4</td>\n",
       "      <td>A0A0P0UZP7</td>\n",
       "      <td>1A15_ORYSJ</td>\n",
       "      <td>4.4.1.14</td>\n",
       "      <td>4</td>\n",
       "      <td>4.4</td>\n",
       "      <td>4.4.1</td>\n",
       "      <td>4.4.1.14</td>\n",
       "      <td>0.0</td>\n",
       "      <td>0.0</td>\n",
       "      <td>...</td>\n",
       "      <td>0.014068</td>\n",
       "      <td>-0.018709</td>\n",
       "      <td>0.063375</td>\n",
       "      <td>-0.030802</td>\n",
       "      <td>-0.062235</td>\n",
       "      <td>-0.027905</td>\n",
       "      <td>-0.015503</td>\n",
       "      <td>-0.061831</td>\n",
       "      <td>0.039371</td>\n",
       "      <td>-0.047659</td>\n",
       "    </tr>\n",
       "    <tr>\n",
       "      <th>...</th>\n",
       "      <td>...</td>\n",
       "      <td>...</td>\n",
       "      <td>...</td>\n",
       "      <td>...</td>\n",
       "      <td>...</td>\n",
       "      <td>...</td>\n",
       "      <td>...</td>\n",
       "      <td>...</td>\n",
       "      <td>...</td>\n",
       "      <td>...</td>\n",
       "      <td>...</td>\n",
       "      <td>...</td>\n",
       "      <td>...</td>\n",
       "      <td>...</td>\n",
       "      <td>...</td>\n",
       "      <td>...</td>\n",
       "      <td>...</td>\n",
       "      <td>...</td>\n",
       "      <td>...</td>\n",
       "      <td>...</td>\n",
       "      <td>...</td>\n",
       "    </tr>\n",
       "    <tr>\n",
       "      <th>4995</th>\n",
       "      <td>4995</td>\n",
       "      <td>Q6F854</td>\n",
       "      <td>PANB_ACIAD</td>\n",
       "      <td>2.1.2.11</td>\n",
       "      <td>2</td>\n",
       "      <td>2.1</td>\n",
       "      <td>2.1.2</td>\n",
       "      <td>2.1.2.11</td>\n",
       "      <td>0.0</td>\n",
       "      <td>1.0</td>\n",
       "      <td>...</td>\n",
       "      <td>0.013835</td>\n",
       "      <td>-0.021179</td>\n",
       "      <td>0.066692</td>\n",
       "      <td>-0.032096</td>\n",
       "      <td>-0.062312</td>\n",
       "      <td>-0.025367</td>\n",
       "      <td>-0.014526</td>\n",
       "      <td>-0.064466</td>\n",
       "      <td>0.037195</td>\n",
       "      <td>-0.054333</td>\n",
       "    </tr>\n",
       "    <tr>\n",
       "      <th>4996</th>\n",
       "      <td>4996</td>\n",
       "      <td>A8ALE9</td>\n",
       "      <td>PANB_CITK8</td>\n",
       "      <td>2.1.2.11</td>\n",
       "      <td>2</td>\n",
       "      <td>2.1</td>\n",
       "      <td>2.1.2</td>\n",
       "      <td>2.1.2.11</td>\n",
       "      <td>0.0</td>\n",
       "      <td>1.0</td>\n",
       "      <td>...</td>\n",
       "      <td>0.014172</td>\n",
       "      <td>-0.023649</td>\n",
       "      <td>0.065384</td>\n",
       "      <td>-0.031154</td>\n",
       "      <td>-0.060188</td>\n",
       "      <td>-0.029458</td>\n",
       "      <td>-0.015860</td>\n",
       "      <td>-0.064528</td>\n",
       "      <td>0.034582</td>\n",
       "      <td>-0.053859</td>\n",
       "    </tr>\n",
       "    <tr>\n",
       "      <th>4997</th>\n",
       "      <td>4997</td>\n",
       "      <td>A5N5W0</td>\n",
       "      <td>PANB_CLOK5</td>\n",
       "      <td>2.1.2.11</td>\n",
       "      <td>2</td>\n",
       "      <td>2.1</td>\n",
       "      <td>2.1.2</td>\n",
       "      <td>2.1.2.11</td>\n",
       "      <td>0.0</td>\n",
       "      <td>1.0</td>\n",
       "      <td>...</td>\n",
       "      <td>0.018737</td>\n",
       "      <td>-0.014015</td>\n",
       "      <td>0.072756</td>\n",
       "      <td>-0.034109</td>\n",
       "      <td>-0.061583</td>\n",
       "      <td>-0.023594</td>\n",
       "      <td>-0.023227</td>\n",
       "      <td>-0.072531</td>\n",
       "      <td>0.035952</td>\n",
       "      <td>-0.054019</td>\n",
       "    </tr>\n",
       "    <tr>\n",
       "      <th>4998</th>\n",
       "      <td>4998</td>\n",
       "      <td>A0PXQ3</td>\n",
       "      <td>PANB_CLONN</td>\n",
       "      <td>2.1.2.11</td>\n",
       "      <td>2</td>\n",
       "      <td>2.1</td>\n",
       "      <td>2.1.2</td>\n",
       "      <td>2.1.2.11</td>\n",
       "      <td>0.0</td>\n",
       "      <td>1.0</td>\n",
       "      <td>...</td>\n",
       "      <td>0.015429</td>\n",
       "      <td>-0.015810</td>\n",
       "      <td>0.072191</td>\n",
       "      <td>-0.031280</td>\n",
       "      <td>-0.061021</td>\n",
       "      <td>-0.021622</td>\n",
       "      <td>-0.023619</td>\n",
       "      <td>-0.072106</td>\n",
       "      <td>0.035115</td>\n",
       "      <td>-0.054017</td>\n",
       "    </tr>\n",
       "    <tr>\n",
       "      <th>4999</th>\n",
       "      <td>4999</td>\n",
       "      <td>Q9X712</td>\n",
       "      <td>PANB_CORGL</td>\n",
       "      <td>2.1.2.11</td>\n",
       "      <td>2</td>\n",
       "      <td>2.1</td>\n",
       "      <td>2.1.2</td>\n",
       "      <td>2.1.2.11</td>\n",
       "      <td>0.0</td>\n",
       "      <td>1.0</td>\n",
       "      <td>...</td>\n",
       "      <td>0.016513</td>\n",
       "      <td>-0.018431</td>\n",
       "      <td>0.063405</td>\n",
       "      <td>-0.033424</td>\n",
       "      <td>-0.061645</td>\n",
       "      <td>-0.027371</td>\n",
       "      <td>-0.019389</td>\n",
       "      <td>-0.065396</td>\n",
       "      <td>0.035731</td>\n",
       "      <td>-0.052399</td>\n",
       "    </tr>\n",
       "  </tbody>\n",
       "</table>\n",
       "<p>5000 rows × 3292 columns</p>\n",
       "</div>"
      ],
      "text/plain": [
       "      Unnamed: 0   accession        name        EC EC1  EC2    EC3       EC4  \\\n",
       "0              0      Q7XQ85  1A12_ORYSJ  4.4.1.14   4  4.4  4.4.1  4.4.1.14   \n",
       "1              1  A0A0P0WIY3  1A13_ORYSJ  4.4.1.14   4  4.4  4.4.1  4.4.1.14   \n",
       "2              2      Q43309  1A14_ARATH  4.4.1.14   4  4.4  4.4.1  4.4.1.14   \n",
       "3              3      P29535  1A14_SOLLC  4.4.1.14   4  4.4  4.4.1  4.4.1.14   \n",
       "4              4  A0A0P0UZP7  1A15_ORYSJ  4.4.1.14   4  4.4  4.4.1  4.4.1.14   \n",
       "...          ...         ...         ...       ...  ..  ...    ...       ...   \n",
       "4995        4995      Q6F854  PANB_ACIAD  2.1.2.11   2  2.1  2.1.2  2.1.2.11   \n",
       "4996        4996      A8ALE9  PANB_CITK8  2.1.2.11   2  2.1  2.1.2  2.1.2.11   \n",
       "4997        4997      A5N5W0  PANB_CLOK5  2.1.2.11   2  2.1  2.1.2  2.1.2.11   \n",
       "4998        4998      A0PXQ3  PANB_CLONN  2.1.2.11   2  2.1  2.1.2  2.1.2.11   \n",
       "4999        4999      Q9X712  PANB_CORGL  2.1.2.11   2  2.1  2.1.2  2.1.2.11   \n",
       "\n",
       "        1    2  ...  word2vec_503  word2vec_504  word2vec_505  word2vec_506  \\\n",
       "0     0.0  0.0  ...      0.019150     -0.018458      0.062411     -0.029814   \n",
       "1     0.0  0.0  ...      0.015985     -0.020694      0.061179     -0.028515   \n",
       "2     0.0  0.0  ...      0.016950     -0.014905      0.070020     -0.032560   \n",
       "3     0.0  0.0  ...      0.017325     -0.015279      0.069340     -0.032585   \n",
       "4     0.0  0.0  ...      0.014068     -0.018709      0.063375     -0.030802   \n",
       "...   ...  ...  ...           ...           ...           ...           ...   \n",
       "4995  0.0  1.0  ...      0.013835     -0.021179      0.066692     -0.032096   \n",
       "4996  0.0  1.0  ...      0.014172     -0.023649      0.065384     -0.031154   \n",
       "4997  0.0  1.0  ...      0.018737     -0.014015      0.072756     -0.034109   \n",
       "4998  0.0  1.0  ...      0.015429     -0.015810      0.072191     -0.031280   \n",
       "4999  0.0  1.0  ...      0.016513     -0.018431      0.063405     -0.033424   \n",
       "\n",
       "      word2vec_507  word2vec_508  word2vec_509  word2vec_510  word2vec_511  \\\n",
       "0        -0.065052     -0.026976     -0.013128     -0.059176      0.035541   \n",
       "1        -0.063737     -0.033109     -0.017545     -0.059569      0.035243   \n",
       "2        -0.068296     -0.024372     -0.017000     -0.061191      0.040713   \n",
       "3        -0.063828     -0.023135     -0.020652     -0.061863      0.039154   \n",
       "4        -0.062235     -0.027905     -0.015503     -0.061831      0.039371   \n",
       "...            ...           ...           ...           ...           ...   \n",
       "4995     -0.062312     -0.025367     -0.014526     -0.064466      0.037195   \n",
       "4996     -0.060188     -0.029458     -0.015860     -0.064528      0.034582   \n",
       "4997     -0.061583     -0.023594     -0.023227     -0.072531      0.035952   \n",
       "4998     -0.061021     -0.021622     -0.023619     -0.072106      0.035115   \n",
       "4999     -0.061645     -0.027371     -0.019389     -0.065396      0.035731   \n",
       "\n",
       "      word2vec_512  \n",
       "0        -0.051473  \n",
       "1        -0.049128  \n",
       "2        -0.054937  \n",
       "3        -0.051963  \n",
       "4        -0.047659  \n",
       "...            ...  \n",
       "4995     -0.054333  \n",
       "4996     -0.053859  \n",
       "4997     -0.054019  \n",
       "4998     -0.054017  \n",
       "4999     -0.052399  \n",
       "\n",
       "[5000 rows x 3292 columns]"
      ]
     },
     "execution_count": 9,
     "metadata": {},
     "output_type": "execute_result"
    }
   ],
   "source": [
    "import pandas as pd\n",
    "pd.read_csv(\"./data/test_reduced_esm.csv\")"
   ]
  }
 ],
 "metadata": {
  "kernelspec": {
   "display_name": "plants_sm",
   "language": "python",
   "name": "python3"
  },
  "language_info": {
   "codemirror_mode": {
    "name": "ipython",
    "version": 3
   },
   "file_extension": ".py",
   "mimetype": "text/x-python",
   "name": "python",
   "nbconvert_exporter": "python",
   "pygments_lexer": "ipython3",
   "version": "3.8.16"
  },
  "orig_nbformat": 4
 },
 "nbformat": 4,
 "nbformat_minor": 2
}
