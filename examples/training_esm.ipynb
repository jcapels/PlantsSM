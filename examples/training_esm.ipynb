{
 "cells": [
  {
   "cell_type": "code",
   "execution_count": 6,
   "metadata": {},
   "outputs": [],
   "source": [
    "from plants_sm.data_structures.dataset.single_input_dataset import SingleInputDataset\n",
    "\n",
    "train_dataset = SingleInputDataset.from_csv(\"train_test.csv\", instances_ids_field=\"accession\", representation_field=\"sequence\", \n",
    "                                labels_field=slice(8, 2779), features_fields=slice(2780, -1))"
   ]
  },
  {
   "cell_type": "code",
   "execution_count": 9,
   "metadata": {},
   "outputs": [
    {
     "data": {
      "text/plain": [
       "(100, 320)"
      ]
     },
     "execution_count": 9,
     "metadata": {},
     "output_type": "execute_result"
    }
   ],
   "source": [
    "train_dataset.X.shape"
   ]
  },
  {
   "cell_type": "code",
   "execution_count": 10,
   "metadata": {},
   "outputs": [
    {
     "data": {
      "text/plain": [
       "(100, 2771)"
      ]
     },
     "execution_count": 10,
     "metadata": {},
     "output_type": "execute_result"
    }
   ],
   "source": [
    "train_dataset.y.shape"
   ]
  },
  {
   "cell_type": "code",
   "execution_count": 11,
   "metadata": {},
   "outputs": [],
   "source": [
    "from plants_sm.data_structures.dataset.single_input_dataset import SingleInputDataset\n",
    "\n",
    "validation_set = SingleInputDataset.from_csv(\"validation_test.csv\", instances_ids_field=\"accession\", representation_field=\"sequence\",\n",
    "                                labels_field=slice(8, 2779), features_fields=slice(2780, -1))"
   ]
  },
  {
   "cell_type": "code",
   "execution_count": 12,
   "metadata": {},
   "outputs": [],
   "source": [
    "test_set = SingleInputDataset.from_csv(\"test_test.csv\", instances_ids_field=\"accession\", representation_field=\"sequence\",\n",
    "                                labels_field=slice(8, 2779), features_fields=slice(2780, -1))"
   ]
  },
  {
   "cell_type": "code",
   "execution_count": 13,
   "metadata": {},
   "outputs": [
    {
     "data": {
      "text/plain": [
       "(100, 320)"
      ]
     },
     "execution_count": 13,
     "metadata": {},
     "output_type": "execute_result"
    }
   ],
   "source": [
    "validation_set.X.shape"
   ]
  },
  {
   "cell_type": "code",
   "execution_count": 14,
   "metadata": {},
   "outputs": [
    {
     "data": {
      "text/plain": [
       "(100, 2771)"
      ]
     },
     "execution_count": 14,
     "metadata": {},
     "output_type": "execute_result"
    }
   ],
   "source": [
    "validation_set.y.shape"
   ]
  },
  {
   "cell_type": "code",
   "execution_count": 15,
   "metadata": {},
   "outputs": [
    {
     "name": "stderr",
     "output_type": "stream",
     "text": [
      "/tmp/ipykernel_1106931/287758751.py:8: RuntimeWarning: divide by zero encountered in long_scalars\n",
      "  ratio[i] = np.sum(y[:,i]==0)/np.sum(y[:,i]==1)\n"
     ]
    },
    {
     "data": {
      "text/plain": [
       "array([5.25      , 1.63157895, 2.57142857, ...,        inf,        inf,\n",
       "              inf])"
      ]
     },
     "execution_count": 15,
     "metadata": {},
     "output_type": "execute_result"
    }
   ],
   "source": [
    "#get the ratio between negative labels and positive labels in a numpy array\n",
    "import numpy as np\n",
    "\n",
    "\n",
    "def get_ratio(y):\n",
    "    ratio = np.zeros(y.shape[1])\n",
    "    for i in range(y.shape[1]):\n",
    "        ratio[i] = np.sum(y[:,i]==0)/np.sum(y[:,i]==1)\n",
    "    return ratio\n",
    "\n",
    "ratio = get_ratio(train_dataset.y)\n",
    "ratio"
   ]
  },
  {
   "cell_type": "code",
   "execution_count": 16,
   "metadata": {},
   "outputs": [
    {
     "name": "stderr",
     "output_type": "stream",
     "text": [
      "/home/jribeiro/.conda/envs/plants_sm/lib/python3.8/site-packages/tqdm/auto.py:22: TqdmWarning: IProgress not found. Please update jupyter and ipywidgets. See https://ipywidgets.readthedocs.io/en/stable/user_install.html\n",
      "  from .autonotebook import tqdm as notebook_tqdm\n"
     ]
    }
   ],
   "source": [
    "import torch"
   ]
  },
  {
   "cell_type": "code",
   "execution_count": 18,
   "metadata": {},
   "outputs": [
    {
     "name": "stderr",
     "output_type": "stream",
     "text": [
      "/home/jribeiro/.conda/envs/plants_sm/lib/python3.8/site-packages/torch/nn/modules/lazy.py:180: UserWarning: Lazy modules are a new feature under heavy development so changes to the API or functionality can happen at any moment.\n",
      "  warnings.warn('Lazy modules are a new feature under heavy development '\n",
      "INFO:plants_sm.models.pytorch_model:starting to fit the data...\n",
      "INFO:plants_sm.models.pytorch_model:[1/1, 0/1] loss: 0.69369113\n"
     ]
    },
    {
     "data": {
      "text/plain": [
       "CNN1D(\n",
       "  (conv0): Conv1d(1, 160, kernel_size=(2,), stride=(1,))\n",
       "  (pool0): MaxPool1d(kernel_size=2, stride=2, padding=0, dilation=1, ceil_mode=False)\n",
       "  (relu_conv0): ReLU()\n",
       "  (flatten): Flatten(start_dim=1, end_dim=-1)\n",
       "  (fc_initial): Linear(in_features=25440, out_features=5120, bias=True)\n",
       "  (relu_initial): ReLU()\n",
       "  (fc1): Linear(in_features=5120, out_features=3000, bias=True)\n",
       "  (relu1): ReLU()\n",
       "  (fc_final): Linear(in_features=3000, out_features=2771, bias=True)\n",
       "  (sigmoid): Sigmoid()\n",
       ")"
      ]
     },
     "execution_count": 18,
     "metadata": {},
     "output_type": "execute_result"
    }
   ],
   "source": [
    "from plants_sm.models.cnn.cnn import CNN1D\n",
    "from plants_sm.models.pytorch_model import PyTorchModel\n",
    "from torch import nn\n",
    "\n",
    "\n",
    "cnn_model = CNN1D([5120, 3000], [160], [2], 2771, False)\n",
    "\n",
    "optimizer = torch.optim.Adam(params = cnn_model.parameters(), lr=0.001)\n",
    "\n",
    "pos_weight = torch.tensor(ratio).to(\"cuda:1\") \n",
    "\n",
    "model = PyTorchModel(batch_size=200, epochs=1, \n",
    "                     loss_function=nn.BCEWithLogitsLoss(), optimizer=optimizer, model=cnn_model,\n",
    "                     device=\"cuda:1\", logger_path=\"./logs.log\",\n",
    "                     progress=200)\n",
    "model.fit(validation_set)"
   ]
  },
  {
   "cell_type": "code",
   "execution_count": 19,
   "metadata": {},
   "outputs": [],
   "source": [
    "model.model.last_sigmoid = True"
   ]
  },
  {
   "cell_type": "code",
   "execution_count": 23,
   "metadata": {},
   "outputs": [],
   "source": [
    "model.history[\"loss\"].to_csv(\"model_history.csv\", index=False)"
   ]
  },
  {
   "cell_type": "code",
   "execution_count": 34,
   "metadata": {},
   "outputs": [],
   "source": [
    "proba = model.predict(test_set)"
   ]
  },
  {
   "cell_type": "code",
   "execution_count": 3,
   "metadata": {},
   "outputs": [
    {
     "data": {
      "text/html": [
       "<div>\n",
       "<style scoped>\n",
       "    .dataframe tbody tr th:only-of-type {\n",
       "        vertical-align: middle;\n",
       "    }\n",
       "\n",
       "    .dataframe tbody tr th {\n",
       "        vertical-align: top;\n",
       "    }\n",
       "\n",
       "    .dataframe thead th {\n",
       "        text-align: right;\n",
       "    }\n",
       "</style>\n",
       "<table border=\"1\" class=\"dataframe\">\n",
       "  <thead>\n",
       "    <tr style=\"text-align: right;\">\n",
       "      <th></th>\n",
       "      <th>model</th>\n",
       "      <th>metric</th>\n",
       "      <th>train</th>\n",
       "      <th>validation</th>\n",
       "      <th>test</th>\n",
       "    </tr>\n",
       "  </thead>\n",
       "  <tbody>\n",
       "    <tr>\n",
       "      <th>0</th>\n",
       "      <td>CNN1D</td>\n",
       "      <td>hamming_loss</td>\n",
       "      <td>0.002115</td>\n",
       "      <td>0.002097</td>\n",
       "      <td>0.002057</td>\n",
       "    </tr>\n",
       "    <tr>\n",
       "      <th>1</th>\n",
       "      <td>CNN1D</td>\n",
       "      <td>accuracy_score</td>\n",
       "      <td>0.000000</td>\n",
       "      <td>0.000000</td>\n",
       "      <td>0.000000</td>\n",
       "    </tr>\n",
       "    <tr>\n",
       "      <th>2</th>\n",
       "      <td>CNN1D</td>\n",
       "      <td>precision_score</td>\n",
       "      <td>0.000000</td>\n",
       "      <td>0.000000</td>\n",
       "      <td>0.000000</td>\n",
       "    </tr>\n",
       "    <tr>\n",
       "      <th>3</th>\n",
       "      <td>CNN1D</td>\n",
       "      <td>recall_score</td>\n",
       "      <td>0.000000</td>\n",
       "      <td>0.000000</td>\n",
       "      <td>0.000000</td>\n",
       "    </tr>\n",
       "    <tr>\n",
       "      <th>4</th>\n",
       "      <td>CNN1D</td>\n",
       "      <td>f1_score</td>\n",
       "      <td>0.000000</td>\n",
       "      <td>0.000000</td>\n",
       "      <td>0.000000</td>\n",
       "    </tr>\n",
       "    <tr>\n",
       "      <th>5</th>\n",
       "      <td>CNN1D_esm2_8M</td>\n",
       "      <td>hamming_loss</td>\n",
       "      <td>0.001754</td>\n",
       "      <td>0.001739</td>\n",
       "      <td>0.001696</td>\n",
       "    </tr>\n",
       "    <tr>\n",
       "      <th>6</th>\n",
       "      <td>CNN1D_esm2_8M</td>\n",
       "      <td>accuracy_score</td>\n",
       "      <td>0.000000</td>\n",
       "      <td>0.000000</td>\n",
       "      <td>0.000000</td>\n",
       "    </tr>\n",
       "    <tr>\n",
       "      <th>7</th>\n",
       "      <td>CNN1D_esm2_8M</td>\n",
       "      <td>precision_score</td>\n",
       "      <td>0.000000</td>\n",
       "      <td>0.000000</td>\n",
       "      <td>0.000000</td>\n",
       "    </tr>\n",
       "    <tr>\n",
       "      <th>8</th>\n",
       "      <td>CNN1D_esm2_8M</td>\n",
       "      <td>recall_score</td>\n",
       "      <td>0.000000</td>\n",
       "      <td>0.000000</td>\n",
       "      <td>0.000000</td>\n",
       "    </tr>\n",
       "    <tr>\n",
       "      <th>9</th>\n",
       "      <td>CNN1D_esm2_8M</td>\n",
       "      <td>f1_score</td>\n",
       "      <td>0.000000</td>\n",
       "      <td>0.000000</td>\n",
       "      <td>0.000000</td>\n",
       "    </tr>\n",
       "  </tbody>\n",
       "</table>\n",
       "</div>"
      ],
      "text/plain": [
       "           model           metric     train  validation      test\n",
       "0          CNN1D     hamming_loss  0.002115    0.002097  0.002057\n",
       "1          CNN1D   accuracy_score  0.000000    0.000000  0.000000\n",
       "2          CNN1D  precision_score  0.000000    0.000000  0.000000\n",
       "3          CNN1D     recall_score  0.000000    0.000000  0.000000\n",
       "4          CNN1D         f1_score  0.000000    0.000000  0.000000\n",
       "5  CNN1D_esm2_8M     hamming_loss  0.001754    0.001739  0.001696\n",
       "6  CNN1D_esm2_8M   accuracy_score  0.000000    0.000000  0.000000\n",
       "7  CNN1D_esm2_8M  precision_score  0.000000    0.000000  0.000000\n",
       "8  CNN1D_esm2_8M     recall_score  0.000000    0.000000  0.000000\n",
       "9  CNN1D_esm2_8M         f1_score  0.000000    0.000000  0.000000"
      ]
     },
     "execution_count": 3,
     "metadata": {},
     "output_type": "execute_result"
    }
   ],
   "source": [
    "import pandas as pd\n",
    "\n",
    "pd.read_csv(\"./ec_number_prediction/metrics/metrics.csv\")"
   ]
  },
  {
   "cell_type": "code",
   "execution_count": 38,
   "metadata": {},
   "outputs": [],
   "source": [
    "from sklearn.metrics import hamming_loss,accuracy_score, precision_score, recall_score, f1_score\n",
    "\n",
    "\n",
    "hamming_loss = hamming_loss(test_set.y, proba)\n",
    "accuracy_score = accuracy_score(test_set.y, proba)\n",
    "precision_score = precision_score(test_set.y, proba, average=\"samples\")\n",
    "recall_score = recall_score(test_set.y, proba, average=\"samples\")\n",
    "f1_score = f1_score(test_set.y, proba, average=\"samples\")\n"
   ]
  },
  {
   "cell_type": "code",
   "execution_count": 24,
   "metadata": {},
   "outputs": [],
   "source": [
    "model.save(\"./models_test\")"
   ]
  },
  {
   "cell_type": "code",
   "execution_count": 27,
   "metadata": {},
   "outputs": [],
   "source": [
    "from plants_sm.models.model import Model\n",
    "\n",
    "model = PyTorchModel.load(\"./models_test\")"
   ]
  },
  {
   "cell_type": "code",
   "execution_count": 36,
   "metadata": {},
   "outputs": [
    {
     "data": {
      "text/plain": [
       "array([[4.70292753e-06, 1.90663137e-04, 8.06279539e-04, ...,\n",
       "        5.63477943e-06, 1.08162703e-05, 9.12189716e-05],\n",
       "       [4.18362242e-06, 1.75807756e-04, 7.52965279e-04, ...,\n",
       "        5.03280626e-06, 9.72344060e-06, 8.38898923e-05],\n",
       "       [4.57015631e-06, 1.87572485e-04, 7.94192543e-04, ...,\n",
       "        5.49285141e-06, 1.05671552e-05, 8.92098033e-05],\n",
       "       ...,\n",
       "       [5.18859406e-06, 2.04967830e-04, 8.58951302e-04, ...,\n",
       "        6.24662880e-06, 1.18265707e-05, 9.84770231e-05],\n",
       "       [5.13705390e-06, 2.03634030e-04, 8.53844685e-04, ...,\n",
       "        6.18431977e-06, 1.17124218e-05, 9.77273303e-05],\n",
       "       [5.00267834e-06, 1.99618327e-04, 8.40610941e-04, ...,\n",
       "        6.01726242e-06, 1.14123923e-05, 9.58416786e-05]])"
      ]
     },
     "execution_count": 36,
     "metadata": {},
     "output_type": "execute_result"
    }
   ],
   "source": [
    "model.predict_proba(test_set)"
   ]
  },
  {
   "cell_type": "code",
   "execution_count": 37,
   "metadata": {},
   "outputs": [
    {
     "data": {
      "text/plain": [
       "array([[0., 0., 0., ..., 0., 0., 0.],\n",
       "       [0., 0., 0., ..., 0., 0., 0.],\n",
       "       [0., 0., 0., ..., 0., 0., 0.],\n",
       "       ...,\n",
       "       [0., 1., 0., ..., 0., 0., 0.],\n",
       "       [0., 1., 0., ..., 0., 0., 0.],\n",
       "       [0., 1., 0., ..., 0., 0., 0.]])"
      ]
     },
     "execution_count": 37,
     "metadata": {},
     "output_type": "execute_result"
    }
   ],
   "source": [
    "test_set.y"
   ]
  },
  {
   "cell_type": "code",
   "execution_count": null,
   "metadata": {},
   "outputs": [],
   "source": [
    "from sklearn.metrics import hamming_loss\n",
    "from plants_sm.models.pytorch_model import PyTorchModel\n",
    "\n",
    "\n",
    "model = DenseNet(320, [640, 1280, 2560, 5120], 2771)\n",
    "\n",
    "optimizer = torch.optim.Adam(params = model.parameters(), lr=0.01)\n",
    "\n",
    "model = PyTorchModel(batch_size=240, epochs=10, \n",
    "                     loss_function=nn.BCEWithLogitsLoss(), optimizer=optimizer, model=cnn_model,\n",
    "                     device=\"cuda:2\", validation_metric=hamming_loss, logger_path=\"./logs.log\",\n",
    "                     progress=200)\n",
    "model.fit(train_dataset, validation_set)"
   ]
  },
  {
   "cell_type": "code",
   "execution_count": 1,
   "metadata": {},
   "outputs": [
    {
     "data": {
      "text/plain": [
       "['esm2_t12_35M', 'esm2_t6_8M', 'esm2_t33_650M', 'esm2_t30_150M']"
      ]
     },
     "execution_count": 1,
     "metadata": {},
     "output_type": "execute_result"
    }
   ],
   "source": [
    "import os\n",
    "\n",
    "\n",
    "base_directory = \"/scratch/jribeiro/ec_number_prediction/esm2_data/\"\n",
    "esm2_data_folders = os.listdir(base_directory)\n",
    "esm2_data_folders\n"
   ]
  }
 ],
 "metadata": {
  "kernelspec": {
   "display_name": "plants_sm",
   "language": "python",
   "name": "python3"
  },
  "language_info": {
   "codemirror_mode": {
    "name": "ipython",
    "version": 3
   },
   "file_extension": ".py",
   "mimetype": "text/x-python",
   "name": "python",
   "nbconvert_exporter": "python",
   "pygments_lexer": "ipython3",
   "version": "3.8.16"
  },
  "orig_nbformat": 4
 },
 "nbformat": 4,
 "nbformat_minor": 2
}
