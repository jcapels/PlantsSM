{
 "cells": [
  {
   "cell_type": "markdown",
   "metadata": {},
   "source": [
    "# Package Example"
   ]
  },
  {
   "cell_type": "markdown",
   "metadata": {},
   "source": [
    "## Imports"
   ]
  },
  {
   "cell_type": "code",
   "execution_count": null,
   "metadata": {},
   "outputs": [],
   "source": [
    "from plants_sm.data_structures.dataset.multi_input_dataset import MultiInputDataset\n",
    "from plants_sm.data_standardization.proteins.standardization import ProteinStandardizer\n",
    "from plants_sm.data_standardization.compounds.deepmol_standardizers import DeepMolStandardizer\n",
    "from plants_sm.featurization.proteins.bio_embeddings.word2vec import Word2Vec\n",
    "from plants_sm.featurization.compounds.deepmol_descriptors import DeepMolDescriptors\n",
    "from torch import nn\n",
    "from sklearn.metrics import f1_score\n",
    "from torch.optim import Adam\n",
    "from plants_sm.models.constants import BINARY\n",
    "from plants_sm.models.pytorch_model import PyTorchModel\n",
    "from plants_sm.models.baseline_model import BaselineModel\n",
    "from plants_sm.tokenisation.compounds.smilespe import AtomLevelTokenizer\n",
    "import pandas as pd\n",
    "\n",
    "\n",
    "from rdkit import RDLogger\n",
    "RDLogger.DisableLog('rdApp.*')"
   ]
  },
  {
   "cell_type": "code",
   "execution_count": null,
   "metadata": {},
   "outputs": [],
   "source": [
    "pd.read_csv(multi_input_dataset_csv).head()"
   ]
  },
  {
   "cell_type": "markdown",
   "metadata": {},
   "source": [
    "## Read datasets"
   ]
  },
  {
   "cell_type": "code",
   "execution_count": null,
   "metadata": {},
   "outputs": [],
   "source": [
    "multi_input_dataset_csv = \"./data/aminotransferase_binary.csv\"\n",
    "\n",
    "multi_input_dataset = MultiInputDataset.from_csv(file_path=multi_input_dataset_csv,\n",
    "                                                 representation_fields={\"proteins\": \"SEQ\",\n",
    "                                                                       \"ligands\": \"SUBSTRATES\"},\n",
    "                                                 instances_ids_field={\"interaction\": \"ids\"},\n",
    "                                                 labels_field=\"LogSpActivity\")"
   ]
  },
  {
   "cell_type": "markdown",
   "metadata": {},
   "source": [
    "The MultiInputDataset converts everything into dictionaries to ensure that we are always processing unique sequences and not the same multiple times"
   ]
  },
  {
   "cell_type": "code",
   "execution_count": null,
   "metadata": {},
   "outputs": [],
   "source": [
    "multi_input_dataset.instances[\"proteins\"]"
   ]
  },
  {
   "cell_type": "code",
   "execution_count": null,
   "metadata": {},
   "outputs": [],
   "source": [
    "multi_input_dataset.instances[\"ligands\"]"
   ]
  },
  {
   "cell_type": "markdown",
   "metadata": {},
   "source": [
    "## Standardize sequences"
   ]
  },
  {
   "cell_type": "code",
   "execution_count": null,
   "metadata": {},
   "outputs": [],
   "source": [
    "multi_input_dataset = ProteinStandardizer(n_jobs=50).fit_transform(multi_input_dataset, instance_type=\"proteins\")"
   ]
  },
  {
   "cell_type": "code",
   "execution_count": null,
   "metadata": {},
   "outputs": [],
   "source": [
    "multi_input_dataset.instances[\"proteins\"]"
   ]
  },
  {
   "cell_type": "code",
   "execution_count": null,
   "metadata": {},
   "outputs": [],
   "source": [
    "multi_input_dataset = DeepMolStandardizer(n_jobs=50).fit_transform(multi_input_dataset, \"ligands\")"
   ]
  },
  {
   "cell_type": "code",
   "execution_count": null,
   "metadata": {},
   "outputs": [],
   "source": [
    "multi_input_dataset.instances[\"ligands\"]"
   ]
  },
  {
   "cell_type": "markdown",
   "metadata": {},
   "source": [
    "## Generating features and encodings"
   ]
  },
  {
   "cell_type": "code",
   "execution_count": null,
   "metadata": {},
   "outputs": [],
   "source": [
    "proteins_one_hot = Word2Vec().fit(multi_input_dataset, \"proteins\")\n",
    "multi_input_dataset = proteins_one_hot.transform(multi_input_dataset, \"proteins\")"
   ]
  },
  {
   "cell_type": "code",
   "execution_count": null,
   "metadata": {},
   "outputs": [],
   "source": [
    "deepmol_wrapper = DeepMolDescriptors(n_jobs=8).fit(multi_input_dataset, instance_type=\"ligands\")\n",
    "multi_input_dataset = deepmol_wrapper.transform(multi_input_dataset, instance_type=\"ligands\")"
   ]
  },
  {
   "cell_type": "code",
   "execution_count": null,
   "metadata": {},
   "outputs": [],
   "source": [
    "multi_input_dataset.X[\"proteins\"]"
   ]
  },
  {
   "cell_type": "code",
   "execution_count": null,
   "metadata": {},
   "outputs": [],
   "source": [
    "multi_input_dataset.X[\"ligands\"]"
   ]
  },
  {
   "cell_type": "code",
   "execution_count": null,
   "metadata": {},
   "outputs": [],
   "source": [
    "multi_input_dataset.y"
   ]
  },
  {
   "cell_type": "markdown",
   "metadata": {},
   "source": [
    "## Tokenizers"
   ]
  },
  {
   "cell_type": "code",
   "execution_count": null,
   "metadata": {},
   "outputs": [],
   "source": [
    "AtomLevelTokenizer().tokenize(\"CC[C@H](C)[C@@H](C(=O)O)N\")"
   ]
  },
  {
   "cell_type": "markdown",
   "metadata": {},
   "source": [
    "## Running models"
   ]
  },
  {
   "cell_type": "code",
   "execution_count": null,
   "metadata": {},
   "outputs": [],
   "source": [
    "input_size_proteins = multi_input_dataset.X[\"proteins\"].shape[1]\n",
    "input_size_compounds = multi_input_dataset.X[\"ligands\"].shape[1]\n",
    "model = BaselineModel(input_size_proteins, input_size_compounds, hidden_layers_proteins=[500, 500],\n",
    "                      hidden_layers_compounds=[500, 500], hidden_layers_interaction=[500, 500])\n",
    "\n",
    "wrapper = PyTorchModel(model=model, loss_function=nn.BCELoss(),\n",
    "                               validation_metric=f1_score,\n",
    "                               problem_type=BINARY, batch_size=50, epochs=100,\n",
    "                               optimizer=Adam(model.parameters(), lr=0.0001), progress=50,\n",
    "                               logger_path=\"small_dataset.log\")\n",
    "wrapper.fit(multi_input_dataset)"
   ]
  }
 ],
 "metadata": {
  "kernelspec": {
   "display_name": "Python 3 (ipykernel)",
   "language": "python",
   "name": "python3"
  },
  "language_info": {
   "codemirror_mode": {
    "name": "ipython",
    "version": 3
   },
   "file_extension": ".py",
   "mimetype": "text/x-python",
   "name": "python",
   "nbconvert_exporter": "python",
   "pygments_lexer": "ipython3",
   "version": "3.7.13"
  }
 },
 "nbformat": 4,
 "nbformat_minor": 1
}
