{
 "cells": [
  {
   "cell_type": "markdown",
   "metadata": {},
   "source": [
    "# Package Example"
   ]
  },
  {
   "cell_type": "markdown",
   "metadata": {},
   "source": [
    "## Imports"
   ]
  },
  {
   "cell_type": "code",
   "execution_count": 1,
   "metadata": {},
   "outputs": [],
   "source": [
    "from plants_sm.data_structures.dataset.multi_input_dataset import MultiInputDataset\n",
    "from plants_sm.data_standardization.proteins.standardization import ProteinStandardizer\n",
    "from plants_sm.data_standardization.compounds.deepmol_standardizers import DeepMolStandardizer\n",
    "from plants_sm.featurization.proteins.bio_embeddings.word2vec import Word2Vec\n",
    "from plants_sm.featurization.compounds.deepmol_descriptors import DeepMolDescriptors\n",
    "from torch import nn\n",
    "from sklearn.metrics import f1_score\n",
    "from torch.optim import Adam\n",
    "from plants_sm.models.constants import BINARY\n",
    "from plants_sm.models.pytorch_model import PyTorchModel\n",
    "from plants_sm.models.interaction.baseline_model import BaselineModel\n",
    "from plants_sm.tokenisation.compounds.smilespe import AtomLevelTokenizer\n",
    "import pandas as pd\n",
    "\n",
    "\n",
    "from rdkit import RDLogger\n",
    "RDLogger.DisableLog('rdApp.*')"
   ]
  },
  {
   "cell_type": "code",
   "execution_count": 2,
   "metadata": {},
   "outputs": [
    {
     "data": {
      "text/plain": "   ids                                                SEQ  \\\n0    0  MFENITAAPADPILGLADLFRADERPGKINLGIGVYKDETGKTPVL...   \n1    1  MFENITAAPADPILGLADLFRADERPGKINLGIGVYKDETGKTPVL...   \n2    2  MFENITAAPADPILGLADLFRADERPGKINLGIGVYKDETGKTPVL...   \n3    3  MFENITAAPADPILGLADLFRADERPGKINLGIGVYKDETGKTPVL...   \n4    4  MFENITAAPADPILGLADLFRADERPGKINLGIGVYKDETGKTPVL...   \n\n                  SUBSTRATES  LogSpActivity  \n0                 C(C(=O)O)N              0  \n1           C[C@@H](C(=O)O)N              1  \n2       CC(C)[C@@H](C(=O)O)N              0  \n3      CC(C)C[C@@H](C(=O)O)N              1  \n4  CC[C@H](C)[C@@H](C(=O)O)N              0  ",
      "text/html": "<div>\n<style scoped>\n    .dataframe tbody tr th:only-of-type {\n        vertical-align: middle;\n    }\n\n    .dataframe tbody tr th {\n        vertical-align: top;\n    }\n\n    .dataframe thead th {\n        text-align: right;\n    }\n</style>\n<table border=\"1\" class=\"dataframe\">\n  <thead>\n    <tr style=\"text-align: right;\">\n      <th></th>\n      <th>ids</th>\n      <th>SEQ</th>\n      <th>SUBSTRATES</th>\n      <th>LogSpActivity</th>\n    </tr>\n  </thead>\n  <tbody>\n    <tr>\n      <th>0</th>\n      <td>0</td>\n      <td>MFENITAAPADPILGLADLFRADERPGKINLGIGVYKDETGKTPVL...</td>\n      <td>C(C(=O)O)N</td>\n      <td>0</td>\n    </tr>\n    <tr>\n      <th>1</th>\n      <td>1</td>\n      <td>MFENITAAPADPILGLADLFRADERPGKINLGIGVYKDETGKTPVL...</td>\n      <td>C[C@@H](C(=O)O)N</td>\n      <td>1</td>\n    </tr>\n    <tr>\n      <th>2</th>\n      <td>2</td>\n      <td>MFENITAAPADPILGLADLFRADERPGKINLGIGVYKDETGKTPVL...</td>\n      <td>CC(C)[C@@H](C(=O)O)N</td>\n      <td>0</td>\n    </tr>\n    <tr>\n      <th>3</th>\n      <td>3</td>\n      <td>MFENITAAPADPILGLADLFRADERPGKINLGIGVYKDETGKTPVL...</td>\n      <td>CC(C)C[C@@H](C(=O)O)N</td>\n      <td>1</td>\n    </tr>\n    <tr>\n      <th>4</th>\n      <td>4</td>\n      <td>MFENITAAPADPILGLADLFRADERPGKINLGIGVYKDETGKTPVL...</td>\n      <td>CC[C@H](C)[C@@H](C(=O)O)N</td>\n      <td>0</td>\n    </tr>\n  </tbody>\n</table>\n</div>"
     },
     "execution_count": 2,
     "metadata": {},
     "output_type": "execute_result"
    }
   ],
   "source": [
    "multi_input_dataset_csv = \"./data/aminotransferase_binary.csv\"\n",
    "pd.read_csv(multi_input_dataset_csv).head()"
   ]
  },
  {
   "cell_type": "markdown",
   "metadata": {},
   "source": [
    "## Read datasets"
   ]
  },
  {
   "cell_type": "code",
   "execution_count": 3,
   "metadata": {},
   "outputs": [],
   "source": [
    "multi_input_dataset_csv = \"./multi_input_dataset.csv\"\n",
    "\n",
    "multi_input_dataset = MultiInputDataset.from_csv(file_path=multi_input_dataset_csv,\n",
    "                                                 representation_fields={\"proteins\": \"SEQ\",\n",
    "                                                                       \"ligands\": \"SUBSTRATES\"},\n",
    "                                                 instances_ids_field={\"interaction\": \"ids\"},\n",
    "                                                 labels_field=\"LogSpActivity\")"
   ]
  },
  {
   "cell_type": "markdown",
   "metadata": {},
   "source": [
    "The MultiInputDataset converts everything into dictionaries to ensure that we are always processing unique sequences and not the same multiple times"
   ]
  },
  {
   "cell_type": "code",
   "execution_count": 4,
   "metadata": {},
   "outputs": [
    {
     "data": {
      "text/plain": "{2: 'MFENITAAPADPILGLADLFRADERPGKINLGIGVYKDETGKTPVLTSVKKAEQYLLENETTKNYLGIDGIPEFGRCTQELLFGKGSALINDKRARTAQTPGGTGALRVAADFLAKNTSVKRVWVSNPSWPNHKSVFNSAGLEVREYAYYDAENHTLDFDALINSLNEAQAGDVVLFHGCCHNPTGIDPTLEQWQTLAQLSVEKGWLPLFDFAYQGFARGLEEDAEGLRAFAAMHKELIVASSYSKNFGLYNERVGACTLVAADSETVDRAFSQMKAAIRANYSNPPAHGASVVATILSNDALRAIWEQELTDMRQRIQRMRQLFVNTLQEKGANRDFSFIIKQNGMFSFSGLTKEQVLRLREEFGVYAVASGRVNVAGMTPDNMAPLCEAIVAVL',\n 1: 'MDYVTLASHAVRQYAPDQIFTASQRAKADAAALGEDAVINATLGECLDDDGKLMVLPTVERMIRQMPVEDICSYAPIAGIKGFNEAVQISLFGKCLDRFYVESVATPGGCGALRHAIWNFLNFGDALLTTNWIWGPYKNICEEHGRRMVTFDMFNRENTFNLEGMDRAIGEILAVQEQLLMILNTPANNPTGYSMTKQEMEQTVAILKKHAAANPDKNLTFCLDVSYIDFAGSFEESREIFDAIFDMPANTMTLLIFSMSKSYTMCGMRCGALVCLGSTAESAAVFKQAMSYSSRSTWSNAIHMAQKILVDINLNPEIRERVSQERAVFRNTITNRGRTFCAAAKEASLEICPYQYGYFVAIPCKNPVETARILMDQHIYVVPQAQGLRFSPCTVTTEKCRKAPAFIKAAMEQTQ',\n 3: 'MFQKVDAYAGDPILTLMERFKEDPRSDKVNLSIGLYYNEDGIIPQLQAVAEAEARLNAQPHGASLYLPMEGLNCYRHAIAPLLFGADHPVLKQQRVATIQTLGGSGALKVGADFLKRYFPESGVWVSDPTWENHVAIFAGAGFEVSTYPWYDEATNGVRFNDLLATLKTLPARSIVLLHPCCHNPTGADLTNDQWDAVIEILKARELIPFLDIAYQGFGAGMEEDAYAIRAIASAGLPALVSNSFSKIFSLYGERVGGLSVMCEDAEAAGRVLGQLKATVRRNYSSPPNFGAQVVAAVLNDEALKASWLAEVEEMRTRILAMRQELVKVLSTEMPERNFDYLLNQRGMFSYTGLSAAQVDRLREEFGVYLIASGRMCVAGLNTANVQRVAKAFAAVM'}"
     },
     "execution_count": 4,
     "metadata": {},
     "output_type": "execute_result"
    }
   ],
   "source": [
    "multi_input_dataset.instances[\"proteins\"]"
   ]
  },
  {
   "cell_type": "code",
   "execution_count": 5,
   "metadata": {},
   "outputs": [
    {
     "data": {
      "text/plain": "{1: 'C(C(=O)O)N',\n 6: 'C[C@@H](C(=O)O)N',\n 5: 'CC(C)[C@@H](C(=O)O)N',\n 3: 'CC(C)C[C@@H](C(=O)O)N',\n 2: 'C1=C(NC=N1)C[C@@H](C(=O)O)N',\n 4: 'CC(C)[C@@H](C(=O)O)*'}"
     },
     "execution_count": 5,
     "metadata": {},
     "output_type": "execute_result"
    }
   ],
   "source": [
    "multi_input_dataset.instances[\"ligands\"]"
   ]
  },
  {
   "cell_type": "markdown",
   "metadata": {},
   "source": [
    "## Standardize sequences"
   ]
  },
  {
   "cell_type": "code",
   "execution_count": 6,
   "metadata": {},
   "outputs": [
    {
     "name": "stderr",
     "output_type": "stream",
     "text": [
      "Featurizing: 100%|██████████| 3/3 [00:00<00:00, 261.25it/s]\n"
     ]
    }
   ],
   "source": [
    "multi_input_dataset = ProteinStandardizer(n_jobs=50).fit_transform(multi_input_dataset, instance_type=\"proteins\")"
   ]
  },
  {
   "cell_type": "code",
   "execution_count": 7,
   "metadata": {},
   "outputs": [
    {
     "data": {
      "text/plain": "{2: 'MFENITAAPADPILGLADLFRADERPGKINLGIGVYKDETGKTPVLTSVKKAEQYLLENETTKNYLGIDGIPEFGRCTQELLFGKGSALINDKRARTAQTPGGTGALRVAADFLAKNTSVKRVWVSNPSWPNHKSVFNSAGLEVREYAYYDAENHTLDFDALINSLNEAQAGDVVLFHGCCHNPTGIDPTLEQWQTLAQLSVEKGWLPLFDFAYQGFARGLEEDAEGLRAFAAMHKELIVASSYSKNFGLYNERVGACTLVAADSETVDRAFSQMKAAIRANYSNPPAHGASVVATILSNDALRAIWEQELTDMRQRIQRMRQLFVNTLQEKGANRDFSFIIKQNGMFSFSGLTKEQVLRLREEFGVYAVASGRVNVAGMTPDNMAPLCEAIVAVL',\n 1: 'MDYVTLASHAVRQYAPDQIFTASQRAKADAAALGEDAVINATLGECLDDDGKLMVLPTVERMIRQMPVEDICSYAPIAGIKGFNEAVQISLFGKCLDRFYVESVATPGGCGALRHAIWNFLNFGDALLTTNWIWGPYKNICEEHGRRMVTFDMFNRENTFNLEGMDRAIGEILAVQEQLLMILNTPANNPTGYSMTKQEMEQTVAILKKHAAANPDKNLTFCLDVSYIDFAGSFEESREIFDAIFDMPANTMTLLIFSMSKSYTMCGMRCGALVCLGSTAESAAVFKQAMSYSSRSTWSNAIHMAQKILVDINLNPEIRERVSQERAVFRNTITNRGRTFCAAAKEASLEICPYQYGYFVAIPCKNPVETARILMDQHIYVVPQAQGLRFSPCTVTTEKCRKAPAFIKAAMEQTQ',\n 3: 'MFQKVDAYAGDPILTLMERFKEDPRSDKVNLSIGLYYNEDGIIPQLQAVAEAEARLNAQPHGASLYLPMEGLNCYRHAIAPLLFGADHPVLKQQRVATIQTLGGSGALKVGADFLKRYFPESGVWVSDPTWENHVAIFAGAGFEVSTYPWYDEATNGVRFNDLLATLKTLPARSIVLLHPCCHNPTGADLTNDQWDAVIEILKARELIPFLDIAYQGFGAGMEEDAYAIRAIASAGLPALVSNSFSKIFSLYGERVGGLSVMCEDAEAAGRVLGQLKATVRRNYSSPPNFGAQVVAAVLNDEALKASWLAEVEEMRTRILAMRQELVKVLSTEMPERNFDYLLNQRGMFSYTGLSAAQVDRLREEFGVYLIASGRMCVAGLNTANVQRVAKAFAAVM'}"
     },
     "execution_count": 7,
     "metadata": {},
     "output_type": "execute_result"
    }
   ],
   "source": [
    "multi_input_dataset.instances[\"proteins\"]"
   ]
  },
  {
   "cell_type": "code",
   "execution_count": 8,
   "metadata": {},
   "outputs": [
    {
     "name": "stderr",
     "output_type": "stream",
     "text": [
      "Featurizing: 100%|██████████| 6/6 [00:00<00:00, 455.75it/s]\n"
     ]
    }
   ],
   "source": [
    "multi_input_dataset = DeepMolStandardizer(n_jobs=50).fit_transform(multi_input_dataset, \"ligands\")"
   ]
  },
  {
   "cell_type": "code",
   "execution_count": 9,
   "metadata": {},
   "outputs": [
    {
     "data": {
      "text/plain": "{1: '[H]OC(=O)C([H])([H])N([H])[H]',\n 6: '[H]OC(=O)C([H])(N([H])[H])C([H])([H])[H]',\n 5: '[H]OC(=O)C([H])(N([H])[H])C([H])(C([H])([H])[H])C([H])([H])[H]',\n 3: '[H]OC(=O)C([H])(N([H])[H])C([H])([H])C([H])(C([H])([H])[H])C([H])([H])[H]',\n 2: '[H]OC(=O)C([H])(N([H])[H])C([H])([H])c1c([H])nc([H])n1[H]',\n 4: '*C([H])(C(=O)O[H])C([H])(C([H])([H])[H])C([H])([H])[H]'}"
     },
     "execution_count": 9,
     "metadata": {},
     "output_type": "execute_result"
    }
   ],
   "source": [
    "multi_input_dataset.instances[\"ligands\"]"
   ]
  },
  {
   "cell_type": "markdown",
   "metadata": {},
   "source": [
    "## Generating features and encodings"
   ]
  },
  {
   "cell_type": "code",
   "execution_count": 4,
   "metadata": {},
   "outputs": [
    {
     "name": "stderr",
     "output_type": "stream",
     "text": [
      "Word2Vec: 100%|██████████| 3/3 [00:00<00:00, 484.35it/s]\n"
     ]
    }
   ],
   "source": [
    "proteins_one_hot = Word2Vec().fit(multi_input_dataset, \"proteins\")\n",
    "multi_input_dataset = proteins_one_hot.transform(multi_input_dataset, \"proteins\")"
   ]
  },
  {
   "cell_type": "code",
   "execution_count": 5,
   "metadata": {},
   "outputs": [
    {
     "name": "stderr",
     "output_type": "stream",
     "text": [
      "DeepMolDescriptors: 100%|██████████| 6/6 [00:00<00:00, 21.74it/s]\n"
     ]
    }
   ],
   "source": [
    "deepmol_wrapper = DeepMolDescriptors(n_jobs=8).fit(multi_input_dataset, instance_type=\"ligands\")\n",
    "multi_input_dataset = deepmol_wrapper.transform(multi_input_dataset, instance_type=\"ligands\")"
   ]
  },
  {
   "cell_type": "code",
   "execution_count": 12,
   "metadata": {},
   "outputs": [
    {
     "data": {
      "text/plain": "array([[-0.0329832 , -0.01935539,  0.00307129, ..., -0.06316928,\n         0.03729028, -0.05327919],\n       [-0.0329832 , -0.01935539,  0.00307129, ..., -0.06316928,\n         0.03729028, -0.05327919],\n       [-0.0329832 , -0.01935539,  0.00307129, ..., -0.06316928,\n         0.03729028, -0.05327919],\n       ...,\n       [-0.032417  , -0.01890334,  0.00405538, ..., -0.06444652,\n         0.03711376, -0.05138807],\n       [-0.032417  , -0.01890334,  0.00405538, ..., -0.06444652,\n         0.03711376, -0.05138807],\n       [-0.032417  , -0.01890334,  0.00405538, ..., -0.06444652,\n         0.03711376, -0.05138807]], dtype=float32)"
     },
     "execution_count": 12,
     "metadata": {},
     "output_type": "execute_result"
    }
   ],
   "source": [
    "multi_input_dataset.X[\"proteins\"]"
   ]
  },
  {
   "cell_type": "code",
   "execution_count": 13,
   "metadata": {},
   "outputs": [
    {
     "data": {
      "text/plain": "array([[0., 0., 0., ..., 0., 0., 0.],\n       [0., 1., 0., ..., 0., 0., 0.],\n       [0., 1., 0., ..., 0., 0., 0.],\n       ...,\n       [0., 1., 0., ..., 0., 0., 0.],\n       [0., 1., 0., ..., 0., 0., 0.],\n       [0., 1., 0., ..., 0., 0., 0.]])"
     },
     "execution_count": 13,
     "metadata": {},
     "output_type": "execute_result"
    }
   ],
   "source": [
    "multi_input_dataset.X[\"ligands\"]"
   ]
  },
  {
   "cell_type": "code",
   "execution_count": 15,
   "metadata": {},
   "outputs": [
    {
     "data": {
      "text/plain": "array([[0],\n       [1],\n       [0],\n       [1],\n       [0],\n       [0],\n       [1],\n       [1],\n       [1]])"
     },
     "execution_count": 15,
     "metadata": {},
     "output_type": "execute_result"
    }
   ],
   "source": [
    "multi_input_dataset.y"
   ]
  },
  {
   "cell_type": "markdown",
   "metadata": {},
   "source": [
    "## Tokenizers"
   ]
  },
  {
   "cell_type": "code",
   "execution_count": 16,
   "metadata": {},
   "outputs": [
    {
     "data": {
      "text/plain": "['C',\n 'C',\n '[C@H]',\n '(',\n 'C',\n ')',\n '[C@@H]',\n '(',\n 'C',\n '(',\n '=',\n 'O',\n ')',\n 'O',\n ')',\n 'N']"
     },
     "execution_count": 16,
     "metadata": {},
     "output_type": "execute_result"
    }
   ],
   "source": [
    "AtomLevelTokenizer().tokenize(\"CC[C@H](C)[C@@H](C(=O)O)N\")"
   ]
  },
  {
   "cell_type": "markdown",
   "metadata": {},
   "source": [
    "## Running models"
   ]
  },
  {
   "cell_type": "code",
   "execution_count": 6,
   "metadata": {},
   "outputs": [
    {
     "name": "stderr",
     "output_type": "stream",
     "text": [
      "2023-03-05 19:37:14.356642: I tensorflow/core/platform/cpu_feature_guard.cc:193] This TensorFlow binary is optimized with oneAPI Deep Neural Network Library (oneDNN) to use the following CPU instructions in performance-critical operations:  AVX2 FMA\n",
      "To enable them in other operations, rebuild TensorFlow with the appropriate compiler flags.\n",
      "2023-03-05 19:37:15.429206: W tensorflow/compiler/xla/stream_executor/platform/default/dso_loader.cc:64] Could not load dynamic library 'libnvinfer.so.7'; dlerror: libnvinfer.so.7: cannot open shared object file: No such file or directory\n",
      "2023-03-05 19:37:15.429335: W tensorflow/compiler/xla/stream_executor/platform/default/dso_loader.cc:64] Could not load dynamic library 'libnvinfer_plugin.so.7'; dlerror: libnvinfer_plugin.so.7: cannot open shared object file: No such file or directory\n",
      "2023-03-05 19:37:15.429350: W tensorflow/compiler/tf2tensorrt/utils/py_utils.cc:38] TF-TRT Warning: Cannot dlopen some TensorRT libraries. If you would like to use Nvidia GPU with TensorRT, please make sure the missing libraries mentioned above are installed properly.\n",
      "INFO:plants_sm.models.pytorch_model:starting to fit the data...\n",
      "INFO:plants_sm.models.pytorch_model:[1/100, 0/1] loss: 0.69325203\n",
      "INFO:plants_sm.models.pytorch_model:[1/100, 0/1] metric result: 0.0\n",
      "INFO:plants_sm.models.pytorch_model:Training loss: 0.69325203;  Metric result: 0.0\n",
      "INFO:plants_sm.models.pytorch_model:[2/100, 0/1] loss: 0.69241858\n",
      "INFO:plants_sm.models.pytorch_model:[2/100, 0/1] metric result: 0.71428571\n",
      "INFO:plants_sm.models.pytorch_model:Training loss: 0.69241858;  Metric result: 0.71428571\n",
      "INFO:plants_sm.models.pytorch_model:[3/100, 0/1] loss: 0.69175422\n",
      "INFO:plants_sm.models.pytorch_model:[3/100, 0/1] metric result: 0.71428571\n",
      "INFO:plants_sm.models.pytorch_model:Training loss: 0.69175422;  Metric result: 0.71428571\n",
      "INFO:plants_sm.models.pytorch_model:[4/100, 0/1] loss: 0.69110131\n",
      "INFO:plants_sm.models.pytorch_model:[4/100, 0/1] metric result: 0.71428571\n",
      "INFO:plants_sm.models.pytorch_model:Training loss: 0.69110131;  Metric result: 0.71428571\n",
      "INFO:plants_sm.models.pytorch_model:[5/100, 0/1] loss: 0.69038641\n",
      "INFO:plants_sm.models.pytorch_model:[5/100, 0/1] metric result: 0.71428571\n",
      "INFO:plants_sm.models.pytorch_model:Training loss: 0.69038641;  Metric result: 0.71428571\n",
      "INFO:plants_sm.models.pytorch_model:[6/100, 0/1] loss: 0.68950313\n",
      "INFO:plants_sm.models.pytorch_model:[6/100, 0/1] metric result: 0.71428571\n",
      "INFO:plants_sm.models.pytorch_model:Training loss: 0.68950313;  Metric result: 0.71428571\n",
      "INFO:plants_sm.models.pytorch_model:[7/100, 0/1] loss: 0.68841583\n",
      "INFO:plants_sm.models.pytorch_model:[7/100, 0/1] metric result: 0.71428571\n",
      "INFO:plants_sm.models.pytorch_model:Training loss: 0.68841583;  Metric result: 0.71428571\n",
      "INFO:plants_sm.models.pytorch_model:[8/100, 0/1] loss: 0.6871025\n",
      "INFO:plants_sm.models.pytorch_model:[8/100, 0/1] metric result: 0.71428571\n",
      "INFO:plants_sm.models.pytorch_model:Training loss: 0.6871025;  Metric result: 0.71428571\n",
      "INFO:plants_sm.models.pytorch_model:[9/100, 0/1] loss: 0.68548203\n",
      "INFO:plants_sm.models.pytorch_model:[9/100, 0/1] metric result: 0.71428571\n",
      "INFO:plants_sm.models.pytorch_model:Training loss: 0.68548203;  Metric result: 0.71428571\n",
      "INFO:plants_sm.models.pytorch_model:[10/100, 0/1] loss: 0.68348682\n",
      "INFO:plants_sm.models.pytorch_model:[10/100, 0/1] metric result: 0.71428571\n",
      "INFO:plants_sm.models.pytorch_model:Training loss: 0.68348682;  Metric result: 0.71428571\n",
      "INFO:plants_sm.models.pytorch_model:[11/100, 0/1] loss: 0.68105823\n",
      "INFO:plants_sm.models.pytorch_model:[11/100, 0/1] metric result: 0.71428571\n",
      "INFO:plants_sm.models.pytorch_model:Training loss: 0.68105823;  Metric result: 0.71428571\n",
      "INFO:plants_sm.models.pytorch_model:[12/100, 0/1] loss: 0.67814845\n",
      "INFO:plants_sm.models.pytorch_model:[12/100, 0/1] metric result: 0.71428571\n",
      "INFO:plants_sm.models.pytorch_model:Training loss: 0.67814845;  Metric result: 0.71428571\n",
      "INFO:plants_sm.models.pytorch_model:[13/100, 0/1] loss: 0.67463684\n",
      "INFO:plants_sm.models.pytorch_model:[13/100, 0/1] metric result: 0.71428571\n",
      "INFO:plants_sm.models.pytorch_model:Training loss: 0.67463684;  Metric result: 0.71428571\n",
      "INFO:plants_sm.models.pytorch_model:[14/100, 0/1] loss: 0.674236\n",
      "INFO:plants_sm.models.pytorch_model:[14/100, 0/1] metric result: 0.71428571\n",
      "INFO:plants_sm.models.pytorch_model:Training loss: 0.674236;  Metric result: 0.71428571\n",
      "INFO:plants_sm.models.pytorch_model:[15/100, 0/1] loss: 0.67380452\n",
      "INFO:plants_sm.models.pytorch_model:[15/100, 0/1] metric result: 0.71428571\n",
      "INFO:plants_sm.models.pytorch_model:Training loss: 0.67380452;  Metric result: 0.71428571\n",
      "INFO:plants_sm.models.pytorch_model:[16/100, 0/1] loss: 0.67334664\n",
      "INFO:plants_sm.models.pytorch_model:[16/100, 0/1] metric result: 0.71428571\n",
      "INFO:plants_sm.models.pytorch_model:Training loss: 0.67334664;  Metric result: 0.71428571\n",
      "INFO:plants_sm.models.pytorch_model:[17/100, 0/1] loss: 0.67286426\n",
      "INFO:plants_sm.models.pytorch_model:[17/100, 0/1] metric result: 0.71428571\n",
      "INFO:plants_sm.models.pytorch_model:Training loss: 0.67286426;  Metric result: 0.71428571\n",
      "INFO:plants_sm.models.pytorch_model:[18/100, 0/1] loss: 0.6723637\n",
      "INFO:plants_sm.models.pytorch_model:[18/100, 0/1] metric result: 0.71428571\n",
      "INFO:plants_sm.models.pytorch_model:Training loss: 0.6723637;  Metric result: 0.71428571\n",
      "INFO:plants_sm.models.pytorch_model:[19/100, 0/1] loss: 0.67184484\n",
      "INFO:plants_sm.models.pytorch_model:[19/100, 0/1] metric result: 0.71428571\n",
      "INFO:plants_sm.models.pytorch_model:Training loss: 0.67184484;  Metric result: 0.71428571\n",
      "INFO:plants_sm.models.pytorch_model:[20/100, 0/1] loss: 0.6713112\n",
      "INFO:plants_sm.models.pytorch_model:[20/100, 0/1] metric result: 0.71428571\n",
      "INFO:plants_sm.models.pytorch_model:Training loss: 0.6713112;  Metric result: 0.71428571\n",
      "INFO:plants_sm.models.pytorch_model:[21/100, 0/1] loss: 0.67076629\n",
      "INFO:plants_sm.models.pytorch_model:[21/100, 0/1] metric result: 0.71428571\n",
      "INFO:plants_sm.models.pytorch_model:Training loss: 0.67076629;  Metric result: 0.71428571\n",
      "INFO:plants_sm.models.pytorch_model:[22/100, 0/1] loss: 0.67021012\n",
      "INFO:plants_sm.models.pytorch_model:[22/100, 0/1] metric result: 0.71428571\n",
      "INFO:plants_sm.models.pytorch_model:Training loss: 0.67021012;  Metric result: 0.71428571\n",
      "INFO:plants_sm.models.pytorch_model:[23/100, 0/1] loss: 0.66964024\n",
      "INFO:plants_sm.models.pytorch_model:[23/100, 0/1] metric result: 0.71428571\n",
      "INFO:plants_sm.models.pytorch_model:Training loss: 0.66964024;  Metric result: 0.71428571\n",
      "INFO:plants_sm.models.pytorch_model:[24/100, 0/1] loss: 0.66905832\n",
      "INFO:plants_sm.models.pytorch_model:[24/100, 0/1] metric result: 0.71428571\n",
      "INFO:plants_sm.models.pytorch_model:Training loss: 0.66905832;  Metric result: 0.71428571\n",
      "INFO:plants_sm.models.pytorch_model:[25/100, 0/1] loss: 0.66899896\n",
      "INFO:plants_sm.models.pytorch_model:[25/100, 0/1] metric result: 0.71428571\n",
      "INFO:plants_sm.models.pytorch_model:Training loss: 0.66899896;  Metric result: 0.71428571\n",
      "INFO:plants_sm.models.pytorch_model:[26/100, 0/1] loss: 0.66893864\n",
      "INFO:plants_sm.models.pytorch_model:[26/100, 0/1] metric result: 0.71428571\n",
      "INFO:plants_sm.models.pytorch_model:Training loss: 0.66893864;  Metric result: 0.71428571\n",
      "INFO:plants_sm.models.pytorch_model:[27/100, 0/1] loss: 0.6688776\n",
      "INFO:plants_sm.models.pytorch_model:[27/100, 0/1] metric result: 0.71428571\n",
      "INFO:plants_sm.models.pytorch_model:Training loss: 0.6688776;  Metric result: 0.71428571\n",
      "INFO:plants_sm.models.pytorch_model:[28/100, 0/1] loss: 0.66881627\n",
      "INFO:plants_sm.models.pytorch_model:[28/100, 0/1] metric result: 0.71428571\n",
      "INFO:plants_sm.models.pytorch_model:Training loss: 0.66881627;  Metric result: 0.71428571\n",
      "INFO:plants_sm.models.pytorch_model:[29/100, 0/1] loss: 0.6687544\n",
      "INFO:plants_sm.models.pytorch_model:[29/100, 0/1] metric result: 0.71428571\n",
      "INFO:plants_sm.models.pytorch_model:Training loss: 0.6687544;  Metric result: 0.71428571\n",
      "INFO:plants_sm.models.pytorch_model:[30/100, 0/1] loss: 0.66869241\n",
      "INFO:plants_sm.models.pytorch_model:[30/100, 0/1] metric result: 0.71428571\n",
      "INFO:plants_sm.models.pytorch_model:Training loss: 0.66869241;  Metric result: 0.71428571\n",
      "INFO:plants_sm.models.pytorch_model:[31/100, 0/1] loss: 0.66862994\n",
      "INFO:plants_sm.models.pytorch_model:[31/100, 0/1] metric result: 0.71428571\n",
      "INFO:plants_sm.models.pytorch_model:Training loss: 0.66862994;  Metric result: 0.71428571\n",
      "INFO:plants_sm.models.pytorch_model:[32/100, 0/1] loss: 0.66856712\n",
      "INFO:plants_sm.models.pytorch_model:[32/100, 0/1] metric result: 0.71428571\n",
      "INFO:plants_sm.models.pytorch_model:Training loss: 0.66856712;  Metric result: 0.71428571\n",
      "INFO:plants_sm.models.pytorch_model:[33/100, 0/1] loss: 0.66850418\n",
      "INFO:plants_sm.models.pytorch_model:[33/100, 0/1] metric result: 0.71428571\n",
      "INFO:plants_sm.models.pytorch_model:Training loss: 0.66850418;  Metric result: 0.71428571\n",
      "INFO:plants_sm.models.pytorch_model:[34/100, 0/1] loss: 0.66844106\n",
      "INFO:plants_sm.models.pytorch_model:[34/100, 0/1] metric result: 0.71428571\n",
      "INFO:plants_sm.models.pytorch_model:Training loss: 0.66844106;  Metric result: 0.71428571\n",
      "INFO:plants_sm.models.pytorch_model:[35/100, 0/1] loss: 0.66837776\n",
      "INFO:plants_sm.models.pytorch_model:[35/100, 0/1] metric result: 0.71428571\n",
      "INFO:plants_sm.models.pytorch_model:Training loss: 0.66837776;  Metric result: 0.71428571\n",
      "INFO:plants_sm.models.pytorch_model:[36/100, 0/1] loss: 0.66837132\n",
      "INFO:plants_sm.models.pytorch_model:[36/100, 0/1] metric result: 0.71428571\n",
      "INFO:plants_sm.models.pytorch_model:Training loss: 0.66837132;  Metric result: 0.71428571\n",
      "INFO:plants_sm.models.pytorch_model:[37/100, 0/1] loss: 0.668365\n",
      "INFO:plants_sm.models.pytorch_model:[37/100, 0/1] metric result: 0.71428571\n",
      "INFO:plants_sm.models.pytorch_model:Training loss: 0.668365;  Metric result: 0.71428571\n",
      "INFO:plants_sm.models.pytorch_model:[38/100, 0/1] loss: 0.66835862\n",
      "INFO:plants_sm.models.pytorch_model:[38/100, 0/1] metric result: 0.71428571\n",
      "INFO:plants_sm.models.pytorch_model:Training loss: 0.66835862;  Metric result: 0.71428571\n",
      "INFO:plants_sm.models.pytorch_model:[39/100, 0/1] loss: 0.66835219\n",
      "INFO:plants_sm.models.pytorch_model:[39/100, 0/1] metric result: 0.71428571\n",
      "INFO:plants_sm.models.pytorch_model:Training loss: 0.66835219;  Metric result: 0.71428571\n",
      "INFO:plants_sm.models.pytorch_model:[40/100, 0/1] loss: 0.66834575\n",
      "INFO:plants_sm.models.pytorch_model:[40/100, 0/1] metric result: 0.71428571\n",
      "INFO:plants_sm.models.pytorch_model:Training loss: 0.66834575;  Metric result: 0.71428571\n",
      "INFO:plants_sm.models.pytorch_model:[41/100, 0/1] loss: 0.66833943\n",
      "INFO:plants_sm.models.pytorch_model:[41/100, 0/1] metric result: 0.71428571\n",
      "INFO:plants_sm.models.pytorch_model:Training loss: 0.66833943;  Metric result: 0.71428571\n",
      "INFO:plants_sm.models.pytorch_model:[42/100, 0/1] loss: 0.66833299\n",
      "INFO:plants_sm.models.pytorch_model:[42/100, 0/1] metric result: 0.71428571\n",
      "INFO:plants_sm.models.pytorch_model:Training loss: 0.66833299;  Metric result: 0.71428571\n",
      "INFO:plants_sm.models.pytorch_model:[43/100, 0/1] loss: 0.66832662\n",
      "INFO:plants_sm.models.pytorch_model:[43/100, 0/1] metric result: 0.71428571\n",
      "INFO:plants_sm.models.pytorch_model:Training loss: 0.66832662;  Metric result: 0.71428571\n",
      "INFO:plants_sm.models.pytorch_model:[44/100, 0/1] loss: 0.66832024\n",
      "INFO:plants_sm.models.pytorch_model:[44/100, 0/1] metric result: 0.71428571\n",
      "INFO:plants_sm.models.pytorch_model:Training loss: 0.66832024;  Metric result: 0.71428571\n",
      "INFO:plants_sm.models.pytorch_model:[45/100, 0/1] loss: 0.6683138\n",
      "INFO:plants_sm.models.pytorch_model:[45/100, 0/1] metric result: 0.71428571\n",
      "INFO:plants_sm.models.pytorch_model:Training loss: 0.6683138;  Metric result: 0.71428571\n",
      "INFO:plants_sm.models.pytorch_model:[46/100, 0/1] loss: 0.66830742\n",
      "INFO:plants_sm.models.pytorch_model:[46/100, 0/1] metric result: 0.71428571\n",
      "INFO:plants_sm.models.pytorch_model:Training loss: 0.66830742;  Metric result: 0.71428571\n",
      "INFO:plants_sm.models.pytorch_model:[47/100, 0/1] loss: 0.66830683\n",
      "INFO:plants_sm.models.pytorch_model:[47/100, 0/1] metric result: 0.71428571\n",
      "INFO:plants_sm.models.pytorch_model:Training loss: 0.66830683;  Metric result: 0.71428571\n",
      "INFO:plants_sm.models.pytorch_model:[48/100, 0/1] loss: 0.66830617\n",
      "INFO:plants_sm.models.pytorch_model:[48/100, 0/1] metric result: 0.71428571\n",
      "INFO:plants_sm.models.pytorch_model:Training loss: 0.66830617;  Metric result: 0.71428571\n",
      "INFO:plants_sm.models.pytorch_model:[49/100, 0/1] loss: 0.66830558\n",
      "INFO:plants_sm.models.pytorch_model:[49/100, 0/1] metric result: 0.71428571\n",
      "INFO:plants_sm.models.pytorch_model:Training loss: 0.66830558;  Metric result: 0.71428571\n",
      "INFO:plants_sm.models.pytorch_model:[50/100, 0/1] loss: 0.66830486\n",
      "INFO:plants_sm.models.pytorch_model:[50/100, 0/1] metric result: 0.71428571\n",
      "INFO:plants_sm.models.pytorch_model:Training loss: 0.66830486;  Metric result: 0.71428571\n",
      "INFO:plants_sm.models.pytorch_model:[51/100, 0/1] loss: 0.66830432\n",
      "INFO:plants_sm.models.pytorch_model:[51/100, 0/1] metric result: 0.71428571\n",
      "INFO:plants_sm.models.pytorch_model:Training loss: 0.66830432;  Metric result: 0.71428571\n",
      "INFO:plants_sm.models.pytorch_model:[52/100, 0/1] loss: 0.66830361\n",
      "INFO:plants_sm.models.pytorch_model:[52/100, 0/1] metric result: 0.71428571\n",
      "INFO:plants_sm.models.pytorch_model:Training loss: 0.66830361;  Metric result: 0.71428571\n",
      "INFO:plants_sm.models.pytorch_model:[53/100, 0/1] loss: 0.66830307\n",
      "INFO:plants_sm.models.pytorch_model:[53/100, 0/1] metric result: 0.71428571\n",
      "INFO:plants_sm.models.pytorch_model:Training loss: 0.66830307;  Metric result: 0.71428571\n",
      "INFO:plants_sm.models.pytorch_model:[54/100, 0/1] loss: 0.66830236\n",
      "INFO:plants_sm.models.pytorch_model:[54/100, 0/1] metric result: 0.71428571\n",
      "INFO:plants_sm.models.pytorch_model:Training loss: 0.66830236;  Metric result: 0.71428571\n",
      "INFO:plants_sm.models.pytorch_model:[55/100, 0/1] loss: 0.6683017\n",
      "INFO:plants_sm.models.pytorch_model:[55/100, 0/1] metric result: 0.71428571\n",
      "INFO:plants_sm.models.pytorch_model:Training loss: 0.6683017;  Metric result: 0.71428571\n",
      "INFO:plants_sm.models.pytorch_model:[56/100, 0/1] loss: 0.66830117\n",
      "INFO:plants_sm.models.pytorch_model:[56/100, 0/1] metric result: 0.71428571\n",
      "INFO:plants_sm.models.pytorch_model:Training loss: 0.66830117;  Metric result: 0.71428571\n",
      "INFO:plants_sm.models.pytorch_model:[57/100, 0/1] loss: 0.66830051\n",
      "INFO:plants_sm.models.pytorch_model:[57/100, 0/1] metric result: 0.71428571\n",
      "INFO:plants_sm.models.pytorch_model:Training loss: 0.66830051;  Metric result: 0.71428571\n",
      "INFO:plants_sm.models.pytorch_model:[58/100, 0/1] loss: 0.66829991\n",
      "INFO:plants_sm.models.pytorch_model:[58/100, 0/1] metric result: 0.71428571\n",
      "INFO:plants_sm.models.pytorch_model:Training loss: 0.66829991;  Metric result: 0.71428571\n",
      "INFO:plants_sm.models.pytorch_model:[59/100, 0/1] loss: 0.66829926\n",
      "INFO:plants_sm.models.pytorch_model:[59/100, 0/1] metric result: 0.71428571\n",
      "INFO:plants_sm.models.pytorch_model:Training loss: 0.66829926;  Metric result: 0.71428571\n",
      "INFO:plants_sm.models.pytorch_model:[60/100, 0/1] loss: 0.6682986\n",
      "INFO:plants_sm.models.pytorch_model:[60/100, 0/1] metric result: 0.71428571\n",
      "INFO:plants_sm.models.pytorch_model:Training loss: 0.6682986;  Metric result: 0.71428571\n",
      "INFO:plants_sm.models.pytorch_model:[61/100, 0/1] loss: 0.66829801\n",
      "INFO:plants_sm.models.pytorch_model:[61/100, 0/1] metric result: 0.71428571\n",
      "INFO:plants_sm.models.pytorch_model:Training loss: 0.66829801;  Metric result: 0.71428571\n",
      "INFO:plants_sm.models.pytorch_model:[62/100, 0/1] loss: 0.66829735\n",
      "INFO:plants_sm.models.pytorch_model:[62/100, 0/1] metric result: 0.71428571\n",
      "INFO:plants_sm.models.pytorch_model:Training loss: 0.66829735;  Metric result: 0.71428571\n",
      "INFO:plants_sm.models.pytorch_model:[63/100, 0/1] loss: 0.66829675\n",
      "INFO:plants_sm.models.pytorch_model:[63/100, 0/1] metric result: 0.71428571\n",
      "INFO:plants_sm.models.pytorch_model:Training loss: 0.66829675;  Metric result: 0.71428571\n",
      "INFO:plants_sm.models.pytorch_model:[64/100, 0/1] loss: 0.66829616\n",
      "INFO:plants_sm.models.pytorch_model:[64/100, 0/1] metric result: 0.71428571\n",
      "INFO:plants_sm.models.pytorch_model:Training loss: 0.66829616;  Metric result: 0.71428571\n",
      "INFO:plants_sm.models.pytorch_model:[65/100, 0/1] loss: 0.66829556\n",
      "INFO:plants_sm.models.pytorch_model:[65/100, 0/1] metric result: 0.71428571\n",
      "INFO:plants_sm.models.pytorch_model:Training loss: 0.66829556;  Metric result: 0.71428571\n",
      "INFO:plants_sm.models.pytorch_model:[66/100, 0/1] loss: 0.66829491\n",
      "INFO:plants_sm.models.pytorch_model:[66/100, 0/1] metric result: 0.71428571\n",
      "INFO:plants_sm.models.pytorch_model:Training loss: 0.66829491;  Metric result: 0.71428571\n",
      "INFO:plants_sm.models.pytorch_model:[67/100, 0/1] loss: 0.66829425\n",
      "INFO:plants_sm.models.pytorch_model:[67/100, 0/1] metric result: 0.71428571\n",
      "INFO:plants_sm.models.pytorch_model:Training loss: 0.66829425;  Metric result: 0.71428571\n",
      "INFO:plants_sm.models.pytorch_model:[68/100, 0/1] loss: 0.66829365\n",
      "INFO:plants_sm.models.pytorch_model:[68/100, 0/1] metric result: 0.71428571\n",
      "INFO:plants_sm.models.pytorch_model:Training loss: 0.66829365;  Metric result: 0.71428571\n",
      "INFO:plants_sm.models.pytorch_model:[69/100, 0/1] loss: 0.668293\n",
      "INFO:plants_sm.models.pytorch_model:[69/100, 0/1] metric result: 0.71428571\n",
      "INFO:plants_sm.models.pytorch_model:Training loss: 0.668293;  Metric result: 0.71428571\n",
      "INFO:plants_sm.models.pytorch_model:[70/100, 0/1] loss: 0.66829234\n",
      "INFO:plants_sm.models.pytorch_model:[70/100, 0/1] metric result: 0.71428571\n",
      "INFO:plants_sm.models.pytorch_model:Training loss: 0.66829234;  Metric result: 0.71428571\n",
      "INFO:plants_sm.models.pytorch_model:[71/100, 0/1] loss: 0.66829181\n",
      "INFO:plants_sm.models.pytorch_model:[71/100, 0/1] metric result: 0.71428571\n",
      "INFO:plants_sm.models.pytorch_model:Training loss: 0.66829181;  Metric result: 0.71428571\n",
      "INFO:plants_sm.models.pytorch_model:[72/100, 0/1] loss: 0.66829121\n",
      "INFO:plants_sm.models.pytorch_model:[72/100, 0/1] metric result: 0.71428571\n",
      "INFO:plants_sm.models.pytorch_model:Training loss: 0.66829121;  Metric result: 0.71428571\n",
      "INFO:plants_sm.models.pytorch_model:[73/100, 0/1] loss: 0.66829056\n",
      "INFO:plants_sm.models.pytorch_model:[73/100, 0/1] metric result: 0.71428571\n",
      "INFO:plants_sm.models.pytorch_model:Training loss: 0.66829056;  Metric result: 0.71428571\n",
      "INFO:plants_sm.models.pytorch_model:[74/100, 0/1] loss: 0.66828996\n",
      "INFO:plants_sm.models.pytorch_model:[74/100, 0/1] metric result: 0.71428571\n",
      "INFO:plants_sm.models.pytorch_model:Training loss: 0.66828996;  Metric result: 0.71428571\n",
      "INFO:plants_sm.models.pytorch_model:[75/100, 0/1] loss: 0.6682893\n",
      "INFO:plants_sm.models.pytorch_model:[75/100, 0/1] metric result: 0.71428571\n",
      "INFO:plants_sm.models.pytorch_model:Training loss: 0.6682893;  Metric result: 0.71428571\n",
      "INFO:plants_sm.models.pytorch_model:[76/100, 0/1] loss: 0.66828871\n",
      "INFO:plants_sm.models.pytorch_model:[76/100, 0/1] metric result: 0.71428571\n",
      "INFO:plants_sm.models.pytorch_model:Training loss: 0.66828871;  Metric result: 0.71428571\n",
      "INFO:plants_sm.models.pytorch_model:[77/100, 0/1] loss: 0.66828811\n",
      "INFO:plants_sm.models.pytorch_model:[77/100, 0/1] metric result: 0.71428571\n",
      "INFO:plants_sm.models.pytorch_model:Training loss: 0.66828811;  Metric result: 0.71428571\n",
      "INFO:plants_sm.models.pytorch_model:[78/100, 0/1] loss: 0.66828746\n",
      "INFO:plants_sm.models.pytorch_model:[78/100, 0/1] metric result: 0.71428571\n",
      "INFO:plants_sm.models.pytorch_model:Training loss: 0.66828746;  Metric result: 0.71428571\n",
      "INFO:plants_sm.models.pytorch_model:[79/100, 0/1] loss: 0.66828686\n",
      "INFO:plants_sm.models.pytorch_model:[79/100, 0/1] metric result: 0.71428571\n",
      "INFO:plants_sm.models.pytorch_model:Training loss: 0.66828686;  Metric result: 0.71428571\n",
      "INFO:plants_sm.models.pytorch_model:[80/100, 0/1] loss: 0.6682862\n",
      "INFO:plants_sm.models.pytorch_model:[80/100, 0/1] metric result: 0.71428571\n",
      "INFO:plants_sm.models.pytorch_model:Training loss: 0.6682862;  Metric result: 0.71428571\n",
      "INFO:plants_sm.models.pytorch_model:[81/100, 0/1] loss: 0.66828561\n",
      "INFO:plants_sm.models.pytorch_model:[81/100, 0/1] metric result: 0.71428571\n",
      "INFO:plants_sm.models.pytorch_model:Training loss: 0.66828561;  Metric result: 0.71428571\n",
      "INFO:plants_sm.models.pytorch_model:[82/100, 0/1] loss: 0.66828495\n",
      "INFO:plants_sm.models.pytorch_model:[82/100, 0/1] metric result: 0.71428571\n",
      "INFO:plants_sm.models.pytorch_model:Training loss: 0.66828495;  Metric result: 0.71428571\n",
      "INFO:plants_sm.models.pytorch_model:[83/100, 0/1] loss: 0.66828442\n",
      "INFO:plants_sm.models.pytorch_model:[83/100, 0/1] metric result: 0.71428571\n",
      "INFO:plants_sm.models.pytorch_model:Training loss: 0.66828442;  Metric result: 0.71428571\n",
      "INFO:plants_sm.models.pytorch_model:[84/100, 0/1] loss: 0.66828376\n",
      "INFO:plants_sm.models.pytorch_model:[84/100, 0/1] metric result: 0.71428571\n",
      "INFO:plants_sm.models.pytorch_model:Training loss: 0.66828376;  Metric result: 0.71428571\n",
      "INFO:plants_sm.models.pytorch_model:[85/100, 0/1] loss: 0.66828316\n",
      "INFO:plants_sm.models.pytorch_model:[85/100, 0/1] metric result: 0.71428571\n",
      "INFO:plants_sm.models.pytorch_model:Training loss: 0.66828316;  Metric result: 0.71428571\n",
      "INFO:plants_sm.models.pytorch_model:[86/100, 0/1] loss: 0.66828251\n",
      "INFO:plants_sm.models.pytorch_model:[86/100, 0/1] metric result: 0.71428571\n",
      "INFO:plants_sm.models.pytorch_model:Training loss: 0.66828251;  Metric result: 0.71428571\n",
      "INFO:plants_sm.models.pytorch_model:[87/100, 0/1] loss: 0.66828197\n",
      "INFO:plants_sm.models.pytorch_model:[87/100, 0/1] metric result: 0.71428571\n",
      "INFO:plants_sm.models.pytorch_model:Training loss: 0.66828197;  Metric result: 0.71428571\n",
      "INFO:plants_sm.models.pytorch_model:[88/100, 0/1] loss: 0.66828138\n",
      "INFO:plants_sm.models.pytorch_model:[88/100, 0/1] metric result: 0.71428571\n",
      "INFO:plants_sm.models.pytorch_model:Training loss: 0.66828138;  Metric result: 0.71428571\n",
      "INFO:plants_sm.models.pytorch_model:[89/100, 0/1] loss: 0.66828072\n",
      "INFO:plants_sm.models.pytorch_model:[89/100, 0/1] metric result: 0.71428571\n",
      "INFO:plants_sm.models.pytorch_model:Training loss: 0.66828072;  Metric result: 0.71428571\n",
      "INFO:plants_sm.models.pytorch_model:[90/100, 0/1] loss: 0.66828007\n",
      "INFO:plants_sm.models.pytorch_model:[90/100, 0/1] metric result: 0.71428571\n",
      "INFO:plants_sm.models.pytorch_model:Training loss: 0.66828007;  Metric result: 0.71428571\n",
      "INFO:plants_sm.models.pytorch_model:[91/100, 0/1] loss: 0.66827953\n",
      "INFO:plants_sm.models.pytorch_model:[91/100, 0/1] metric result: 0.71428571\n",
      "INFO:plants_sm.models.pytorch_model:Training loss: 0.66827953;  Metric result: 0.71428571\n",
      "INFO:plants_sm.models.pytorch_model:[92/100, 0/1] loss: 0.66827887\n",
      "INFO:plants_sm.models.pytorch_model:[92/100, 0/1] metric result: 0.71428571\n",
      "INFO:plants_sm.models.pytorch_model:Training loss: 0.66827887;  Metric result: 0.71428571\n",
      "INFO:plants_sm.models.pytorch_model:[93/100, 0/1] loss: 0.66827828\n",
      "INFO:plants_sm.models.pytorch_model:[93/100, 0/1] metric result: 0.71428571\n",
      "INFO:plants_sm.models.pytorch_model:Training loss: 0.66827828;  Metric result: 0.71428571\n",
      "INFO:plants_sm.models.pytorch_model:[94/100, 0/1] loss: 0.66827762\n",
      "INFO:plants_sm.models.pytorch_model:[94/100, 0/1] metric result: 0.71428571\n",
      "INFO:plants_sm.models.pytorch_model:Training loss: 0.66827762;  Metric result: 0.71428571\n",
      "INFO:plants_sm.models.pytorch_model:[95/100, 0/1] loss: 0.66827703\n",
      "INFO:plants_sm.models.pytorch_model:[95/100, 0/1] metric result: 0.71428571\n",
      "INFO:plants_sm.models.pytorch_model:Training loss: 0.66827703;  Metric result: 0.71428571\n",
      "INFO:plants_sm.models.pytorch_model:[96/100, 0/1] loss: 0.66827649\n",
      "INFO:plants_sm.models.pytorch_model:[96/100, 0/1] metric result: 0.71428571\n",
      "INFO:plants_sm.models.pytorch_model:Training loss: 0.66827649;  Metric result: 0.71428571\n",
      "INFO:plants_sm.models.pytorch_model:[97/100, 0/1] loss: 0.66827583\n",
      "INFO:plants_sm.models.pytorch_model:[97/100, 0/1] metric result: 0.71428571\n",
      "INFO:plants_sm.models.pytorch_model:Training loss: 0.66827583;  Metric result: 0.71428571\n",
      "INFO:plants_sm.models.pytorch_model:[98/100, 0/1] loss: 0.66827524\n",
      "INFO:plants_sm.models.pytorch_model:[98/100, 0/1] metric result: 0.71428571\n",
      "INFO:plants_sm.models.pytorch_model:Training loss: 0.66827524;  Metric result: 0.71428571\n",
      "INFO:plants_sm.models.pytorch_model:[99/100, 0/1] loss: 0.6682747\n",
      "INFO:plants_sm.models.pytorch_model:[99/100, 0/1] metric result: 0.71428571\n",
      "INFO:plants_sm.models.pytorch_model:Training loss: 0.6682747;  Metric result: 0.71428571\n",
      "INFO:plants_sm.models.pytorch_model:[100/100, 0/1] loss: 0.66827404\n",
      "INFO:plants_sm.models.pytorch_model:[100/100, 0/1] metric result: 0.71428571\n",
      "INFO:plants_sm.models.pytorch_model:Training loss: 0.66827404;  Metric result: 0.71428571\n"
     ]
    },
    {
     "data": {
      "text/plain": "BaselineModel(\n  (dense_proteins1): Linear(in_features=512, out_features=1024, bias=True)\n  (fc_proteins0): Linear(in_features=1024, out_features=500, bias=True)\n  (fc_proteins1): Linear(in_features=500, out_features=250, bias=True)\n  (dense_compounds1): Linear(in_features=2048, out_features=4096, bias=True)\n  (fc_compounds0): Linear(in_features=4096, out_features=500, bias=True)\n  (fc_compounds1): Linear(in_features=500, out_features=500, bias=True)\n  (dense_interaction_layer1): Linear(in_features=750, out_features=4096, bias=True)\n  (fc_interaction0): Linear(in_features=4096, out_features=500, bias=True)\n  (fc_interaction1): Linear(in_features=500, out_features=500, bias=True)\n  (final_layer): Linear(in_features=500, out_features=1, bias=True)\n)"
     },
     "execution_count": 6,
     "metadata": {},
     "output_type": "execute_result"
    }
   ],
   "source": [
    "input_size_proteins = multi_input_dataset.X[\"proteins\"].shape[1]\n",
    "input_size_compounds = multi_input_dataset.X[\"ligands\"].shape[1]\n",
    "model = BaselineModel(input_size_proteins, input_size_compounds, hidden_layers_proteins=[500, 250],\n",
    "                      hidden_layers_compounds=[500, 500], hidden_layers_interaction=[500, 500])\n",
    "\n",
    "wrapper = PyTorchModel(model=model, loss_function=nn.BCELoss(),\n",
    "                               validation_metric=f1_score,\n",
    "                               problem_type=BINARY, batch_size=50, epochs=100,\n",
    "                               optimizer=Adam(model.parameters(), lr=0.0001), progress=50,\n",
    "                               logger_path=\"small_dataset.log\")\n",
    "wrapper.fit(multi_input_dataset)"
   ]
  },
  {
   "cell_type": "code",
   "execution_count": 2,
   "outputs": [],
   "source": [
    "from torch import nn\n",
    "\n",
    "params = {\n",
    "    'features': 512,\n",
    "    'lr': 0.001,\n",
    "    'momentum': 0,\n",
    "}\n",
    "\n",
    "class NeuralNetwork(nn.Module):\n",
    "    def __init__(self):\n",
    "        super(NeuralNetwork, self).__init__()\n",
    "        self.flatten = nn.Flatten()\n",
    "        self.linear_relu_stack = nn.Sequential(\n",
    "            nn.Linear(28*28, params['features']),\n",
    "            nn.ReLU(),\n",
    "            nn.Linear(params['features'], params['features']),\n",
    "            nn.ReLU(),\n",
    "            nn.Linear(params['features'], 10)\n",
    "        )\n",
    "\n",
    "    def forward(self, x):\n",
    "        x = self.flatten(x)\n",
    "        logits = self.linear_relu_stack(x)\n",
    "        return logits"
   ],
   "metadata": {
    "collapsed": false
   }
  },
  {
   "cell_type": "code",
   "execution_count": null,
   "outputs": [],
   "source": [
    "wrapper = PyTorchModel(model=model, loss_function=nn.BCELoss(),\n",
    "                               validation_metric=f1_score,\n",
    "                               problem_type=BINARY, batch_size=50, epochs=100,\n",
    "                               optimizer=Adam(model.parameters(), lr=0.0001), progress=50,\n",
    "                               logger_path=\"small_dataset.log\")\n",
    "wrapper.fit(multi_input_dataset)"
   ],
   "metadata": {
    "collapsed": false
   }
  }
 ],
 "metadata": {
  "kernelspec": {
   "display_name": "Python 3 (ipykernel)",
   "language": "python",
   "name": "python3"
  },
  "language_info": {
   "codemirror_mode": {
    "name": "ipython",
    "version": 3
   },
   "file_extension": ".py",
   "mimetype": "text/x-python",
   "name": "python",
   "nbconvert_exporter": "python",
   "pygments_lexer": "ipython3",
   "version": "3.7.13"
  }
 },
 "nbformat": 4,
 "nbformat_minor": 1
}
