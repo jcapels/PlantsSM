{
 "cells": [
  {
   "cell_type": "code",
   "execution_count": 2,
   "id": "80e9ca83",
   "metadata": {},
   "outputs": [
    {
     "name": "stderr",
     "output_type": "stream",
     "text": [
      "/home/jcapela/miniconda3/envs/deeplants/lib/python3.11/site-packages/tqdm/auto.py:22: TqdmWarning: IProgress not found. Please update jupyter and ipywidgets. See https://ipywidgets.readthedocs.io/en/stable/user_install.html\n",
      "  from .autonotebook import tqdm as notebook_tqdm\n"
     ]
    }
   ],
   "source": [
    "\n",
    "from plants_sm.data_standardization.truncation import Truncator\n",
    "from plants_sm.data_standardization.proteins.standardization import ProteinStandardizer\n",
    "from plants_sm.featurization.proteins.bio_embeddings.prot_bert import ProtBert"
   ]
  },
  {
   "cell_type": "code",
   "execution_count": 2,
   "id": "38c164a8",
   "metadata": {},
   "outputs": [],
   "source": [
    "from plants_sm.data_structures.dataset.single_input_dataset import SingleInputDataset\n",
    "\n",
    "transformers = [ProteinStandardizer(), Truncator(max_length=884), ProtBert(device=\"cpu\")]\n",
    "\n",
    "dataset = SingleInputDataset.from_csv(\"data/aminotransferase_binary.csv\", representation_field=\"SEQ\", instances_ids_field=\"ids\", nrows=10)\n",
    "\n",
    "for i, transformer in enumerate(transformers):\n",
    "    transformers[i].fit(dataset)"
   ]
  },
  {
   "cell_type": "code",
   "execution_count": 3,
   "id": "b5ab0676",
   "metadata": {},
   "outputs": [
    {
     "data": {
      "text/plain": [
       "True"
      ]
     },
     "execution_count": 3,
     "metadata": {},
     "output_type": "execute_result"
    }
   ],
   "source": [
    "transformers[i].fitted"
   ]
  },
  {
   "cell_type": "code",
   "execution_count": 4,
   "id": "20b1e533",
   "metadata": {},
   "outputs": [
    {
     "name": "stderr",
     "output_type": "stream",
     "text": [
      "💡 Tip: For seamless cloud uploads and versioning, try installing [litmodels](https://pypi.org/project/litmodels/) to enable LitModelCheckpoint, which syncs automatically with the Lightning model registry.\n",
      "GPU available: True (cuda), used: False\n",
      "TPU available: False, using: 0 TPU cores\n",
      "HPU available: False, using: 0 HPUs\n",
      "/home/jcapela/miniconda3/envs/deeplants/lib/python3.11/site-packages/lightning/pytorch/trainer/setup.py:177: GPU available but not used. You can set it by doing `Trainer(accelerator='gpu')`.\n",
      "💡 Tip: For seamless cloud uploads and versioning, try installing [litmodels](https://pypi.org/project/litmodels/) to enable LitModelCheckpoint, which syncs automatically with the Lightning model registry.\n",
      "GPU available: True (cuda), used: False\n",
      "TPU available: False, using: 0 TPU cores\n",
      "HPU available: False, using: 0 HPUs\n"
     ]
    }
   ],
   "source": [
    "from plants_sm.data_structures.dataset.single_input_dataset import SingleInputDataset\n",
    "from plants_sm.pipeline.pipeline import Pipeline\n",
    "\n",
    "\n",
    "pipeline = Pipeline(steps=transformers, models=[])\n",
    "\n",
    "dataset = SingleInputDataset.from_csv(\"data/aminotransferase_binary.csv\", representation_field=\"SEQ\", instances_ids_field=\"ids\", nrows=10)"
   ]
  },
  {
   "cell_type": "code",
   "execution_count": 19,
   "id": "571cf997",
   "metadata": {},
   "outputs": [
    {
     "name": "stderr",
     "output_type": "stream",
     "text": [
      "ProteinStandardizer: 100%|██████████| 10/10 [00:00<00:00, 281.56it/s]\n",
      "Truncator: 100%|██████████| 10/10 [00:00<00:00, 316.25it/s]\n",
      "ProtBert: 100%|██████████| 10/10 [00:07<00:00,  1.38it/s]\n"
     ]
    },
    {
     "data": {
      "text/plain": [
       "array([[0., 1., 0., ..., 0., 0., 0.],\n",
       "       [0., 1., 0., ..., 0., 0., 0.],\n",
       "       [0., 1., 0., ..., 0., 0., 0.],\n",
       "       ...,\n",
       "       [0., 1., 0., ..., 0., 0., 0.],\n",
       "       [0., 1., 0., ..., 0., 0., 0.],\n",
       "       [0., 1., 0., ..., 0., 0., 0.]])"
      ]
     },
     "execution_count": 19,
     "metadata": {},
     "output_type": "execute_result"
    }
   ],
   "source": [
    "pipeline.predict(dataset)"
   ]
  },
  {
   "cell_type": "code",
   "execution_count": 6,
   "id": "64010413",
   "metadata": {},
   "outputs": [],
   "source": [
    "pipeline.save(\"ProtBERT_pipeline\")"
   ]
  },
  {
   "cell_type": "code",
   "execution_count": 1,
   "id": "2a65ab5b",
   "metadata": {},
   "outputs": [
    {
     "name": "stderr",
     "output_type": "stream",
     "text": [
      "/home/jcapela/miniconda3/envs/deeplants/lib/python3.11/site-packages/tqdm/auto.py:22: TqdmWarning: IProgress not found. Please update jupyter and ipywidgets. See https://ipywidgets.readthedocs.io/en/stable/user_install.html\n",
      "  from .autonotebook import tqdm as notebook_tqdm\n",
      "💡 Tip: For seamless cloud uploads and versioning, try installing [litmodels](https://pypi.org/project/litmodels/) to enable LitModelCheckpoint, which syncs automatically with the Lightning model registry.\n",
      "GPU available: True (cuda), used: False\n",
      "TPU available: False, using: 0 TPU cores\n",
      "HPU available: False, using: 0 HPUs\n",
      "/home/jcapela/miniconda3/envs/deeplants/lib/python3.11/site-packages/lightning/pytorch/trainer/setup.py:177: GPU available but not used. You can set it by doing `Trainer(accelerator='gpu')`.\n",
      "💡 Tip: For seamless cloud uploads and versioning, try installing [litmodels](https://pypi.org/project/litmodels/) to enable LitModelCheckpoint, which syncs automatically with the Lightning model registry.\n",
      "GPU available: True (cuda), used: False\n",
      "TPU available: False, using: 0 TPU cores\n",
      "HPU available: False, using: 0 HPUs\n"
     ]
    }
   ],
   "source": [
    "from plants_sm.data_structures.dataset.single_input_dataset import SingleInputDataset\n",
    "from plants_sm.pipeline.pipeline import Pipeline\n",
    "\n",
    "\n",
    "dataset = SingleInputDataset.from_csv(\"data/aminotransferase_binary.csv\", representation_field=\"SEQ\", instances_ids_field=\"ids\", nrows=10)\n",
    "\n",
    "pipeline = Pipeline.load(\"ProtBERT_pipeline\")"
   ]
  },
  {
   "cell_type": "code",
   "execution_count": 2,
   "id": "ae04e19c",
   "metadata": {},
   "outputs": [],
   "source": [
    "import torch\n",
    "from plants_sm.models.fc.fc import DNN\n",
    "from plants_sm.models.pytorch_model import PyTorchModel\n",
    "from torch import nn\n",
    "\n",
    "model = DNN(1024, [2560], 5743, batch_norm=True, last_sigmoid=True)\n",
    "model.load_state_dict(torch.load(\"ProtBERT_pipeline/prot_bert.pt\"))\n",
    "model = PyTorchModel(model=model, loss_function=nn.BCELoss, model_name=\"ec_number\")"
   ]
  },
  {
   "cell_type": "code",
   "execution_count": 3,
   "id": "be123d9c",
   "metadata": {},
   "outputs": [],
   "source": [
    "pipeline.add_models(model)"
   ]
  },
  {
   "cell_type": "code",
   "execution_count": 4,
   "id": "899a0a2b",
   "metadata": {},
   "outputs": [
    {
     "name": "stderr",
     "output_type": "stream",
     "text": [
      "ProteinStandardizer: 100%|██████████| 10/10 [00:00<00:00, 177.74it/s]\n",
      "Truncator: 100%|██████████| 10/10 [00:00<00:00, 567.03it/s]\n",
      "ProtBert: 100%|██████████| 10/10 [00:07<00:00,  1.38it/s]\n"
     ]
    },
    {
     "data": {
      "text/plain": [
       "array([[0., 1., 0., ..., 0., 0., 0.],\n",
       "       [0., 1., 0., ..., 0., 0., 0.],\n",
       "       [0., 1., 0., ..., 0., 0., 0.],\n",
       "       ...,\n",
       "       [0., 1., 0., ..., 0., 0., 0.],\n",
       "       [0., 1., 0., ..., 0., 0., 0.],\n",
       "       [0., 1., 0., ..., 0., 0., 0.]])"
      ]
     },
     "execution_count": 4,
     "metadata": {},
     "output_type": "execute_result"
    }
   ],
   "source": [
    "pipeline.predict(dataset)"
   ]
  },
  {
   "cell_type": "code",
   "execution_count": 6,
   "id": "c3758623",
   "metadata": {},
   "outputs": [
    {
     "name": "stderr",
     "output_type": "stream",
     "text": [
      "💡 Tip: For seamless cloud uploads and versioning, try installing [litmodels](https://pypi.org/project/litmodels/) to enable LitModelCheckpoint, which syncs automatically with the Lightning model registry.\n",
      "GPU available: True (cuda), used: True\n",
      "TPU available: False, using: 0 TPU cores\n",
      "HPU available: False, using: 0 HPUs\n"
     ]
    }
   ],
   "source": [
    "from plants_sm.models.lightning_model import InternalLightningModel\n",
    "from plants_sm.pathway_prediction._fine_tune_ec_number_prediction_model import FineTuneModelECNumber\n",
    "\n",
    "additional_layers = [1280, 640]\n",
    "\n",
    "learning_rate = 0.0035555738943412697\n",
    "base_layers = [2560]\n",
    "batch_size = 64\n",
    "input_dim = 1024\n",
    "\n",
    "# module = FineTuneModelECNumber(input_dim=input_dim, additional_layers=additional_layers, classification_neurons=1, \\\n",
    "#     path_to_model=\"ProtBERT_pipeline/prot_bert.pt\", learning_rate=learning_rate, base_layers=base_layers, layers_to_freeze=len(base_layers), scheduler=False)\n",
    "\n",
    "module = FineTuneModelECNumber.load_from_checkpoint(\"prot_bert_enzyme_discrimination/pytorch_model_weights.ckpt\",\n",
    "                                           input_dim=input_dim, additional_layers=additional_layers, classification_neurons=1, \\\n",
    "                                            path_to_model=\"ProtBERT_pipeline/prot_bert.pt\")\n",
    "\n",
    "model = InternalLightningModel(module=module,\n",
    "        batch_size=batch_size,\n",
    "        devices=[2],\n",
    "        accelerator=\"gpu\", model_name=\"enzyme_discrimination\")"
   ]
  },
  {
   "cell_type": "code",
   "execution_count": 7,
   "id": "5ff8ba6f",
   "metadata": {},
   "outputs": [],
   "source": [
    "pipeline.add_models(model)"
   ]
  },
  {
   "cell_type": "code",
   "execution_count": 11,
   "id": "ad0c963d",
   "metadata": {},
   "outputs": [
    {
     "name": "stderr",
     "output_type": "stream",
     "text": [
      "ProteinStandardizer: 100%|██████████| 10/10 [00:00<00:00, 418.41it/s]\n",
      "Truncator: 100%|██████████| 10/10 [00:00<00:00, 568.96it/s]\n",
      "ProtBert: 100%|██████████| 10/10 [00:06<00:00,  1.44it/s]\n",
      "/home/jcapela/miniconda3/envs/deeplants/lib/python3.11/site-packages/lightning/pytorch/trainer/connectors/data_connector.py:425: The 'predict_dataloader' does not have many workers which may be a bottleneck. Consider increasing the value of the `num_workers` argument` to `num_workers=63` in the `DataLoader` to improve performance.\n"
     ]
    },
    {
     "name": "stdout",
     "output_type": "stream",
     "text": [
      "Predicting DataLoader 0: 100%|██████████| 1/1 [00:00<00:00, 161.92it/s]\n"
     ]
    },
    {
     "data": {
      "text/plain": [
       "array([1, 1, 1, 1, 1, 1, 1, 1, 1, 1])"
      ]
     },
     "execution_count": 11,
     "metadata": {},
     "output_type": "execute_result"
    }
   ],
   "source": [
    "enzymes_non_enzymes = pipeline.predict(dataset, \"enzyme_discrimination\")\n",
    "\n",
    "enzymes_non_enzymes = enzymes_non_enzymes.reshape((enzymes_non_enzymes.shape[0],))\n",
    "enzymes_non_enzymes[enzymes_non_enzymes==1]"
   ]
  }
 ],
 "metadata": {
  "kernelspec": {
   "display_name": "deeplants",
   "language": "python",
   "name": "python3"
  },
  "language_info": {
   "codemirror_mode": {
    "name": "ipython",
    "version": 3
   },
   "file_extension": ".py",
   "mimetype": "text/x-python",
   "name": "python",
   "nbconvert_exporter": "python",
   "pygments_lexer": "ipython3",
   "version": "3.11.13"
  }
 },
 "nbformat": 4,
 "nbformat_minor": 5
}
