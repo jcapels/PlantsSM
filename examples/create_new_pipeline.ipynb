{
 "cells": [
  {
   "cell_type": "code",
   "execution_count": null,
   "id": "80e9ca83",
   "metadata": {},
   "outputs": [
    {
     "name": "stderr",
     "output_type": "stream",
     "text": [
      "/home/jcapela/miniconda3/envs/deeplants/lib/python3.11/site-packages/tqdm/auto.py:22: TqdmWarning: IProgress not found. Please update jupyter and ipywidgets. See https://ipywidgets.readthedocs.io/en/stable/user_install.html\n",
      "  from .autonotebook import tqdm as notebook_tqdm\n"
     ]
    }
   ],
   "source": [
    "\n",
    "from plants_sm.data_standardization.truncation import Truncator\n",
    "from plants_sm.data_standardization.proteins.standardization import ProteinStandardizer\n",
    "from plants_sm.featurization.proteins.bio_embeddings.prot_bert import ProtBert\n",
    "from plants_sm.featurization.proteins.bio_embeddings.esm import ESMEncoder"
   ]
  },
  {
   "cell_type": "code",
   "execution_count": 2,
   "id": "38c164a8",
   "metadata": {},
   "outputs": [],
   "source": [
    "from plants_sm.data_structures.dataset.single_input_dataset import SingleInputDataset\n",
    "\n",
    "transformers = [ProteinStandardizer(), Truncator(max_length=884), ProtBert(device=\"cpu\")]\n",
    "\n",
    "dataset = SingleInputDataset.from_csv(\"data/aminotransferase_binary.csv\", representation_field=\"SEQ\", instances_ids_field=\"ids\", nrows=10)\n",
    "\n",
    "for i, transformer in enumerate(transformers):\n",
    "    transformers[i].fit(dataset)"
   ]
  },
  {
   "cell_type": "code",
   "execution_count": 3,
   "id": "b5ab0676",
   "metadata": {},
   "outputs": [
    {
     "data": {
      "text/plain": [
       "True"
      ]
     },
     "execution_count": 3,
     "metadata": {},
     "output_type": "execute_result"
    }
   ],
   "source": [
    "transformers[i].fitted"
   ]
  },
  {
   "cell_type": "code",
   "execution_count": 4,
   "id": "20b1e533",
   "metadata": {},
   "outputs": [
    {
     "name": "stderr",
     "output_type": "stream",
     "text": [
      "💡 Tip: For seamless cloud uploads and versioning, try installing [litmodels](https://pypi.org/project/litmodels/) to enable LitModelCheckpoint, which syncs automatically with the Lightning model registry.\n",
      "GPU available: True (cuda), used: False\n",
      "TPU available: False, using: 0 TPU cores\n",
      "HPU available: False, using: 0 HPUs\n",
      "/home/jcapela/miniconda3/envs/deeplants/lib/python3.11/site-packages/lightning/pytorch/trainer/setup.py:177: GPU available but not used. You can set it by doing `Trainer(accelerator='gpu')`.\n",
      "💡 Tip: For seamless cloud uploads and versioning, try installing [litmodels](https://pypi.org/project/litmodels/) to enable LitModelCheckpoint, which syncs automatically with the Lightning model registry.\n",
      "GPU available: True (cuda), used: False\n",
      "TPU available: False, using: 0 TPU cores\n",
      "HPU available: False, using: 0 HPUs\n"
     ]
    }
   ],
   "source": [
    "from plants_sm.data_structures.dataset.single_input_dataset import SingleInputDataset\n",
    "from plants_sm.pipeline.pipeline import Pipeline\n",
    "\n",
    "\n",
    "pipeline = Pipeline(steps=transformers, models=[])\n",
    "\n",
    "dataset = SingleInputDataset.from_csv(\"data/aminotransferase_binary.csv\", representation_field=\"SEQ\", instances_ids_field=\"ids\", nrows=10)"
   ]
  },
  {
   "cell_type": "code",
   "execution_count": null,
   "id": "8285c451",
   "metadata": {},
   "outputs": [],
   "source": [
    "pipeline.predict(dataset)\n",
    "pipeline.save(\"ProtBERT_pipeline\")"
   ]
  },
  {
   "cell_type": "code",
   "execution_count": 1,
   "id": "2a65ab5b",
   "metadata": {},
   "outputs": [
    {
     "name": "stderr",
     "output_type": "stream",
     "text": [
      "/home/jcapela/miniconda3/envs/deeplants/lib/python3.11/site-packages/tqdm/auto.py:22: TqdmWarning: IProgress not found. Please update jupyter and ipywidgets. See https://ipywidgets.readthedocs.io/en/stable/user_install.html\n",
      "  from .autonotebook import tqdm as notebook_tqdm\n",
      "💡 Tip: For seamless cloud uploads and versioning, try installing [litmodels](https://pypi.org/project/litmodels/) to enable LitModelCheckpoint, which syncs automatically with the Lightning model registry.\n",
      "GPU available: True (cuda), used: False\n",
      "TPU available: False, using: 0 TPU cores\n",
      "HPU available: False, using: 0 HPUs\n",
      "/home/jcapela/miniconda3/envs/deeplants/lib/python3.11/site-packages/lightning/pytorch/trainer/setup.py:177: GPU available but not used. You can set it by doing `Trainer(accelerator='gpu')`.\n",
      "💡 Tip: For seamless cloud uploads and versioning, try installing [litmodels](https://pypi.org/project/litmodels/) to enable LitModelCheckpoint, which syncs automatically with the Lightning model registry.\n",
      "GPU available: True (cuda), used: False\n",
      "TPU available: False, using: 0 TPU cores\n",
      "HPU available: False, using: 0 HPUs\n"
     ]
    }
   ],
   "source": [
    "from plants_sm.data_structures.dataset.single_input_dataset import SingleInputDataset\n",
    "from plants_sm.pipeline.pipeline import Pipeline\n",
    "\n",
    "\n",
    "dataset = SingleInputDataset.from_csv(\"data/aminotransferase_binary.csv\", representation_field=\"SEQ\", instances_ids_field=\"ids\", nrows=10)\n",
    "\n",
    "pipeline = Pipeline.load(\"ProtBERT_pipeline\")"
   ]
  },
  {
   "cell_type": "code",
   "execution_count": 2,
   "id": "ae04e19c",
   "metadata": {},
   "outputs": [],
   "source": [
    "import torch\n",
    "from plants_sm.models.fc.fc import DNN\n",
    "from plants_sm.models.pytorch_model import PyTorchModel\n",
    "from torch import nn\n",
    "\n",
    "model = DNN(1024, [2560], 5743, batch_norm=True, last_sigmoid=True)\n",
    "model.load_state_dict(torch.load(\"ProtBERT_pipeline/prot_bert.pt\"))\n",
    "model = PyTorchModel(model=model, loss_function=nn.BCELoss, model_name=\"ec_number\")"
   ]
  },
  {
   "cell_type": "code",
   "execution_count": 3,
   "id": "be123d9c",
   "metadata": {},
   "outputs": [],
   "source": [
    "pipeline.add_models(model)"
   ]
  },
  {
   "cell_type": "code",
   "execution_count": 4,
   "id": "899a0a2b",
   "metadata": {},
   "outputs": [
    {
     "name": "stderr",
     "output_type": "stream",
     "text": [
      "ProteinStandardizer: 100%|██████████| 10/10 [00:00<00:00, 177.74it/s]\n",
      "Truncator: 100%|██████████| 10/10 [00:00<00:00, 567.03it/s]\n",
      "ProtBert: 100%|██████████| 10/10 [00:07<00:00,  1.38it/s]\n"
     ]
    },
    {
     "data": {
      "text/plain": [
       "array([[0., 1., 0., ..., 0., 0., 0.],\n",
       "       [0., 1., 0., ..., 0., 0., 0.],\n",
       "       [0., 1., 0., ..., 0., 0., 0.],\n",
       "       ...,\n",
       "       [0., 1., 0., ..., 0., 0., 0.],\n",
       "       [0., 1., 0., ..., 0., 0., 0.],\n",
       "       [0., 1., 0., ..., 0., 0., 0.]])"
      ]
     },
     "execution_count": 4,
     "metadata": {},
     "output_type": "execute_result"
    }
   ],
   "source": [
    "pipeline.predict(dataset)"
   ]
  },
  {
   "cell_type": "code",
   "execution_count": 6,
   "id": "c3758623",
   "metadata": {},
   "outputs": [
    {
     "name": "stderr",
     "output_type": "stream",
     "text": [
      "💡 Tip: For seamless cloud uploads and versioning, try installing [litmodels](https://pypi.org/project/litmodels/) to enable LitModelCheckpoint, which syncs automatically with the Lightning model registry.\n",
      "GPU available: True (cuda), used: True\n",
      "TPU available: False, using: 0 TPU cores\n",
      "HPU available: False, using: 0 HPUs\n"
     ]
    }
   ],
   "source": [
    "from plants_sm.models.lightning_model import InternalLightningModel\n",
    "from plants_sm.pathway_prediction._fine_tune_ec_number_prediction_model import FineTuneModelECNumber\n",
    "\n",
    "additional_layers = [1280, 640]\n",
    "\n",
    "learning_rate = 0.0035555738943412697\n",
    "base_layers = [2560]\n",
    "batch_size = 64\n",
    "input_dim = 1024\n",
    "\n",
    "# module = FineTuneModelECNumber(input_dim=input_dim, additional_layers=additional_layers, classification_neurons=1, \\\n",
    "#     path_to_model=\"ProtBERT_pipeline/prot_bert.pt\", learning_rate=learning_rate, base_layers=base_layers, layers_to_freeze=len(base_layers), scheduler=False)\n",
    "\n",
    "module = FineTuneModelECNumber.load_from_checkpoint(\"prot_bert_enzyme_discrimination/pytorch_model_weights.ckpt\",\n",
    "                                           input_dim=input_dim, additional_layers=additional_layers, classification_neurons=1, \\\n",
    "                                            path_to_model=\"ProtBERT_pipeline/prot_bert.pt\")\n",
    "\n",
    "model = InternalLightningModel(module=module,\n",
    "        batch_size=batch_size,\n",
    "        devices=[2],\n",
    "        accelerator=\"gpu\", model_name=\"enzyme_discrimination\")"
   ]
  },
  {
   "cell_type": "code",
   "execution_count": null,
   "id": "5ff8ba6f",
   "metadata": {},
   "outputs": [],
   "source": [
    "pipeline.add_models(model)"
   ]
  },
  {
   "cell_type": "code",
   "execution_count": 11,
   "id": "ad0c963d",
   "metadata": {},
   "outputs": [
    {
     "name": "stderr",
     "output_type": "stream",
     "text": [
      "ProteinStandardizer: 100%|██████████| 10/10 [00:00<00:00, 418.41it/s]\n",
      "Truncator: 100%|██████████| 10/10 [00:00<00:00, 568.96it/s]\n",
      "ProtBert: 100%|██████████| 10/10 [00:06<00:00,  1.44it/s]\n",
      "/home/jcapela/miniconda3/envs/deeplants/lib/python3.11/site-packages/lightning/pytorch/trainer/connectors/data_connector.py:425: The 'predict_dataloader' does not have many workers which may be a bottleneck. Consider increasing the value of the `num_workers` argument` to `num_workers=63` in the `DataLoader` to improve performance.\n"
     ]
    },
    {
     "name": "stdout",
     "output_type": "stream",
     "text": [
      "Predicting DataLoader 0: 100%|██████████| 1/1 [00:00<00:00, 161.92it/s]\n"
     ]
    },
    {
     "data": {
      "text/plain": [
       "array([1, 1, 1, 1, 1, 1, 1, 1, 1, 1])"
      ]
     },
     "execution_count": 11,
     "metadata": {},
     "output_type": "execute_result"
    }
   ],
   "source": [
    "enzymes_non_enzymes = pipeline.predict(dataset, \"enzyme_discrimination\")\n",
    "\n",
    "enzymes_non_enzymes = enzymes_non_enzymes.reshape((enzymes_non_enzymes.shape[0],))\n",
    "enzymes_non_enzymes[enzymes_non_enzymes==1]"
   ]
  },
  {
   "cell_type": "code",
   "execution_count": 1,
   "id": "992b106b",
   "metadata": {},
   "outputs": [
    {
     "name": "stderr",
     "output_type": "stream",
     "text": [
      "/home/jcapela/miniconda3/envs/deeplants/lib/python3.11/site-packages/tqdm/auto.py:22: TqdmWarning: IProgress not found. Please update jupyter and ipywidgets. See https://ipywidgets.readthedocs.io/en/stable/user_install.html\n",
      "  from .autonotebook import tqdm as notebook_tqdm\n"
     ]
    }
   ],
   "source": [
    "from plants_sm.data_structures.dataset.single_input_dataset import SingleInputDataset\n",
    "\n",
    "from plants_sm.data_standardization.truncation import Truncator\n",
    "from plants_sm.data_standardization.proteins.standardization import ProteinStandardizer\n",
    "from plants_sm.featurization.proteins.bio_embeddings.prot_bert import ProtBert\n",
    "from plants_sm.featurization.proteins.bio_embeddings.esm import ESMEncoder\n",
    "\n",
    "transformers = [ProteinStandardizer(), Truncator(max_length=884), ESMEncoder(esm_function=\"esm1b_t33_650M_UR50S\", device=\"cpu\")]\n",
    "\n",
    "dataset = SingleInputDataset.from_csv(\"data/aminotransferase_binary.csv\", representation_field=\"SEQ\", instances_ids_field=\"ids\", nrows=10)\n",
    "\n",
    "for i, transformer in enumerate(transformers):\n",
    "    transformers[i].fit(dataset)"
   ]
  },
  {
   "cell_type": "code",
   "execution_count": 8,
   "id": "294640c4",
   "metadata": {},
   "outputs": [
    {
     "name": "stderr",
     "output_type": "stream",
     "text": [
      "ProteinStandardizer: 100%|██████████| 10/10 [00:00<00:00, 293.63it/s]\n",
      "Truncator: 100%|██████████| 10/10 [00:00<00:00, 275.60it/s]\n",
      "ESM: 100%|██████████| 10/10 [00:09<00:00,  1.03it/s]\n"
     ]
    }
   ],
   "source": [
    "from plants_sm.pipeline.pipeline import Pipeline\n",
    "\n",
    "\n",
    "pipeline = Pipeline(steps=transformers, models=[])\n",
    "pipeline.transform(dataset)\n",
    "pipeline.save(\"ESM1b_pipeline_2\")"
   ]
  },
  {
   "cell_type": "code",
   "execution_count": null,
   "id": "de84227f",
   "metadata": {},
   "outputs": [],
   "source": [
    "import torch\n",
    "from plants_sm.models.fc.fc import DNN\n",
    "from plants_sm.models.pytorch_model import PyTorchModel\n",
    "from torch import nn\n",
    "\n",
    "model = DNN(1280, [2560, 5120], 5743, batch_norm=True, last_sigmoid=True)\n",
    "model.load_state_dict(torch.load(\"ESM1b_pipeline/esm1b.pt\"))\n",
    "model = PyTorchModel(model=model, loss_function=nn.BCELoss, model_name=\"ec_number\")\n",
    "pipeline.add_models(model)"
   ]
  },
  {
   "cell_type": "code",
   "execution_count": 3,
   "id": "a3c45fcb",
   "metadata": {},
   "outputs": [
    {
     "name": "stderr",
     "output_type": "stream",
     "text": [
      "ProteinStandardizer: 100%|██████████| 10/10 [00:00<00:00, 380.18it/s]\n",
      "Truncator: 100%|██████████| 10/10 [00:00<00:00, 466.44it/s]\n",
      "ESM: 100%|██████████| 10/10 [00:09<00:00,  1.06it/s]\n"
     ]
    },
    {
     "data": {
      "text/plain": [
       "array([[0., 1., 0., ..., 0., 0., 0.],\n",
       "       [0., 1., 0., ..., 0., 0., 0.],\n",
       "       [0., 1., 0., ..., 0., 0., 0.],\n",
       "       ...,\n",
       "       [0., 1., 0., ..., 0., 0., 0.],\n",
       "       [0., 1., 0., ..., 0., 0., 0.],\n",
       "       [0., 1., 0., ..., 0., 0., 0.]])"
      ]
     },
     "execution_count": 3,
     "metadata": {},
     "output_type": "execute_result"
    }
   ],
   "source": [
    "pipeline.predict(dataset)"
   ]
  },
  {
   "cell_type": "code",
   "execution_count": 4,
   "id": "f069ef49",
   "metadata": {},
   "outputs": [
    {
     "name": "stderr",
     "output_type": "stream",
     "text": [
      "💡 Tip: For seamless cloud uploads and versioning, try installing [litmodels](https://pypi.org/project/litmodels/) to enable LitModelCheckpoint, which syncs automatically with the Lightning model registry.\n",
      "GPU available: True (cuda), used: True\n",
      "TPU available: False, using: 0 TPU cores\n",
      "HPU available: False, using: 0 HPUs\n",
      "ProteinStandardizer: 100%|██████████| 10/10 [00:00<00:00, 370.50it/s]\n",
      "Truncator: 100%|██████████| 10/10 [00:00<00:00, 506.78it/s]\n",
      "ESM: 100%|██████████| 10/10 [00:09<00:00,  1.06it/s]\n",
      "/home/jcapela/miniconda3/envs/deeplants/lib/python3.11/site-packages/lightning/pytorch/trainer/connectors/data_connector.py:425: The 'predict_dataloader' does not have many workers which may be a bottleneck. Consider increasing the value of the `num_workers` argument` to `num_workers=63` in the `DataLoader` to improve performance.\n"
     ]
    },
    {
     "name": "stdout",
     "output_type": "stream",
     "text": [
      "Predicting DataLoader 0: 100%|██████████| 1/1 [00:00<00:00, 128.62it/s]\n"
     ]
    }
   ],
   "source": [
    "from plants_sm.models.lightning_model import InternalLightningModel\n",
    "from plants_sm.pathway_prediction._fine_tune_ec_number_prediction_model import FineTuneModelECNumber\n",
    "\n",
    "additional_layers = [1280]\n",
    "\n",
    "learning_rate = 0.0010584969012120454\n",
    "base_layers = [2560, 5120]\n",
    "batch_size = 16\n",
    "input_dim = 1280\n",
    "\n",
    "# module = FineTuneModelECNumber(input_dim=input_dim, additional_layers=additional_layers, classification_neurons=1, \\\n",
    "#     path_to_model=\"ProtBERT_pipeline/prot_bert.pt\", learning_rate=learning_rate, base_layers=base_layers, layers_to_freeze=len(base_layers), scheduler=False)\n",
    "\n",
    "module = FineTuneModelECNumber.load_from_checkpoint(\"esm1b_enzyme_discrimination/pytorch_model_weights.ckpt\",\n",
    "                                           input_dim=input_dim, additional_layers=additional_layers, classification_neurons=1, \n",
    "                                           base_layers=base_layers,\n",
    "                                            path_to_model=\"ESM1b_pipeline/esm1b.pt\")\n",
    "\n",
    "model = InternalLightningModel(module=module,\n",
    "        batch_size=batch_size,\n",
    "        devices=[2],\n",
    "        accelerator=\"gpu\", model_name=\"enzyme_discrimination\")\n",
    "\n",
    "from pytorch_lightning import Trainer\n",
    "dataset = pipeline.transform(dataset)\n",
    "model.predict(dataset)\n",
    "\n",
    "pipeline.add_models(model)"
   ]
  },
  {
   "cell_type": "code",
   "execution_count": 5,
   "id": "6ac04ff2",
   "metadata": {},
   "outputs": [
    {
     "name": "stderr",
     "output_type": "stream",
     "text": [
      "ProteinStandardizer: 100%|██████████| 10/10 [00:00<00:00, 403.72it/s]\n",
      "Truncator: 100%|██████████| 10/10 [00:00<00:00, 497.03it/s]\n",
      "ESM: 100%|██████████| 10/10 [00:09<00:00,  1.08it/s]\n"
     ]
    },
    {
     "name": "stdout",
     "output_type": "stream",
     "text": [
      "Predicting DataLoader 0: 100%|██████████| 1/1 [00:00<00:00, 108.81it/s]\n"
     ]
    },
    {
     "data": {
      "text/plain": [
       "array([1, 1, 1, 1, 1, 1, 1, 1, 1, 1])"
      ]
     },
     "execution_count": 5,
     "metadata": {},
     "output_type": "execute_result"
    }
   ],
   "source": [
    "enzymes_non_enzymes = pipeline.predict(dataset, \"enzyme_discrimination\")\n",
    "\n",
    "enzymes_non_enzymes = enzymes_non_enzymes.reshape((enzymes_non_enzymes.shape[0],))\n",
    "enzymes_non_enzymes[enzymes_non_enzymes==1]"
   ]
  },
  {
   "cell_type": "code",
   "execution_count": 6,
   "id": "0cff32c4",
   "metadata": {},
   "outputs": [
    {
     "ename": "AttributeError",
     "evalue": "Saving a checkpoint is only possible if a model is attached to the Trainer. Did you call `Trainer.save_checkpoint()` before calling `Trainer.{fit,validate,test,predict}`?",
     "output_type": "error",
     "traceback": [
      "\u001b[31m---------------------------------------------------------------------------\u001b[39m",
      "\u001b[31mAttributeError\u001b[39m                            Traceback (most recent call last)",
      "\u001b[36mCell\u001b[39m\u001b[36m \u001b[39m\u001b[32mIn[6]\u001b[39m\u001b[32m, line 1\u001b[39m\n\u001b[32m----> \u001b[39m\u001b[32m1\u001b[39m \u001b[43mpipeline\u001b[49m\u001b[43m.\u001b[49m\u001b[43msave\u001b[49m\u001b[43m(\u001b[49m\u001b[33;43m\"\u001b[39;49m\u001b[33;43mESM1b_pipeline_2\u001b[39;49m\u001b[33;43m\"\u001b[39;49m\u001b[43m)\u001b[49m\n",
      "\u001b[36mFile \u001b[39m\u001b[32m~/plants_ec_number_prediction/PlantsSM/src/plants_sm/pipeline/pipeline.py:249\u001b[39m, in \u001b[36mPipeline.save\u001b[39m\u001b[34m(self, path)\u001b[39m\n\u001b[32m    247\u001b[39m \u001b[38;5;28;01mif\u001b[39;00m os.path.exists(path):\n\u001b[32m    248\u001b[39m     \u001b[38;5;28;01mif\u001b[39;00m os.path.isdir(path):\n\u001b[32m--> \u001b[39m\u001b[32m249\u001b[39m         \u001b[38;5;28;43mself\u001b[39;49m\u001b[43m.\u001b[49m\u001b[43m_save\u001b[49m\u001b[43m(\u001b[49m\u001b[43mpath\u001b[49m\u001b[43m)\u001b[49m\n\u001b[32m    250\u001b[39m     \u001b[38;5;28;01melse\u001b[39;00m:\n\u001b[32m    251\u001b[39m         \u001b[38;5;28;01mraise\u001b[39;00m \u001b[38;5;167;01mValueError\u001b[39;00m(\u001b[33m\"\u001b[39m\u001b[33mThe path must be a directory\u001b[39m\u001b[33m\"\u001b[39m)\n",
      "\u001b[36mFile \u001b[39m\u001b[32m~/plants_ec_number_prediction/PlantsSM/src/plants_sm/pipeline/pipeline.py:228\u001b[39m, in \u001b[36mPipeline._save\u001b[39m\u001b[34m(self, path)\u001b[39m\n\u001b[32m    226\u001b[39m \u001b[38;5;28;01mfor\u001b[39;00m model \u001b[38;5;129;01min\u001b[39;00m \u001b[38;5;28mself\u001b[39m.models:\n\u001b[32m    227\u001b[39m     config[\u001b[33m\"\u001b[39m\u001b[33mmodels\u001b[39m\u001b[33m\"\u001b[39m].append(model.name)\n\u001b[32m--> \u001b[39m\u001b[32m228\u001b[39m     \u001b[43mmodel\u001b[49m\u001b[43m.\u001b[49m\u001b[43msave\u001b[49m\u001b[43m(\u001b[49m\u001b[43mos\u001b[49m\u001b[43m.\u001b[49m\u001b[43mpath\u001b[49m\u001b[43m.\u001b[49m\u001b[43mjoin\u001b[49m\u001b[43m(\u001b[49m\u001b[43mpath\u001b[49m\u001b[43m,\u001b[49m\u001b[43m \u001b[49m\u001b[43mmodel\u001b[49m\u001b[43m.\u001b[49m\u001b[43mname\u001b[49m\u001b[43m)\u001b[49m\u001b[43m)\u001b[49m\n\u001b[32m    230\u001b[39m \u001b[38;5;28;01mif\u001b[39;00m \u001b[38;5;28mself\u001b[39m.metrics \u001b[38;5;129;01mis\u001b[39;00m \u001b[38;5;129;01mnot\u001b[39;00m \u001b[38;5;28;01mNone\u001b[39;00m:\n\u001b[32m    231\u001b[39m     \u001b[38;5;28;01mfor\u001b[39;00m metric \u001b[38;5;129;01min\u001b[39;00m \u001b[38;5;28mself\u001b[39m.metrics:\n",
      "\u001b[36mFile \u001b[39m\u001b[32m~/plants_ec_number_prediction/PlantsSM/src/plants_sm/models/model.py:218\u001b[39m, in \u001b[36mModel.save\u001b[39m\u001b[34m(self, path)\u001b[39m\n\u001b[32m    216\u001b[39m \u001b[38;5;28;01mif\u001b[39;00m os.path.exists(path):\n\u001b[32m    217\u001b[39m     \u001b[38;5;28;01mif\u001b[39;00m os.path.isdir(path):\n\u001b[32m--> \u001b[39m\u001b[32m218\u001b[39m         \u001b[38;5;28;43mself\u001b[39;49m\u001b[43m.\u001b[49m\u001b[43m_save\u001b[49m\u001b[43m(\u001b[49m\u001b[43mpath\u001b[49m\u001b[43m)\u001b[49m\n\u001b[32m    219\u001b[39m     \u001b[38;5;28;01melse\u001b[39;00m:\n\u001b[32m    220\u001b[39m         \u001b[38;5;28;01mraise\u001b[39;00m \u001b[38;5;167;01mValueError\u001b[39;00m(\u001b[33mf\u001b[39m\u001b[33m'\u001b[39m\u001b[33mPath \u001b[39m\u001b[38;5;132;01m{\u001b[39;00mpath\u001b[38;5;132;01m}\u001b[39;00m\u001b[33m is not a directory.\u001b[39m\u001b[33m'\u001b[39m)\n",
      "\u001b[36mFile \u001b[39m\u001b[32m~/plants_ec_number_prediction/PlantsSM/src/plants_sm/models/lightning_model.py:247\u001b[39m, in \u001b[36mInternalLightningModel._save\u001b[39m\u001b[34m(self, path)\u001b[39m\n\u001b[32m    245\u001b[39m weights_path = os.path.join(path, FileConstants.LIGHTNING_WEIGHTS.value)\n\u001b[32m    246\u001b[39m weights_path = os.path.join(path, FileConstants.LIGHTNING_WEIGHTS.value)\n\u001b[32m--> \u001b[39m\u001b[32m247\u001b[39m \u001b[38;5;28;43mself\u001b[39;49m\u001b[43m.\u001b[49m\u001b[43mtrainer\u001b[49m\u001b[43m.\u001b[49m\u001b[43msave_checkpoint\u001b[49m\u001b[43m(\u001b[49m\u001b[43mweights_path\u001b[49m\u001b[43m)\u001b[49m\n\u001b[32m    248\u001b[39m write_pickle(os.path.join(path, \u001b[33m\"\u001b[39m\u001b[33mtrainer.pk\u001b[39m\u001b[33m\"\u001b[39m), \u001b[38;5;28mself\u001b[39m.trainer)\n\u001b[32m    249\u001b[39m write_pickle(os.path.join(path, FileConstants.LIGHTNING_MODEL_PKL.value), \u001b[38;5;28mself\u001b[39m.module.\u001b[34m__class__\u001b[39m)\n",
      "\u001b[36mFile \u001b[39m\u001b[32m~/miniconda3/envs/deeplants/lib/python3.11/site-packages/lightning/pytorch/trainer/trainer.py:1391\u001b[39m, in \u001b[36mTrainer.save_checkpoint\u001b[39m\u001b[34m(self, filepath, weights_only, storage_options)\u001b[39m\n\u001b[32m   1375\u001b[39m \u001b[38;5;250m\u001b[39m\u001b[33mr\u001b[39m\u001b[33;03m\"\"\"Runs routine to create a checkpoint.\u001b[39;00m\n\u001b[32m   1376\u001b[39m \n\u001b[32m   1377\u001b[39m \u001b[33;03mThis method needs to be called on all processes in case the selected strategy is handling distributed\u001b[39;00m\n\u001b[32m   (...)\u001b[39m\u001b[32m   1388\u001b[39m \n\u001b[32m   1389\u001b[39m \u001b[33;03m\"\"\"\u001b[39;00m\n\u001b[32m   1390\u001b[39m \u001b[38;5;28;01mif\u001b[39;00m \u001b[38;5;28mself\u001b[39m.model \u001b[38;5;129;01mis\u001b[39;00m \u001b[38;5;28;01mNone\u001b[39;00m:\n\u001b[32m-> \u001b[39m\u001b[32m1391\u001b[39m     \u001b[38;5;28;01mraise\u001b[39;00m \u001b[38;5;167;01mAttributeError\u001b[39;00m(\n\u001b[32m   1392\u001b[39m         \u001b[33m\"\u001b[39m\u001b[33mSaving a checkpoint is only possible if a model is attached to the Trainer. Did you call\u001b[39m\u001b[33m\"\u001b[39m\n\u001b[32m   1393\u001b[39m         \u001b[33m\"\u001b[39m\u001b[33m `Trainer.save_checkpoint()` before calling `Trainer.\u001b[39m\u001b[33m{\u001b[39m\u001b[33mfit,validate,test,predict}`?\u001b[39m\u001b[33m\"\u001b[39m\n\u001b[32m   1394\u001b[39m     )\n\u001b[32m   1395\u001b[39m \u001b[38;5;28;01mwith\u001b[39;00m \u001b[38;5;28mself\u001b[39m.profiler.profile(\u001b[33m\"\u001b[39m\u001b[33msave_checkpoint\u001b[39m\u001b[33m\"\u001b[39m):\n\u001b[32m   1396\u001b[39m     checkpoint = \u001b[38;5;28mself\u001b[39m._checkpoint_connector.dump_checkpoint(weights_only)\n",
      "\u001b[31mAttributeError\u001b[39m: Saving a checkpoint is only possible if a model is attached to the Trainer. Did you call `Trainer.save_checkpoint()` before calling `Trainer.{fit,validate,test,predict}`?"
     ]
    }
   ],
   "source": [
    "pipeline.save(\"ESM1b_pipeline_2\")"
   ]
  }
 ],
 "metadata": {
  "kernelspec": {
   "display_name": "deeplants",
   "language": "python",
   "name": "python3"
  },
  "language_info": {
   "codemirror_mode": {
    "name": "ipython",
    "version": 3
   },
   "file_extension": ".py",
   "mimetype": "text/x-python",
   "name": "python",
   "nbconvert_exporter": "python",
   "pygments_lexer": "ipython3",
   "version": "3.11.13"
  }
 },
 "nbformat": 4,
 "nbformat_minor": 5
}
