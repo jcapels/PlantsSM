{
 "cells": [
  {
   "cell_type": "code",
   "execution_count": 1,
   "id": "80e9ca83",
   "metadata": {},
   "outputs": [
    {
     "name": "stderr",
     "output_type": "stream",
     "text": [
      "/home/jcapela/miniconda3/envs/deeplants/lib/python3.11/site-packages/tqdm/auto.py:22: TqdmWarning: IProgress not found. Please update jupyter and ipywidgets. See https://ipywidgets.readthedocs.io/en/stable/user_install.html\n",
      "  from .autonotebook import tqdm as notebook_tqdm\n"
     ]
    }
   ],
   "source": [
    "\n",
    "from plants_sm.data_standardization.truncation import Truncator\n",
    "from plants_sm.data_standardization.proteins.standardization import ProteinStandardizer\n",
    "from plants_sm.featurization.proteins.bio_embeddings.prot_bert import ProtBert"
   ]
  },
  {
   "cell_type": "code",
   "execution_count": 15,
   "id": "36956fae",
   "metadata": {},
   "outputs": [],
   "source": [
    "import torch\n",
    "from plants_sm.models.fc.fc import DNN\n",
    "from plants_sm.models.pytorch_model import PyTorchModel\n",
    "from torch import nn\n",
    "\n",
    "\n",
    "transformers = [ProteinStandardizer(), Truncator(max_length=884), ProtBert(device=\"cpu\")]\n",
    "model = DNN(1024, [2560], 5743, batch_norm=True, last_sigmoid=True)\n",
    "model.load_state_dict(torch.load(\"prot_bert.pt\"))\n",
    "model = PyTorchModel(model=model, loss_function=nn.BCELoss, model_name=\"ec_number\")"
   ]
  },
  {
   "cell_type": "code",
   "execution_count": 16,
   "id": "38c164a8",
   "metadata": {},
   "outputs": [],
   "source": [
    "from plants_sm.data_structures.dataset.single_input_dataset import SingleInputDataset\n",
    "\n",
    "\n",
    "dataset = SingleInputDataset.from_csv(\"data/aminotransferase_binary.csv\", representation_field=\"SEQ\", instances_ids_field=\"ids\", nrows=10)\n",
    "\n",
    "for i, transformer in enumerate(transformers):\n",
    "    transformers[i].fit(dataset)"
   ]
  },
  {
   "cell_type": "code",
   "execution_count": 17,
   "id": "b5ab0676",
   "metadata": {},
   "outputs": [
    {
     "data": {
      "text/plain": [
       "True"
      ]
     },
     "execution_count": 17,
     "metadata": {},
     "output_type": "execute_result"
    }
   ],
   "source": [
    "transformers[i].fitted"
   ]
  },
  {
   "cell_type": "code",
   "execution_count": 18,
   "id": "20b1e533",
   "metadata": {},
   "outputs": [],
   "source": [
    "from plants_sm.data_structures.dataset.single_input_dataset import SingleInputDataset\n",
    "from plants_sm.pipeline.pipeline import Pipeline\n",
    "\n",
    "\n",
    "pipeline = Pipeline(steps=transformers, models=[model])\n",
    "\n",
    "dataset = SingleInputDataset.from_csv(\"data/aminotransferase_binary.csv\", representation_field=\"SEQ\", instances_ids_field=\"ids\", nrows=10)"
   ]
  },
  {
   "cell_type": "code",
   "execution_count": 19,
   "id": "571cf997",
   "metadata": {},
   "outputs": [
    {
     "name": "stderr",
     "output_type": "stream",
     "text": [
      "ProteinStandardizer: 100%|██████████| 10/10 [00:00<00:00, 281.56it/s]\n",
      "Truncator: 100%|██████████| 10/10 [00:00<00:00, 316.25it/s]\n",
      "ProtBert: 100%|██████████| 10/10 [00:07<00:00,  1.38it/s]\n"
     ]
    },
    {
     "data": {
      "text/plain": [
       "array([[0., 1., 0., ..., 0., 0., 0.],\n",
       "       [0., 1., 0., ..., 0., 0., 0.],\n",
       "       [0., 1., 0., ..., 0., 0., 0.],\n",
       "       ...,\n",
       "       [0., 1., 0., ..., 0., 0., 0.],\n",
       "       [0., 1., 0., ..., 0., 0., 0.],\n",
       "       [0., 1., 0., ..., 0., 0., 0.]])"
      ]
     },
     "execution_count": 19,
     "metadata": {},
     "output_type": "execute_result"
    }
   ],
   "source": [
    "pipeline.predict(dataset)"
   ]
  },
  {
   "cell_type": "code",
   "execution_count": 21,
   "id": "64010413",
   "metadata": {},
   "outputs": [],
   "source": [
    "pipeline.save(\"DNN_ProtBERT_all_data\")"
   ]
  }
 ],
 "metadata": {
  "kernelspec": {
   "display_name": "deeplants",
   "language": "python",
   "name": "python3"
  },
  "language_info": {
   "codemirror_mode": {
    "name": "ipython",
    "version": 3
   },
   "file_extension": ".py",
   "mimetype": "text/x-python",
   "name": "python",
   "nbconvert_exporter": "python",
   "pygments_lexer": "ipython3",
   "version": "3.11.13"
  }
 },
 "nbformat": 4,
 "nbformat_minor": 5
}
